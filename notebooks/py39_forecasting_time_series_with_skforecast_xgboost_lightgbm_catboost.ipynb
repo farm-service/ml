{
  "cells": [
    {
      "cell_type": "markdown",
      "metadata": {
        "id": "pRygVQNEGGdi"
      },
      "source": []
    },
    {
      "cell_type": "markdown",
      "metadata": {
        "id": "A2Ez-cZfGGdl"
      },
      "source": [
        "<h1><center><font size=\"25\">Forecasting time series with gradient boosting: Skforecast, XGBoost, LightGBM, Scikit-learn y CatBoost</font></center></h1>"
      ]
    },
    {
      "cell_type": "markdown",
      "metadata": {
        "id": "gPI5t3EHGGdl"
      },
      "source": [
        "<center><b>Joaquín Amat Rodrigo, Javier Escobar Ortiz</b></center>\n",
        "\n",
        "<center><i>February, 2021 (last update May 2023)</i></center>"
      ]
    },
    {
      "cell_type": "markdown",
      "metadata": {
        "id": "LOY5qyW7GGdm"
      },
      "source": [
        "+ [Skforecast: time series forecasting with Python and Scikit-learn](https://www.cienciadedatos.net/documentos/py27-time-series-forecasting-python-scikitlearn.html)\n",
        "+ [Forecasting electricity demand with Python](https://www.cienciadedatos.net/documentos/py29-forecasting-electricity-power-demand-python.html)\n",
        "+ [Forecasting web traffic with machine learning and Python](https://www.cienciadedatos.net/documentos/py37-forecasting-web-traffic-machine-learning.html)\n",
        "+ [Bitcoin price prediction with Python, when the past does not repeat itself](https://www.cienciadedatos.net/documentos/py41-forecasting-cryptocurrency-bitcoin-machine-learning-python.html)\n",
        "+ [Prediction intervals in forecasting models](https://www.cienciadedatos.net/documentos/py42-forecasting-prediction-intervals-machine-learning.html)\n",
        "+ [Multi-series forecasting](https://www.cienciadedatos.net/documentos/py44-multi-series-forecasting-skforecast.html)\n",
        "+ [Reducing the influence of Covid-19 on time series forecasting models](https://www.cienciadedatos.net/documentos/py45-weighted-time-series-forecasting.html)\n",
        "+ [Forecasting time series with missing values](https://www.cienciadedatos.net/documentos/py46-forecasting-time-series-missing-values.html)\n",
        "+ [Intermittent demand forecasting](https://www.cienciadedatos.net/documentos/py48-intermittent-demand-forecasting.html)"
      ]
    },
    {
      "cell_type": "markdown",
      "metadata": {
        "id": "vQQFVLhIGGdm"
      },
      "source": [
        "## Introduction\n",
        "<br>\n",
        "\n",
        "Gradient boosting models have gained popularity in the machine learning community due to their ability to achieve excellent results in a wide range of use cases, including both regression and classification. Although these models have traditionally been less common in forecasting, recent research has shown that they can be highly effective in this domain. Some of the key benefits of using gradient boosting models for forecasting include:\n",
        "\n",
        "+ The ease with which exogenous variables can be included in the model, in addition to autoregressive variables.\n",
        "\n",
        "+ The ability to capture non-linear relationships between variables.\n",
        "\n",
        "+ High scalability, allowing models to handle large volumes of data.\n",
        "\n",
        "+ Some implementations allow the inclusion of categorical variables without the need for one-hot coding.\n",
        "\n",
        "Despite these benefits, the use of machine learning models for forecasting can present several challenges that can make analysts reluctant to use them, the main ones being\n",
        "\n",
        "+ Transforming the data so that it can be used as a regression problem.\n",
        "\n",
        "+ Depending on how many future predictions are needed (prediction horizon), an iterative process may be required where each new prediction is based on previous ones.\n",
        "\n",
        "+ Model validation requires specific strategies such as backtesting, walk-forward validation or time series cross-validation. Traditional cross-validation cannot be used.\n",
        "\n",
        "The [**skforecast**](https://skforecast.org/) library provides automated solutions to these challenges, making it easier to apply and validate machine learning models to forecasting problems. The library supports several advanced gradient boosting models, including **XGBoost**, **LightGBM**, **Catboost** and **scikit-learn HistGradientBoostingRegressor**. This document shows how to use them to build accurate forecasting models.\n",
        "\n",
        "\n",
        "<div class=\"admonition note\" name=\"html-admonition\" style=\"background: rgba(0,184,212,.1); padding-top: 0px; padding-bottom: 6px; border-radius: 8px; border-left: 8px solid #00b8d4; padding-left: 10px;\">\n",
        "\n",
        "<p class=\"title\">\n",
        "    <i style=\"font-size: 18px; color:#00b8d4;\"></i>\n",
        "    <b style=\"color: #00b8d4;\">🖉 Note</b>\n",
        "</p>\n",
        "\n",
        "Machine learning models do not always outperform statistical learning models such as AR, ARIMA or Exponential Smoothing. Which one works best depends largely on the characteristics of the use case to which it is applied.\n",
        "</div>"
      ]
    },
    {
      "cell_type": "markdown",
      "metadata": {
        "id": "EaABv3UgGGdn"
      },
      "source": [
        "<div class=\"admonition note\" name=\"html-admonition\" style=\"background: rgba(255,145,0,.1); padding-top: 0px; padding-bottom: 6px; border-radius: 8px; border-left: 8px solid #ff9100; padding-left: 10px;\">\n",
        "\n",
        "<p class=\"title\">\n",
        "    <i style=\"font-size: 18px; color:#ff9100; border-color: #ff1744;\"></i>\n",
        "    <b style=\"color: #ff9100;\">⚠ Warning</b>\n",
        "</p>\n",
        "\n",
        "The four gradient boosting frameworks – <b>LightGBM</b>, <b>scikit-learn's HistogramGradientBoosting</b>, <b>XGBoost</b>, and <b>CatBoost</b> – are capable of directly handling categorical features within the model.  However, it is important to note that each framework has its own configurations, benefits and potential problems. To fully comprehend how to use these frameworks, it is highly recommended to refer to the skforecast <a href=\"https://skforecast.org/latest/user_guides/categorical-features.html\">user guide</a> for a detailed understanding.\n",
        "\n",
        "</div>\n",
        "\n",
        "<br>"
      ]
    },
    {
      "cell_type": "markdown",
      "metadata": {
        "id": "UCrD-mZxGGdn"
      },
      "source": [
        "## Case of use\n",
        "<br>\n",
        "\n",
        "\n",
        "Bicycle sharing is a popular shared transport service that provides bicycles to individuals for short-term use. These systems typically provide bike docks where riders can borrow a bike and return it to any dock belonging to the same system. The docks are equipped with special bike racks that secure the bike and only release it via computer control.\n",
        "\n",
        "One of the major challenges faced by operators of these systems is the need to redistribute bikes to ensure that there are bikes available at all docks, as well as free spaces for returns.\n",
        "\n",
        "In order to improve the planning and execution of bicycle distribution, it is proposed to create a model capable of forecasting the number of users over the next 36 hours. In this way, at 12:00 every day, the company in charge of managing the system will be able to know the expected demand for the rest of the day (12 hours) and the next day (24 hours).\n",
        "\n",
        "For illustrative purposes, the current example only models a single station, but the predictive model can be adapted and extended to cover multiple stations, thereby improving the management of bike-sharing systems on a larger scale.\n",
        "<br><br>"
      ]
    },
    {
      "cell_type": "markdown",
      "metadata": {
        "id": "YfSDp4kjGGdo",
        "tags": []
      },
      "source": [
        "## Libraries\n",
        "<br>\n",
        "\n",
        "Libraries used in this document."
      ]
    },
    {
      "cell_type": "code",
      "execution_count": 11,
      "metadata": {
        "colab": {
          "base_uri": "https://localhost:8080/"
        },
        "id": "fzmS5uMbQKUo",
        "outputId": "11e11f8a-e6a5-4a37-8824-182655bfa4cd"
      },
      "outputs": [
        {
          "name": "stdout",
          "output_type": "stream",
          "text": [
            "Requirement already satisfied: skforecast in c:\\users\\ntwri\\work\\farm-service\\ml\\venv\\lib\\site-packages (0.11.0)\n",
            "Requirement already satisfied: session_info in c:\\users\\ntwri\\work\\farm-service\\ml\\venv\\lib\\site-packages (1.0.0)\n",
            "Requirement already satisfied: catboost in c:\\users\\ntwri\\work\\farm-service\\ml\\venv\\lib\\site-packages (1.2.3)\n",
            "Requirement already satisfied: statsmodels in c:\\users\\ntwri\\work\\farm-service\\ml\\venv\\lib\\site-packages (0.14.1)\n",
            "Requirement already satisfied: xgboost in c:\\users\\ntwri\\work\\farm-service\\ml\\venv\\lib\\site-packages (2.0.3)\n",
            "Collecting lightgbm\n",
            "  Downloading lightgbm-4.3.0-py3-none-win_amd64.whl (1.3 MB)\n",
            "     ---------------------------------------- 1.3/1.3 MB 8.5 MB/s eta 0:00:00\n",
            "Requirement already satisfied: optuna<3.5,>=2.10.0 in c:\\users\\ntwri\\work\\farm-service\\ml\\venv\\lib\\site-packages (from skforecast) (3.4.0)\n",
            "Requirement already satisfied: scikit-learn<1.4,>=1.0 in c:\\users\\ntwri\\work\\farm-service\\ml\\venv\\lib\\site-packages (from skforecast) (1.3.2)\n",
            "Requirement already satisfied: tqdm<4.67,>=4.57.0 in c:\\users\\ntwri\\work\\farm-service\\ml\\venv\\lib\\site-packages (from skforecast) (4.66.2)\n",
            "Requirement already satisfied: joblib<1.4,>=1.1.0 in c:\\users\\ntwri\\work\\farm-service\\ml\\venv\\lib\\site-packages (from skforecast) (1.3.2)\n",
            "Requirement already satisfied: pandas<2.2,>=1.2 in c:\\users\\ntwri\\work\\farm-service\\ml\\venv\\lib\\site-packages (from skforecast) (2.1.4)\n",
            "Requirement already satisfied: numpy<1.27,>=1.20 in c:\\users\\ntwri\\work\\farm-service\\ml\\venv\\lib\\site-packages (from skforecast) (1.26.4)\n",
            "Requirement already satisfied: stdlib_list in c:\\users\\ntwri\\work\\farm-service\\ml\\venv\\lib\\site-packages (from session_info) (0.10.0)\n",
            "Requirement already satisfied: matplotlib in c:\\users\\ntwri\\work\\farm-service\\ml\\venv\\lib\\site-packages (from catboost) (3.8.4)\n",
            "Requirement already satisfied: plotly in c:\\users\\ntwri\\work\\farm-service\\ml\\venv\\lib\\site-packages (from catboost) (5.20.0)\n",
            "Requirement already satisfied: scipy in c:\\users\\ntwri\\work\\farm-service\\ml\\venv\\lib\\site-packages (from catboost) (1.13.0)\n",
            "Requirement already satisfied: six in c:\\users\\ntwri\\work\\farm-service\\ml\\venv\\lib\\site-packages (from catboost) (1.16.0)\n",
            "Requirement already satisfied: graphviz in c:\\users\\ntwri\\work\\farm-service\\ml\\venv\\lib\\site-packages (from catboost) (0.20.3)\n",
            "Requirement already satisfied: patsy>=0.5.4 in c:\\users\\ntwri\\work\\farm-service\\ml\\venv\\lib\\site-packages (from statsmodels) (0.5.6)\n",
            "Requirement already satisfied: packaging>=21.3 in c:\\users\\ntwri\\work\\farm-service\\ml\\venv\\lib\\site-packages (from statsmodels) (24.0)\n",
            "Requirement already satisfied: alembic>=1.5.0 in c:\\users\\ntwri\\work\\farm-service\\ml\\venv\\lib\\site-packages (from optuna<3.5,>=2.10.0->skforecast) (1.13.1)\n",
            "Requirement already satisfied: sqlalchemy>=1.3.0 in c:\\users\\ntwri\\work\\farm-service\\ml\\venv\\lib\\site-packages (from optuna<3.5,>=2.10.0->skforecast) (2.0.29)\n",
            "Requirement already satisfied: colorlog in c:\\users\\ntwri\\work\\farm-service\\ml\\venv\\lib\\site-packages (from optuna<3.5,>=2.10.0->skforecast) (6.8.2)\n",
            "Requirement already satisfied: PyYAML in c:\\users\\ntwri\\work\\farm-service\\ml\\venv\\lib\\site-packages (from optuna<3.5,>=2.10.0->skforecast) (6.0.1)\n",
            "Requirement already satisfied: pytz>=2020.1 in c:\\users\\ntwri\\work\\farm-service\\ml\\venv\\lib\\site-packages (from pandas<2.2,>=1.2->skforecast) (2024.1)\n",
            "Requirement already satisfied: tzdata>=2022.1 in c:\\users\\ntwri\\work\\farm-service\\ml\\venv\\lib\\site-packages (from pandas<2.2,>=1.2->skforecast) (2024.1)\n",
            "Requirement already satisfied: python-dateutil>=2.8.2 in c:\\users\\ntwri\\work\\farm-service\\ml\\venv\\lib\\site-packages (from pandas<2.2,>=1.2->skforecast) (2.9.0.post0)\n",
            "Requirement already satisfied: threadpoolctl>=2.0.0 in c:\\users\\ntwri\\work\\farm-service\\ml\\venv\\lib\\site-packages (from scikit-learn<1.4,>=1.0->skforecast) (3.4.0)\n",
            "Requirement already satisfied: colorama in c:\\users\\ntwri\\work\\farm-service\\ml\\venv\\lib\\site-packages (from tqdm<4.67,>=4.57.0->skforecast) (0.4.6)\n",
            "Requirement already satisfied: fonttools>=4.22.0 in c:\\users\\ntwri\\work\\farm-service\\ml\\venv\\lib\\site-packages (from matplotlib->catboost) (4.51.0)\n",
            "Requirement already satisfied: kiwisolver>=1.3.1 in c:\\users\\ntwri\\work\\farm-service\\ml\\venv\\lib\\site-packages (from matplotlib->catboost) (1.4.5)\n",
            "Requirement already satisfied: pillow>=8 in c:\\users\\ntwri\\work\\farm-service\\ml\\venv\\lib\\site-packages (from matplotlib->catboost) (10.3.0)\n",
            "Requirement already satisfied: cycler>=0.10 in c:\\users\\ntwri\\work\\farm-service\\ml\\venv\\lib\\site-packages (from matplotlib->catboost) (0.12.1)\n",
            "Requirement already satisfied: pyparsing>=2.3.1 in c:\\users\\ntwri\\work\\farm-service\\ml\\venv\\lib\\site-packages (from matplotlib->catboost) (3.1.2)\n",
            "Requirement already satisfied: contourpy>=1.0.1 in c:\\users\\ntwri\\work\\farm-service\\ml\\venv\\lib\\site-packages (from matplotlib->catboost) (1.2.1)\n",
            "Requirement already satisfied: tenacity>=6.2.0 in c:\\users\\ntwri\\work\\farm-service\\ml\\venv\\lib\\site-packages (from plotly->catboost) (8.2.3)\n",
            "Requirement already satisfied: Mako in c:\\users\\ntwri\\work\\farm-service\\ml\\venv\\lib\\site-packages (from alembic>=1.5.0->optuna<3.5,>=2.10.0->skforecast) (1.3.2)\n",
            "Requirement already satisfied: typing-extensions>=4 in c:\\users\\ntwri\\work\\farm-service\\ml\\venv\\lib\\site-packages (from alembic>=1.5.0->optuna<3.5,>=2.10.0->skforecast) (4.11.0)\n",
            "Requirement already satisfied: greenlet!=0.4.17 in c:\\users\\ntwri\\work\\farm-service\\ml\\venv\\lib\\site-packages (from sqlalchemy>=1.3.0->optuna<3.5,>=2.10.0->skforecast) (3.0.3)\n",
            "Requirement already satisfied: MarkupSafe>=0.9.2 in c:\\users\\ntwri\\work\\farm-service\\ml\\venv\\lib\\site-packages (from Mako->alembic>=1.5.0->optuna<3.5,>=2.10.0->skforecast) (2.1.5)\n",
            "Installing collected packages: lightgbm\n",
            "Successfully installed lightgbm-4.3.0\n",
            "Note: you may need to restart the kernel to use updated packages.\n"
          ]
        },
        {
          "name": "stderr",
          "output_type": "stream",
          "text": [
            "WARNING: You are using pip version 22.0.4; however, version 24.0 is available.\n",
            "You should consider upgrading via the 'c:\\Users\\ntwri\\Work\\farm-service\\ml\\venv\\Scripts\\python.exe -m pip install --upgrade pip' command.\n"
          ]
        }
      ],
      "source": [
        "%pip install skforecast session_info catboost statsmodels xgboost lightgbm"
      ]
    },
    {
      "cell_type": "code",
      "execution_count": 2,
      "metadata": {
        "colab": {
          "base_uri": "https://localhost:8080/",
          "height": 219
        },
        "id": "ozT5JhNRGGdo",
        "outputId": "e2faf535-7c5b-4bdf-d8d5-a2e3d72c47cf",
        "tags": []
      },
      "outputs": [],
      "source": [
        "# Data processing\n",
        "# ==============================================================================\n",
        "import numpy as np\n",
        "import pandas as pd\n",
        "\n",
        "# Plots\n",
        "# ==============================================================================\n",
        "import matplotlib.pyplot as plt\n",
        "from statsmodels.graphics.tsaplots import plot_acf\n",
        "from statsmodels.graphics.tsaplots import plot_pacf\n",
        "import plotly.graph_objects as go\n",
        "import plotly.express as px\n",
        "import plotly.io as pio\n",
        "pio.templates.default = \"seaborn\"\n",
        "plt.style.use('seaborn-v0_8-darkgrid')\n",
        "\n",
        "# Modelling and Forecasting\n",
        "# ==============================================================================\n",
        "import xgboost as xgb\n",
        "from lightgbm import LGBMRegressor\n",
        "from catboost import CatBoostRegressor\n",
        "from sklearn.ensemble import HistGradientBoostingRegressor\n",
        "\n",
        "from sklearn.preprocessing import OneHotEncoder\n",
        "from sklearn.preprocessing import OrdinalEncoder\n",
        "from sklearn.preprocessing import FunctionTransformer\n",
        "from sklearn.pipeline import make_pipeline\n",
        "from sklearn.compose import make_column_transformer\n",
        "from sklearn.compose import make_column_selector\n",
        "\n",
        "from skforecast.ForecasterAutoreg import ForecasterAutoreg\n",
        "from skforecast.ForecasterAutoregDirect import ForecasterAutoregDirect\n",
        "from skforecast.model_selection import grid_search_forecaster\n",
        "from skforecast.model_selection import backtesting_forecaster\n",
        "\n",
        "# Configuration warnings\n",
        "# ==============================================================================\n",
        "import warnings"
      ]
    },
    {
      "cell_type": "markdown",
      "metadata": {
        "id": "XFSgJMHSGGdp"
      },
      "source": [
        "## Data\n",
        "<br>\n",
        "\n",
        "The data in this document represent the hourly usage of the bike share system in the city of Washington, D.C. during the years 2011 and 2012. In addition to the number of users per hour, information about weather conditions and holidays is available. The original data was obtained from the [UCI Machine Learning Repository](https://archive.ics.uci.edu/ml/datasets/bike+sharing+dataset) and has been previously cleaned ([code](https://github.com/JoaquinAmatRodrigo/Estadistica-machine-learning-python/blob/master/code/prepare_bike_sharing_dataset.ipynb)) applying the following modifications:\n",
        "\n",
        "+ Renamed columns with more descriptive names.\n",
        "\n",
        "+ Renamed categories of the weather variables. The category of `heavy_rain` has been combined with that of `rain`.\n",
        "\n",
        "+ Denormalized temperature, humidity and wind variables.\n",
        "\n",
        "+ `date_time` variable created and set as index.\n",
        "\n",
        "+ Imputed missing values by forward filling.\n",
        "\n",
        "\n",
        "The resulting data set contains the columns:\n",
        "\n",
        "- date_time: date and time.\n",
        "\n",
        "- month: month (1 to 12).\n",
        "\n",
        "- hour: hour (0 to 23).\n",
        "\n",
        "- holiday: whether or not the day is a holiday (taken from http://dchr.dc.gov/page/holiday-schedule).\n",
        "\n",
        "- weekday: day of the week (Monday = 0, Sunday = 6).\n",
        "\n",
        "- workingday : if it is a working day.\n",
        "\n",
        "- weather: the weather of the day (clear, mist, rain).\n",
        "\n",
        "- temp: recorded temperature.\n",
        "\n",
        "- atemp: thermal sensation.\n",
        "\n",
        "- hum: recorded humidity.\n",
        "\n",
        "- windspeed: recorded wind speed.\n",
        "\n",
        "- users: total number of users of the bike rental service.\n",
        "\n",
        "<br><br>"
      ]
    },
    {
      "cell_type": "markdown",
      "metadata": {},
      "source": [
        "## Pizza Sales dataset cleaning"
      ]
    },
    {
      "cell_type": "code",
      "execution_count": 155,
      "metadata": {},
      "outputs": [
        {
          "data": {
            "text/html": [
              "<div>\n",
              "<style scoped>\n",
              "    .dataframe tbody tr th:only-of-type {\n",
              "        vertical-align: middle;\n",
              "    }\n",
              "\n",
              "    .dataframe tbody tr th {\n",
              "        vertical-align: top;\n",
              "    }\n",
              "\n",
              "    .dataframe thead th {\n",
              "        text-align: right;\n",
              "    }\n",
              "</style>\n",
              "<table border=\"1\" class=\"dataframe\">\n",
              "  <thead>\n",
              "    <tr style=\"text-align: right;\">\n",
              "      <th></th>\n",
              "      <th>order_date</th>\n",
              "      <th>quantity</th>\n",
              "      <th>day</th>\n",
              "      <th>holiday</th>\n",
              "      <th>weekday</th>\n",
              "    </tr>\n",
              "  </thead>\n",
              "  <tbody>\n",
              "    <tr>\n",
              "      <th>0</th>\n",
              "      <td>2015-01-01</td>\n",
              "      <td>1</td>\n",
              "      <td>1</td>\n",
              "      <td>0</td>\n",
              "      <td>5</td>\n",
              "    </tr>\n",
              "    <tr>\n",
              "      <th>1</th>\n",
              "      <td>2015-01-02</td>\n",
              "      <td>1</td>\n",
              "      <td>2</td>\n",
              "      <td>0</td>\n",
              "      <td>6</td>\n",
              "    </tr>\n",
              "    <tr>\n",
              "      <th>2</th>\n",
              "      <td>2015-01-03</td>\n",
              "      <td>2</td>\n",
              "      <td>3</td>\n",
              "      <td>0</td>\n",
              "      <td>7</td>\n",
              "    </tr>\n",
              "    <tr>\n",
              "      <th>3</th>\n",
              "      <td>2015-01-04</td>\n",
              "      <td>1</td>\n",
              "      <td>4</td>\n",
              "      <td>0</td>\n",
              "      <td>1</td>\n",
              "    </tr>\n",
              "    <tr>\n",
              "      <th>4</th>\n",
              "      <td>2015-01-06</td>\n",
              "      <td>2</td>\n",
              "      <td>6</td>\n",
              "      <td>1</td>\n",
              "      <td>3</td>\n",
              "    </tr>\n",
              "    <tr>\n",
              "      <th>5</th>\n",
              "      <td>2015-01-07</td>\n",
              "      <td>1</td>\n",
              "      <td>7</td>\n",
              "      <td>1</td>\n",
              "      <td>4</td>\n",
              "    </tr>\n",
              "    <tr>\n",
              "      <th>6</th>\n",
              "      <td>2015-01-09</td>\n",
              "      <td>1</td>\n",
              "      <td>9</td>\n",
              "      <td>0</td>\n",
              "      <td>6</td>\n",
              "    </tr>\n",
              "    <tr>\n",
              "      <th>7</th>\n",
              "      <td>2015-01-10</td>\n",
              "      <td>1</td>\n",
              "      <td>10</td>\n",
              "      <td>0</td>\n",
              "      <td>7</td>\n",
              "    </tr>\n",
              "    <tr>\n",
              "      <th>8</th>\n",
              "      <td>2015-01-14</td>\n",
              "      <td>1</td>\n",
              "      <td>14</td>\n",
              "      <td>0</td>\n",
              "      <td>4</td>\n",
              "    </tr>\n",
              "    <tr>\n",
              "      <th>9</th>\n",
              "      <td>2015-01-17</td>\n",
              "      <td>2</td>\n",
              "      <td>17</td>\n",
              "      <td>0</td>\n",
              "      <td>7</td>\n",
              "    </tr>\n",
              "  </tbody>\n",
              "</table>\n",
              "</div>"
            ],
            "text/plain": [
              "   order_date  quantity  day  holiday  weekday\n",
              "0  2015-01-01         1    1        0        5\n",
              "1  2015-01-02         1    2        0        6\n",
              "2  2015-01-03         2    3        0        7\n",
              "3  2015-01-04         1    4        0        1\n",
              "4  2015-01-06         2    6        1        3\n",
              "5  2015-01-07         1    7        1        4\n",
              "6  2015-01-09         1    9        0        6\n",
              "7  2015-01-10         1   10        0        7\n",
              "8  2015-01-14         1   14        0        4\n",
              "9  2015-01-17         2   17        0        7"
            ]
          },
          "metadata": {},
          "output_type": "display_data"
        }
      ],
      "source": [
        "pizza_df = pd.read_csv('../data/pizza_sales_clean.csv')\n",
        "\n",
        "pizza_df = pizza_df.drop('pizza_id', axis=1)\n",
        "\n",
        "display(pizza_df.head(10))"
      ]
    },
    {
      "cell_type": "markdown",
      "metadata": {},
      "source": [
        "<div class=\"admonition note\" name=\"html-admonition\" style=\"background: rgba(255,145,0,.1); padding-top: 0px; padding-bottom: 6px; border-radius: 8px; border-left: 8px solid #ff9100; padding-left: 10px;\">\n",
        "\n",
        "<p class=\"title\">\n",
        "    <i style=\"font-size: 18px; color:#ff9100; border-color: #ff1744;\"></i>\n",
        "    <b style=\"color: #ff9100;\">⚠ Warning</b>\n",
        "</p>\n",
        "\n",
        "Use only hawaiian_m pizza for now!\n",
        "\n",
        "</div>\n",
        "\n",
        "<br>"
      ]
    },
    {
      "cell_type": "code",
      "execution_count": null,
      "metadata": {
        "colab": {
          "base_uri": "https://localhost:8080/",
          "height": 237
        },
        "id": "SMuTv4rxGGdp",
        "outputId": "6118dbeb-b281-498e-bacc-808a3554c1f9"
      },
      "outputs": [
        {
          "data": {
            "text/html": [
              "\n",
              "  <div id=\"df-1621a856-7ff9-43fe-bac1-931894e300f6\" class=\"colab-df-container\">\n",
              "    <div>\n",
              "<style scoped>\n",
              "    .dataframe tbody tr th:only-of-type {\n",
              "        vertical-align: middle;\n",
              "    }\n",
              "\n",
              "    .dataframe tbody tr th {\n",
              "        vertical-align: top;\n",
              "    }\n",
              "\n",
              "    .dataframe thead th {\n",
              "        text-align: right;\n",
              "    }\n",
              "</style>\n",
              "<table border=\"1\" class=\"dataframe\">\n",
              "  <thead>\n",
              "    <tr style=\"text-align: right;\">\n",
              "      <th></th>\n",
              "      <th>holiday</th>\n",
              "      <th>weather</th>\n",
              "      <th>temp</th>\n",
              "      <th>atemp</th>\n",
              "      <th>hum</th>\n",
              "      <th>windspeed</th>\n",
              "      <th>users</th>\n",
              "      <th>month</th>\n",
              "      <th>hour</th>\n",
              "      <th>weekday</th>\n",
              "    </tr>\n",
              "    <tr>\n",
              "      <th>date_time</th>\n",
              "      <th></th>\n",
              "      <th></th>\n",
              "      <th></th>\n",
              "      <th></th>\n",
              "      <th></th>\n",
              "      <th></th>\n",
              "      <th></th>\n",
              "      <th></th>\n",
              "      <th></th>\n",
              "      <th></th>\n",
              "    </tr>\n",
              "  </thead>\n",
              "  <tbody>\n",
              "    <tr>\n",
              "      <th>2011-01-01 00:00:00</th>\n",
              "      <td>0.0</td>\n",
              "      <td>clear</td>\n",
              "      <td>9.84</td>\n",
              "      <td>14.395</td>\n",
              "      <td>81.0</td>\n",
              "      <td>0.0</td>\n",
              "      <td>16.0</td>\n",
              "      <td>1</td>\n",
              "      <td>0</td>\n",
              "      <td>5</td>\n",
              "    </tr>\n",
              "    <tr>\n",
              "      <th>2011-01-01 01:00:00</th>\n",
              "      <td>0.0</td>\n",
              "      <td>clear</td>\n",
              "      <td>9.02</td>\n",
              "      <td>13.635</td>\n",
              "      <td>80.0</td>\n",
              "      <td>0.0</td>\n",
              "      <td>40.0</td>\n",
              "      <td>1</td>\n",
              "      <td>1</td>\n",
              "      <td>5</td>\n",
              "    </tr>\n",
              "    <tr>\n",
              "      <th>2011-01-01 02:00:00</th>\n",
              "      <td>0.0</td>\n",
              "      <td>clear</td>\n",
              "      <td>9.02</td>\n",
              "      <td>13.635</td>\n",
              "      <td>80.0</td>\n",
              "      <td>0.0</td>\n",
              "      <td>32.0</td>\n",
              "      <td>1</td>\n",
              "      <td>2</td>\n",
              "      <td>5</td>\n",
              "    </tr>\n",
              "    <tr>\n",
              "      <th>2011-01-01 03:00:00</th>\n",
              "      <td>0.0</td>\n",
              "      <td>clear</td>\n",
              "      <td>9.84</td>\n",
              "      <td>14.395</td>\n",
              "      <td>75.0</td>\n",
              "      <td>0.0</td>\n",
              "      <td>13.0</td>\n",
              "      <td>1</td>\n",
              "      <td>3</td>\n",
              "      <td>5</td>\n",
              "    </tr>\n",
              "    <tr>\n",
              "      <th>2011-01-01 04:00:00</th>\n",
              "      <td>0.0</td>\n",
              "      <td>clear</td>\n",
              "      <td>9.84</td>\n",
              "      <td>14.395</td>\n",
              "      <td>75.0</td>\n",
              "      <td>0.0</td>\n",
              "      <td>1.0</td>\n",
              "      <td>1</td>\n",
              "      <td>4</td>\n",
              "      <td>5</td>\n",
              "    </tr>\n",
              "  </tbody>\n",
              "</table>\n",
              "</div>\n",
              "    <div class=\"colab-df-buttons\">\n",
              "\n",
              "  <div class=\"colab-df-container\">\n",
              "    <button class=\"colab-df-convert\" onclick=\"convertToInteractive('df-1621a856-7ff9-43fe-bac1-931894e300f6')\"\n",
              "            title=\"Convert this dataframe to an interactive table.\"\n",
              "            style=\"display:none;\">\n",
              "\n",
              "  <svg xmlns=\"http://www.w3.org/2000/svg\" height=\"24px\" viewBox=\"0 -960 960 960\">\n",
              "    <path d=\"M120-120v-720h720v720H120Zm60-500h600v-160H180v160Zm220 220h160v-160H400v160Zm0 220h160v-160H400v160ZM180-400h160v-160H180v160Zm440 0h160v-160H620v160ZM180-180h160v-160H180v160Zm440 0h160v-160H620v160Z\"/>\n",
              "  </svg>\n",
              "    </button>\n",
              "\n",
              "  <style>\n",
              "    .colab-df-container {\n",
              "      display:flex;\n",
              "      gap: 12px;\n",
              "    }\n",
              "\n",
              "    .colab-df-convert {\n",
              "      background-color: #E8F0FE;\n",
              "      border: none;\n",
              "      border-radius: 50%;\n",
              "      cursor: pointer;\n",
              "      display: none;\n",
              "      fill: #1967D2;\n",
              "      height: 32px;\n",
              "      padding: 0 0 0 0;\n",
              "      width: 32px;\n",
              "    }\n",
              "\n",
              "    .colab-df-convert:hover {\n",
              "      background-color: #E2EBFA;\n",
              "      box-shadow: 0px 1px 2px rgba(60, 64, 67, 0.3), 0px 1px 3px 1px rgba(60, 64, 67, 0.15);\n",
              "      fill: #174EA6;\n",
              "    }\n",
              "\n",
              "    .colab-df-buttons div {\n",
              "      margin-bottom: 4px;\n",
              "    }\n",
              "\n",
              "    [theme=dark] .colab-df-convert {\n",
              "      background-color: #3B4455;\n",
              "      fill: #D2E3FC;\n",
              "    }\n",
              "\n",
              "    [theme=dark] .colab-df-convert:hover {\n",
              "      background-color: #434B5C;\n",
              "      box-shadow: 0px 1px 3px 1px rgba(0, 0, 0, 0.15);\n",
              "      filter: drop-shadow(0px 1px 2px rgba(0, 0, 0, 0.3));\n",
              "      fill: #FFFFFF;\n",
              "    }\n",
              "  </style>\n",
              "\n",
              "    <script>\n",
              "      const buttonEl =\n",
              "        document.querySelector('#df-1621a856-7ff9-43fe-bac1-931894e300f6 button.colab-df-convert');\n",
              "      buttonEl.style.display =\n",
              "        google.colab.kernel.accessAllowed ? 'block' : 'none';\n",
              "\n",
              "      async function convertToInteractive(key) {\n",
              "        const element = document.querySelector('#df-1621a856-7ff9-43fe-bac1-931894e300f6');\n",
              "        const dataTable =\n",
              "          await google.colab.kernel.invokeFunction('convertToInteractive',\n",
              "                                                    [key], {});\n",
              "        if (!dataTable) return;\n",
              "\n",
              "        const docLinkHtml = 'Like what you see? Visit the ' +\n",
              "          '<a target=\"_blank\" href=https://colab.research.google.com/notebooks/data_table.ipynb>data table notebook</a>'\n",
              "          + ' to learn more about interactive tables.';\n",
              "        element.innerHTML = '';\n",
              "        dataTable['output_type'] = 'display_data';\n",
              "        await google.colab.output.renderOutput(dataTable, element);\n",
              "        const docLink = document.createElement('div');\n",
              "        docLink.innerHTML = docLinkHtml;\n",
              "        element.appendChild(docLink);\n",
              "      }\n",
              "    </script>\n",
              "  </div>\n",
              "\n",
              "\n",
              "<div id=\"df-d5f346c7-54e4-467d-81ba-cccfb279eff6\">\n",
              "  <button class=\"colab-df-quickchart\" onclick=\"quickchart('df-d5f346c7-54e4-467d-81ba-cccfb279eff6')\"\n",
              "            title=\"Suggest charts\"\n",
              "            style=\"display:none;\">\n",
              "\n",
              "<svg xmlns=\"http://www.w3.org/2000/svg\" height=\"24px\"viewBox=\"0 0 24 24\"\n",
              "     width=\"24px\">\n",
              "    <g>\n",
              "        <path d=\"M19 3H5c-1.1 0-2 .9-2 2v14c0 1.1.9 2 2 2h14c1.1 0 2-.9 2-2V5c0-1.1-.9-2-2-2zM9 17H7v-7h2v7zm4 0h-2V7h2v10zm4 0h-2v-4h2v4z\"/>\n",
              "    </g>\n",
              "</svg>\n",
              "  </button>\n",
              "\n",
              "<style>\n",
              "  .colab-df-quickchart {\n",
              "      --bg-color: #E8F0FE;\n",
              "      --fill-color: #1967D2;\n",
              "      --hover-bg-color: #E2EBFA;\n",
              "      --hover-fill-color: #174EA6;\n",
              "      --disabled-fill-color: #AAA;\n",
              "      --disabled-bg-color: #DDD;\n",
              "  }\n",
              "\n",
              "  [theme=dark] .colab-df-quickchart {\n",
              "      --bg-color: #3B4455;\n",
              "      --fill-color: #D2E3FC;\n",
              "      --hover-bg-color: #434B5C;\n",
              "      --hover-fill-color: #FFFFFF;\n",
              "      --disabled-bg-color: #3B4455;\n",
              "      --disabled-fill-color: #666;\n",
              "  }\n",
              "\n",
              "  .colab-df-quickchart {\n",
              "    background-color: var(--bg-color);\n",
              "    border: none;\n",
              "    border-radius: 50%;\n",
              "    cursor: pointer;\n",
              "    display: none;\n",
              "    fill: var(--fill-color);\n",
              "    height: 32px;\n",
              "    padding: 0;\n",
              "    width: 32px;\n",
              "  }\n",
              "\n",
              "  .colab-df-quickchart:hover {\n",
              "    background-color: var(--hover-bg-color);\n",
              "    box-shadow: 0 1px 2px rgba(60, 64, 67, 0.3), 0 1px 3px 1px rgba(60, 64, 67, 0.15);\n",
              "    fill: var(--button-hover-fill-color);\n",
              "  }\n",
              "\n",
              "  .colab-df-quickchart-complete:disabled,\n",
              "  .colab-df-quickchart-complete:disabled:hover {\n",
              "    background-color: var(--disabled-bg-color);\n",
              "    fill: var(--disabled-fill-color);\n",
              "    box-shadow: none;\n",
              "  }\n",
              "\n",
              "  .colab-df-spinner {\n",
              "    border: 2px solid var(--fill-color);\n",
              "    border-color: transparent;\n",
              "    border-bottom-color: var(--fill-color);\n",
              "    animation:\n",
              "      spin 1s steps(1) infinite;\n",
              "  }\n",
              "\n",
              "  @keyframes spin {\n",
              "    0% {\n",
              "      border-color: transparent;\n",
              "      border-bottom-color: var(--fill-color);\n",
              "      border-left-color: var(--fill-color);\n",
              "    }\n",
              "    20% {\n",
              "      border-color: transparent;\n",
              "      border-left-color: var(--fill-color);\n",
              "      border-top-color: var(--fill-color);\n",
              "    }\n",
              "    30% {\n",
              "      border-color: transparent;\n",
              "      border-left-color: var(--fill-color);\n",
              "      border-top-color: var(--fill-color);\n",
              "      border-right-color: var(--fill-color);\n",
              "    }\n",
              "    40% {\n",
              "      border-color: transparent;\n",
              "      border-right-color: var(--fill-color);\n",
              "      border-top-color: var(--fill-color);\n",
              "    }\n",
              "    60% {\n",
              "      border-color: transparent;\n",
              "      border-right-color: var(--fill-color);\n",
              "    }\n",
              "    80% {\n",
              "      border-color: transparent;\n",
              "      border-right-color: var(--fill-color);\n",
              "      border-bottom-color: var(--fill-color);\n",
              "    }\n",
              "    90% {\n",
              "      border-color: transparent;\n",
              "      border-bottom-color: var(--fill-color);\n",
              "    }\n",
              "  }\n",
              "</style>\n",
              "\n",
              "  <script>\n",
              "    async function quickchart(key) {\n",
              "      const quickchartButtonEl =\n",
              "        document.querySelector('#' + key + ' button');\n",
              "      quickchartButtonEl.disabled = true;  // To prevent multiple clicks.\n",
              "      quickchartButtonEl.classList.add('colab-df-spinner');\n",
              "      try {\n",
              "        const charts = await google.colab.kernel.invokeFunction(\n",
              "            'suggestCharts', [key], {});\n",
              "      } catch (error) {\n",
              "        console.error('Error during call to suggestCharts:', error);\n",
              "      }\n",
              "      quickchartButtonEl.classList.remove('colab-df-spinner');\n",
              "      quickchartButtonEl.classList.add('colab-df-quickchart-complete');\n",
              "    }\n",
              "    (() => {\n",
              "      let quickchartButtonEl =\n",
              "        document.querySelector('#df-d5f346c7-54e4-467d-81ba-cccfb279eff6 button');\n",
              "      quickchartButtonEl.style.display =\n",
              "        google.colab.kernel.accessAllowed ? 'block' : 'none';\n",
              "    })();\n",
              "  </script>\n",
              "</div>\n",
              "    </div>\n",
              "  </div>\n"
            ],
            "text/plain": [
              "                     holiday weather  temp   atemp   hum  windspeed  users  \\\n",
              "date_time                                                                    \n",
              "2011-01-01 00:00:00      0.0   clear  9.84  14.395  81.0        0.0   16.0   \n",
              "2011-01-01 01:00:00      0.0   clear  9.02  13.635  80.0        0.0   40.0   \n",
              "2011-01-01 02:00:00      0.0   clear  9.02  13.635  80.0        0.0   32.0   \n",
              "2011-01-01 03:00:00      0.0   clear  9.84  14.395  75.0        0.0   13.0   \n",
              "2011-01-01 04:00:00      0.0   clear  9.84  14.395  75.0        0.0    1.0   \n",
              "\n",
              "                     month  hour  weekday  \n",
              "date_time                                  \n",
              "2011-01-01 00:00:00      1     0        5  \n",
              "2011-01-01 01:00:00      1     1        5  \n",
              "2011-01-01 02:00:00      1     2        5  \n",
              "2011-01-01 03:00:00      1     3        5  \n",
              "2011-01-01 04:00:00      1     4        5  "
            ]
          },
          "execution_count": 7,
          "metadata": {},
          "output_type": "execute_result"
        }
      ],
      "source": [
        "# Downloading data\n",
        "# ==============================================================================\n",
        "url = ('https://raw.githubusercontent.com/JoaquinAmatRodrigo/Estadistica-machine-'\n",
        "       'learning-python/master/data/bike_sharing_dataset_clean.csv')\n",
        "data = pd.read_csv(url)\n",
        "data['date_time'] = pd.to_datetime(data['date_time'], format='%Y-%m-%d %H:%M:%S')\n",
        "data = data.set_index('date_time')\n",
        "data = data.asfreq('H')\n",
        "data = data.sort_index()\n",
        "data = data.drop(columns=['workingday'])\n",
        "data.head()"
      ]
    },
    {
      "cell_type": "markdown",
      "metadata": {
        "id": "yzqlmjl4GGdq"
      },
      "source": [
        "To facilitate the training of the models, the search for optimal hyperparameters and the evaluation of their predictive accuracy, the data are divided into three separate sets: training, validation and test."
      ]
    },
    {
      "cell_type": "code",
      "execution_count": 174,
      "metadata": {
        "colab": {
          "base_uri": "https://localhost:8080/"
        },
        "id": "9W-fTyjzGGdq",
        "outputId": "b17729f9-beb5-4195-91bb-22841c64b44a"
      },
      "outputs": [
        {
          "name": "stdout",
          "output_type": "stream",
          "text": [
            "Dates train      : 0 --- 158  (n=159)\n",
            "Dates validation : 159 --- 202  (n=44)\n",
            "Dates test       : 203 --- 269  (n=67)\n"
          ]
        }
      ],
      "source": [
        "from sklearn.model_selection import train_test_split\n",
        "\n",
        "# Split train-validation-test\n",
        "# ==============================================================================\n",
        "# end_train = '2015-07-24'\n",
        "# end_validation = '2015-11-12'\n",
        "# data_train = pizza_df.loc[: end_train, :]\n",
        "# data_val   = pizza_df.loc[end_train:end_validation, :]\n",
        "# data_test  = pizza_df.loc[end_validation:, :]\n",
        "# X = pizza_df.drop('target_column', axis=1)  # Features\n",
        "# data_train, data_test = train_test_split(pizza_df, test_size=0.2, random_state=42)\n",
        "\n",
        "# data_train, data_val = train_test_split(data_train, test_size=0.25, random_state=42)\n",
        "\n",
        "split_date = '2015-10-01'  # Example split date\n",
        "val_split_date = '2015-08-01'\n",
        "data_train = pizza_df[pizza_df['order_date'] < split_date]\n",
        "data_test = pizza_df[pizza_df['order_date'] >= split_date]\n",
        "data_val = data_train[data_train['order_date'] > val_split_date]\n",
        "data_train = pizza_df[pizza_df['order_date'] <= val_split_date]\n",
        "\n",
        "print(f\"Dates train      : {data_train.index.min()} --- {data_train.index.max()}  (n={len(data_train)})\")\n",
        "print(f\"Dates validation : {data_val.index.min()} --- {data_val.index.max()}  (n={len(data_val)})\")\n",
        "print(f\"Dates test       : {data_test.index.min()} --- {data_test.index.max()}  (n={len(data_test)})\")"
      ]
    },
    {
      "cell_type": "markdown",
      "metadata": {
        "id": "EG7H4uBoGGdq"
      },
      "source": [
        "## Data exploration\n",
        "<br>\n",
        "\n",
        "Graphical exploration of time series can be an effective way of identifying trends, patterns, and seasonal variations. This, in turn, helps to guide the selection of potential lags that could serve as strong predictors in the model.\n",
        "<br><br>"
      ]
    },
    {
      "cell_type": "markdown",
      "metadata": {
        "id": "XgndHBCMGGdr"
      },
      "source": [
        "### Plot time series\n",
        "<br>"
      ]
    },
    {
      "cell_type": "code",
      "execution_count": 178,
      "metadata": {
        "id": "K7ikXAacGGdr",
        "outputId": "8246f7df-1911-40fd-bf09-88d5253420d3"
      },
      "outputs": [
        {
          "name": "stderr",
          "output_type": "stream",
          "text": [
            "matplotlib.category INFO  Using categorical units to plot a list of strings that are all parsable as floats or dates. If these strings should be plotted as numbers, cast to the appropriate data type before plotting.\n",
            "matplotlib.category INFO  Using categorical units to plot a list of strings that are all parsable as floats or dates. If these strings should be plotted as numbers, cast to the appropriate data type before plotting.\n"
          ]
        },
        {
          "data": {
            "image/png": "[encoded data removed]",
            "text/plain": [
              "<Figure size 800x400 with 2 Axes>"
            ]
          },
          "metadata": {},
          "output_type": "display_data"
        }
      ],
      "source": [
        "# Plot time series with zoom\n",
        "# ==============================================================================\n",
        "zoom = ('2015-01-01 00:00:00','2015-08-15 00:00:00')\n",
        "data = pizza_df\n",
        "fig = plt.figure(figsize=(8, 4))\n",
        "grid = plt.GridSpec(nrows=8, ncols=1, hspace=0.1, wspace=0)\n",
        "\n",
        "main_ax = fig.add_subplot(grid[1:3, :])\n",
        "zoom_ax = fig.add_subplot(grid[5:, :])\n",
        "\n",
        "data_train['quantity'].plot(ax=main_ax, label='train', alpha=0.5)\n",
        "data_val['quantity'].plot(ax=main_ax, label='validation', alpha=0.5)\n",
        "data_test['quantity'].plot(ax=main_ax, label='test', alpha=0.5)\n",
        "min_y = min(data['quantity'])\n",
        "max_y = max(data['quantity'])\n",
        "main_ax.fill_between(zoom, min_y, max_y, facecolor='blue', alpha=0.5, zorder=0)\n",
        "main_ax.set_xlabel('')\n",
        "main_ax.legend(loc='lower center', ncol=3, bbox_to_anchor=(0.5, -0.8))\n",
        "data.loc[zoom[0]: zoom[1]]['quantity'].plot(ax=zoom_ax, color='blue', linewidth=1)\n",
        "main_ax.set_title(f'quantity: {data.index.min()}, {data.index.max()}', fontsize=10)\n",
        "zoom_ax.set_title(f'quantity: {zoom}', fontsize=10)\n",
        "zoom_ax.set_xlabel('')\n",
        "plt.subplots_adjust(hspace=1)"
      ]
    },
    {
      "cell_type": "code",
      "execution_count": 180,
      "metadata": {
        "id": "7F-FAd6XGGdr",
        "outputId": "f22cee8d-f704-4937-9d98-39d94dee6eab"
      },
      "outputs": [
        {
          "data": {
            "application/vnd.plotly.v1+json": {
              "config": {
                "plotlyServerURL": "https://plot.ly"
              },
              "data": [
                {
                  "hovertemplate": "partition=train<br>order_date=%{x}<br>quantity=%{y}<extra></extra>",
                  "legendgroup": "train",
                  "line": {
                    "color": "rgb(76,114,176)",
                    "dash": "solid"
                  },
                  "marker": {
                    "symbol": "circle"
                  },
                  "mode": "lines",
                  "name": "train",
                  "orientation": "v",
                  "showlegend": true,
                  "type": "scatter",
                  "x": [
                    "2015-01-01",
                    "2015-01-02",
                    "2015-01-03",
                    "2015-01-04",
                    "2015-01-06",
                    "2015-01-07",
                    "2015-01-09",
                    "2015-01-10",
                    "2015-01-14",
                    "2015-01-17",
                    "2015-01-19",
                    "2015-01-21",
                    "2015-01-22",
                    "2015-01-23",
                    "2015-01-27",
                    "2015-01-28",
                    "2015-01-29",
                    "2015-01-30",
                    "2015-01-31",
                    "2015-02-01",
                    "2015-02-03",
                    "2015-02-04",
                    "2015-02-05",
                    "2015-02-06",
                    "2015-02-08",
                    "2015-02-10",
                    "2015-02-11",
                    "2015-02-12",
                    "2015-02-13",
                    "2015-02-14",
                    "2015-02-16",
                    "2015-02-17",
                    "2015-02-18",
                    "2015-02-19",
                    "2015-02-20",
                    "2015-02-21",
                    "2015-02-23",
                    "2015-02-24",
                    "2015-02-26",
                    "2015-02-27",
                    "2015-02-28",
                    "2015-03-02",
                    "2015-03-03",
                    "2015-03-04",
                    "2015-03-05",
                    "2015-03-06",
                    "2015-03-07",
                    "2015-03-08",
                    "2015-03-10",
                    "2015-03-12",
                    "2015-03-13",
                    "2015-03-14",
                    "2015-03-15",
                    "2015-03-17",
                    "2015-03-18",
                    "2015-03-20",
                    "2015-03-21",
                    "2015-03-22",
                    "2015-03-23",
                    "2015-03-26",
                    "2015-03-27",
                    "2015-03-28",
                    "2015-03-30",
                    "2015-04-01",
                    "2015-04-02",
                    "2015-04-03",
                    "2015-04-04",
                    "2015-04-05",
                    "2015-04-06",
                    "2015-04-07",
                    "2015-04-10",
                    "2015-04-11",
                    "2015-04-12",
                    "2015-04-13",
                    "2015-04-14",
                    "2015-04-15",
                    "2015-04-19",
                    "2015-04-20",
                    "2015-04-21",
                    "2015-04-25",
                    "2015-04-26",
                    "2015-04-27",
                    "2015-04-28",
                    "2015-04-29",
                    "2015-04-30",
                    "2015-05-01",
                    "2015-05-02",
                    "2015-05-03",
                    "2015-05-04",
                    "2015-05-05",
                    "2015-05-06",
                    "2015-05-07",
                    "2015-05-09",
                    "2015-05-10",
                    "2015-05-11",
                    "2015-05-13",
                    "2015-05-14",
                    "2015-05-15",
                    "2015-05-16",
                    "2015-05-18",
                    "2015-05-20",
                    "2015-05-23",
                    "2015-05-24",
                    "2015-05-25",
                    "2015-05-26",
                    "2015-05-27",
                    "2015-05-28",
                    "2015-05-30",
                    "2015-05-31",
                    "2015-06-01",
                    "2015-06-02",
                    "2015-06-04",
                    "2015-06-05",
                    "2015-06-06",
                    "2015-06-07",
                    "2015-06-08",
                    "2015-06-09",
                    "2015-06-10",
                    "2015-06-11",
                    "2015-06-12",
                    "2015-06-13",
                    "2015-06-16",
                    "2015-06-17",
                    "2015-06-19",
                    "2015-06-20",
                    "2015-06-21",
                    "2015-06-22",
                    "2015-06-23",
                    "2015-06-25",
                    "2015-06-26",
                    "2015-06-27",
                    "2015-06-28",
                    "2015-06-29",
                    "2015-07-01",
                    "2015-07-02",
                    "2015-07-03",
                    "2015-07-04",
                    "2015-07-05",
                    "2015-07-06",
                    "2015-07-07",
                    "2015-07-08",
                    "2015-07-09",
                    "2015-07-10",
                    "2015-07-11",
                    "2015-07-12",
                    "2015-07-13",
                    "2015-07-16",
                    "2015-07-18",
                    "2015-07-20",
                    "2015-07-21",
                    "2015-07-22",
                    "2015-07-23",
                    "2015-07-24",
                    "2015-07-25",
                    "2015-07-26",
                    "2015-07-27",
                    "2015-07-28",
                    "2015-07-30",
                    "2015-07-31",
                    "2015-08-04",
                    "2015-08-05",
                    "2015-08-06",
                    "2015-08-07",
                    "2015-08-09",
                    "2015-08-10",
                    "2015-08-11",
                    "2015-08-12",
                    "2015-08-13",
                    "2015-08-14",
                    "2015-08-15",
                    "2015-08-16",
                    "2015-08-18",
                    "2015-08-19",
                    "2015-08-20",
                    "2015-08-21",
                    "2015-08-22",
                    "2015-08-23",
                    "2015-08-25",
                    "2015-08-26",
                    "2015-08-27",
                    "2015-08-29",
                    "2015-08-30",
                    "2015-09-02",
                    "2015-09-03",
                    "2015-09-04",
                    "2015-09-05",
                    "2015-09-06",
                    "2015-09-07",
                    "2015-09-09",
                    "2015-09-10",
                    "2015-09-11",
                    "2015-09-12",
                    "2015-09-14",
                    "2015-09-15",
                    "2015-09-16",
                    "2015-09-17",
                    "2015-09-18",
                    "2015-09-19",
                    "2015-09-21",
                    "2015-09-23",
                    "2015-09-26",
                    "2015-09-29"
                  ],
                  "xaxis": "x",
                  "y": [
                    1,
                    1,
                    2,
                    1,
                    2,
                    1,
                    1,
                    1,
                    1,
                    2,
                    1,
                    1,
                    1,
                    1,
                    2,
                    1,
                    3,
                    1,
                    3,
                    1,
                    2,
                    3,
                    2,
                    3,
                    1,
                    1,
                    1,
                    4,
                    1,
                    1,
                    4,
                    1,
                    1,
                    2,
                    2,
                    2,
                    1,
                    4,
                    1,
                    1,
                    1,
                    4,
                    3,
                    1,
                    2,
                    2,
                    1,
                    5,
                    2,
                    1,
                    2,
                    1,
                    3,
                    2,
                    2,
                    1,
                    4,
                    1,
                    3,
                    2,
                    3,
                    2,
                    1,
                    1,
                    3,
                    5,
                    2,
                    1,
                    2,
                    2,
                    1,
                    3,
                    1,
                    1,
                    2,
                    2,
                    1,
                    3,
                    4,
                    1,
                    3,
                    1,
                    1,
                    1,
                    2,
                    2,
                    2,
                    1,
                    2,
                    2,
                    2,
                    1,
                    2,
                    2,
                    1,
                    1,
                    1,
                    1,
                    1,
                    1,
                    2,
                    2,
                    1,
                    2,
                    2,
                    1,
                    2,
                    1,
                    1,
                    1,
                    1,
                    1,
                    1,
                    2,
                    2,
                    3,
                    2,
                    2,
                    1,
                    2,
                    3,
                    3,
                    3,
                    1,
                    2,
                    1,
                    2,
                    4,
                    2,
                    2,
                    3,
                    2,
                    1,
                    1,
                    2,
                    1,
                    3,
                    2,
                    3,
                    2,
                    1,
                    1,
                    2,
                    3,
                    1,
                    1,
                    2,
                    1,
                    3,
                    2,
                    2,
                    1,
                    1,
                    1,
                    4,
                    1,
                    2,
                    2,
                    4,
                    1,
                    5,
                    1,
                    3,
                    2,
                    2,
                    4,
                    1,
                    1,
                    1,
                    2,
                    2,
                    2,
                    1,
                    2,
                    3,
                    2,
                    3,
                    1,
                    1,
                    1,
                    1,
                    1,
                    1,
                    1,
                    1,
                    4,
                    1,
                    2,
                    4,
                    1,
                    1,
                    3,
                    1,
                    1,
                    2,
                    2,
                    1,
                    1,
                    2,
                    2,
                    2,
                    1
                  ],
                  "yaxis": "y"
                },
                {
                  "hovertemplate": "partition=test<br>order_date=%{x}<br>quantity=%{y}<extra></extra>",
                  "legendgroup": "test",
                  "line": {
                    "color": "rgb(221,132,82)",
                    "dash": "solid"
                  },
                  "marker": {
                    "symbol": "circle"
                  },
                  "mode": "lines",
                  "name": "test",
                  "orientation": "v",
                  "showlegend": true,
                  "type": "scatter",
                  "x": [
                    "2015-09-30",
                    "2015-10-01",
                    "2015-10-02",
                    "2015-10-04",
                    "2015-10-06",
                    "2015-10-08",
                    "2015-10-10",
                    "2015-10-11",
                    "2015-10-15",
                    "2015-10-16",
                    "2015-10-17",
                    "2015-10-18",
                    "2015-10-20",
                    "2015-10-21",
                    "2015-10-22",
                    "2015-10-23",
                    "2015-10-24",
                    "2015-10-30",
                    "2015-10-31",
                    "2015-11-01",
                    "2015-11-03",
                    "2015-11-04",
                    "2015-11-07",
                    "2015-11-09",
                    "2015-11-11",
                    "2015-11-12",
                    "2015-11-13",
                    "2015-11-14",
                    "2015-11-15",
                    "2015-11-16",
                    "2015-11-17",
                    "2015-11-18",
                    "2015-11-19",
                    "2015-11-20",
                    "2015-11-21",
                    "2015-11-22",
                    "2015-11-23",
                    "2015-11-25",
                    "2015-11-26",
                    "2015-11-27",
                    "2015-11-28",
                    "2015-11-30",
                    "2015-12-01",
                    "2015-12-02",
                    "2015-12-03",
                    "2015-12-04",
                    "2015-12-05",
                    "2015-12-06",
                    "2015-12-07",
                    "2015-12-08",
                    "2015-12-09",
                    "2015-12-10",
                    "2015-12-11",
                    "2015-12-12",
                    "2015-12-13",
                    "2015-12-14",
                    "2015-12-15",
                    "2015-12-16",
                    "2015-12-18",
                    "2015-12-19",
                    "2015-12-20",
                    "2015-12-21",
                    "2015-12-22",
                    "2015-12-23",
                    "2015-12-24",
                    "2015-12-26",
                    "2015-12-27",
                    "2015-12-28"
                  ],
                  "xaxis": "x",
                  "y": [
                    1,
                    2,
                    3,
                    1,
                    2,
                    3,
                    1,
                    3,
                    3,
                    2,
                    2,
                    1,
                    1,
                    2,
                    1,
                    3,
                    1,
                    1,
                    1,
                    1,
                    1,
                    1,
                    1,
                    5,
                    1,
                    1,
                    1,
                    2,
                    3,
                    1,
                    2,
                    2,
                    1,
                    1,
                    1,
                    1,
                    1,
                    2,
                    6,
                    1,
                    1,
                    2,
                    5,
                    1,
                    2,
                    1,
                    1,
                    2,
                    1,
                    1,
                    3,
                    1,
                    3,
                    3,
                    1,
                    1,
                    2,
                    1,
                    1,
                    1,
                    1,
                    3,
                    1,
                    1,
                    1,
                    1,
                    1,
                    3
                  ],
                  "yaxis": "y"
                }
              ],
              "layout": {
                "height": 400,
                "legend": {
                  "orientation": "h",
                  "title": {
                    "text": "partition"
                  },
                  "tracegroupgap": 0,
                  "x": 0.001,
                  "xanchor": "left",
                  "y": 1,
                  "yanchor": "top"
                },
                "margin": {
                  "b": 20,
                  "l": 20,
                  "r": 20,
                  "t": 35
                },
                "template": {
                  "data": {
                    "bar": [
                      {
                        "error_x": {
                          "color": "rgb(36,36,36)"
                        },
                        "error_y": {
                          "color": "rgb(36,36,36)"
                        },
                        "marker": {
                          "line": {
                            "color": "rgb(234,234,242)",
                            "width": 0.5
                          },
                          "pattern": {
                            "fillmode": "overlay",
                            "size": 10,
                            "solidity": 0.2
                          }
                        },
                        "type": "bar"
                      }
                    ],
                    "barpolar": [
                      {
                        "marker": {
                          "line": {
                            "color": "rgb(234,234,242)",
                            "width": 0.5
                          },
                          "pattern": {
                            "fillmode": "overlay",
                            "size": 10,
                            "solidity": 0.2
                          }
                        },
                        "type": "barpolar"
                      }
                    ],
                    "carpet": [
                      {
                        "aaxis": {
                          "endlinecolor": "rgb(36,36,36)",
                          "gridcolor": "white",
                          "linecolor": "white",
                          "minorgridcolor": "white",
                          "startlinecolor": "rgb(36,36,36)"
                        },
                        "baxis": {
                          "endlinecolor": "rgb(36,36,36)",
                          "gridcolor": "white",
                          "linecolor": "white",
                          "minorgridcolor": "white",
                          "startlinecolor": "rgb(36,36,36)"
                        },
                        "type": "carpet"
                      }
                    ],
                    "choropleth": [
                      {
                        "colorbar": {
                          "outlinewidth": 0,
                          "tickcolor": "rgb(36,36,36)",
                          "ticklen": 8,
                          "ticks": "outside",
                          "tickwidth": 2
                        },
                        "type": "choropleth"
                      }
                    ],
                    "contour": [
                      {
                        "colorbar": {
                          "outlinewidth": 0,
                          "tickcolor": "rgb(36,36,36)",
                          "ticklen": 8,
                          "ticks": "outside",
                          "tickwidth": 2
                        },
                        "colorscale": [
                          [
                            0,
                            "rgb(2,4,25)"
                          ],
                          [
                            0.06274509803921569,
                            "rgb(24,15,41)"
                          ],
                          [
                            0.12549019607843137,
                            "rgb(47,23,57)"
                          ],
                          [
                            0.18823529411764706,
                            "rgb(71,28,72)"
                          ],
                          [
                            0.25098039215686274,
                            "rgb(97,30,82)"
                          ],
                          [
                            0.3137254901960784,
                            "rgb(123,30,89)"
                          ],
                          [
                            0.3764705882352941,
                            "rgb(150,27,91)"
                          ],
                          [
                            0.4392156862745098,
                            "rgb(177,22,88)"
                          ],
                          [
                            0.5019607843137255,
                            "rgb(203,26,79)"
                          ],
                          [
                            0.5647058823529412,
                            "rgb(223,47,67)"
                          ],
                          [
                            0.6274509803921569,
                            "rgb(236,76,61)"
                          ],
                          [
                            0.6901960784313725,
                            "rgb(242,107,73)"
                          ],
                          [
                            0.7529411764705882,
                            "rgb(244,135,95)"
                          ],
                          [
                            0.8156862745098039,
                            "rgb(245,162,122)"
                          ],
                          [
                            0.8784313725490196,
                            "rgb(246,188,153)"
                          ],
                          [
                            0.9411764705882353,
                            "rgb(247,212,187)"
                          ],
                          [
                            1,
                            "rgb(250,234,220)"
                          ]
                        ],
                        "type": "contour"
                      }
                    ],
                    "contourcarpet": [
                      {
                        "colorbar": {
                          "outlinewidth": 0,
                          "tickcolor": "rgb(36,36,36)",
                          "ticklen": 8,
                          "ticks": "outside",
                          "tickwidth": 2
                        },
                        "type": "contourcarpet"
                      }
                    ],
                    "heatmap": [
                      {
                        "colorbar": {
                          "outlinewidth": 0,
                          "tickcolor": "rgb(36,36,36)",
                          "ticklen": 8,
                          "ticks": "outside",
                          "tickwidth": 2
                        },
                        "colorscale": [
                          [
                            0,
                            "rgb(2,4,25)"
                          ],
                          [
                            0.06274509803921569,
                            "rgb(24,15,41)"
                          ],
                          [
                            0.12549019607843137,
                            "rgb(47,23,57)"
                          ],
                          [
                            0.18823529411764706,
                            "rgb(71,28,72)"
                          ],
                          [
                            0.25098039215686274,
                            "rgb(97,30,82)"
                          ],
                          [
                            0.3137254901960784,
                            "rgb(123,30,89)"
                          ],
                          [
                            0.3764705882352941,
                            "rgb(150,27,91)"
                          ],
                          [
                            0.4392156862745098,
                            "rgb(177,22,88)"
                          ],
                          [
                            0.5019607843137255,
                            "rgb(203,26,79)"
                          ],
                          [
                            0.5647058823529412,
                            "rgb(223,47,67)"
                          ],
                          [
                            0.6274509803921569,
                            "rgb(236,76,61)"
                          ],
                          [
                            0.6901960784313725,
                            "rgb(242,107,73)"
                          ],
                          [
                            0.7529411764705882,
                            "rgb(244,135,95)"
                          ],
                          [
                            0.8156862745098039,
                            "rgb(245,162,122)"
                          ],
                          [
                            0.8784313725490196,
                            "rgb(246,188,153)"
                          ],
                          [
                            0.9411764705882353,
                            "rgb(247,212,187)"
                          ],
                          [
                            1,
                            "rgb(250,234,220)"
                          ]
                        ],
                        "type": "heatmap"
                      }
                    ],
                    "heatmapgl": [
                      {
                        "colorbar": {
                          "outlinewidth": 0,
                          "tickcolor": "rgb(36,36,36)",
                          "ticklen": 8,
                          "ticks": "outside",
                          "tickwidth": 2
                        },
                        "colorscale": [
                          [
                            0,
                            "rgb(2,4,25)"
                          ],
                          [
                            0.06274509803921569,
                            "rgb(24,15,41)"
                          ],
                          [
                            0.12549019607843137,
                            "rgb(47,23,57)"
                          ],
                          [
                            0.18823529411764706,
                            "rgb(71,28,72)"
                          ],
                          [
                            0.25098039215686274,
                            "rgb(97,30,82)"
                          ],
                          [
                            0.3137254901960784,
                            "rgb(123,30,89)"
                          ],
                          [
                            0.3764705882352941,
                            "rgb(150,27,91)"
                          ],
                          [
                            0.4392156862745098,
                            "rgb(177,22,88)"
                          ],
                          [
                            0.5019607843137255,
                            "rgb(203,26,79)"
                          ],
                          [
                            0.5647058823529412,
                            "rgb(223,47,67)"
                          ],
                          [
                            0.6274509803921569,
                            "rgb(236,76,61)"
                          ],
                          [
                            0.6901960784313725,
                            "rgb(242,107,73)"
                          ],
                          [
                            0.7529411764705882,
                            "rgb(244,135,95)"
                          ],
                          [
                            0.8156862745098039,
                            "rgb(245,162,122)"
                          ],
                          [
                            0.8784313725490196,
                            "rgb(246,188,153)"
                          ],
                          [
                            0.9411764705882353,
                            "rgb(247,212,187)"
                          ],
                          [
                            1,
                            "rgb(250,234,220)"
                          ]
                        ],
                        "type": "heatmapgl"
                      }
                    ],
                    "histogram": [
                      {
                        "marker": {
                          "pattern": {
                            "fillmode": "overlay",
                            "size": 10,
                            "solidity": 0.2
                          }
                        },
                        "type": "histogram"
                      }
                    ],
                    "histogram2d": [
                      {
                        "colorbar": {
                          "outlinewidth": 0,
                          "tickcolor": "rgb(36,36,36)",
                          "ticklen": 8,
                          "ticks": "outside",
                          "tickwidth": 2
                        },
                        "colorscale": [
                          [
                            0,
                            "rgb(2,4,25)"
                          ],
                          [
                            0.06274509803921569,
                            "rgb(24,15,41)"
                          ],
                          [
                            0.12549019607843137,
                            "rgb(47,23,57)"
                          ],
                          [
                            0.18823529411764706,
                            "rgb(71,28,72)"
                          ],
                          [
                            0.25098039215686274,
                            "rgb(97,30,82)"
                          ],
                          [
                            0.3137254901960784,
                            "rgb(123,30,89)"
                          ],
                          [
                            0.3764705882352941,
                            "rgb(150,27,91)"
                          ],
                          [
                            0.4392156862745098,
                            "rgb(177,22,88)"
                          ],
                          [
                            0.5019607843137255,
                            "rgb(203,26,79)"
                          ],
                          [
                            0.5647058823529412,
                            "rgb(223,47,67)"
                          ],
                          [
                            0.6274509803921569,
                            "rgb(236,76,61)"
                          ],
                          [
                            0.6901960784313725,
                            "rgb(242,107,73)"
                          ],
                          [
                            0.7529411764705882,
                            "rgb(244,135,95)"
                          ],
                          [
                            0.8156862745098039,
                            "rgb(245,162,122)"
                          ],
                          [
                            0.8784313725490196,
                            "rgb(246,188,153)"
                          ],
                          [
                            0.9411764705882353,
                            "rgb(247,212,187)"
                          ],
                          [
                            1,
                            "rgb(250,234,220)"
                          ]
                        ],
                        "type": "histogram2d"
                      }
                    ],
                    "histogram2dcontour": [
                      {
                        "colorbar": {
                          "outlinewidth": 0,
                          "tickcolor": "rgb(36,36,36)",
                          "ticklen": 8,
                          "ticks": "outside",
                          "tickwidth": 2
                        },
                        "colorscale": [
                          [
                            0,
                            "rgb(2,4,25)"
                          ],
                          [
                            0.06274509803921569,
                            "rgb(24,15,41)"
                          ],
                          [
                            0.12549019607843137,
                            "rgb(47,23,57)"
                          ],
                          [
                            0.18823529411764706,
                            "rgb(71,28,72)"
                          ],
                          [
                            0.25098039215686274,
                            "rgb(97,30,82)"
                          ],
                          [
                            0.3137254901960784,
                            "rgb(123,30,89)"
                          ],
                          [
                            0.3764705882352941,
                            "rgb(150,27,91)"
                          ],
                          [
                            0.4392156862745098,
                            "rgb(177,22,88)"
                          ],
                          [
                            0.5019607843137255,
                            "rgb(203,26,79)"
                          ],
                          [
                            0.5647058823529412,
                            "rgb(223,47,67)"
                          ],
                          [
                            0.6274509803921569,
                            "rgb(236,76,61)"
                          ],
                          [
                            0.6901960784313725,
                            "rgb(242,107,73)"
                          ],
                          [
                            0.7529411764705882,
                            "rgb(244,135,95)"
                          ],
                          [
                            0.8156862745098039,
                            "rgb(245,162,122)"
                          ],
                          [
                            0.8784313725490196,
                            "rgb(246,188,153)"
                          ],
                          [
                            0.9411764705882353,
                            "rgb(247,212,187)"
                          ],
                          [
                            1,
                            "rgb(250,234,220)"
                          ]
                        ],
                        "type": "histogram2dcontour"
                      }
                    ],
                    "mesh3d": [
                      {
                        "colorbar": {
                          "outlinewidth": 0,
                          "tickcolor": "rgb(36,36,36)",
                          "ticklen": 8,
                          "ticks": "outside",
                          "tickwidth": 2
                        },
                        "type": "mesh3d"
                      }
                    ],
                    "parcoords": [
                      {
                        "line": {
                          "colorbar": {
                            "outlinewidth": 0,
                            "tickcolor": "rgb(36,36,36)",
                            "ticklen": 8,
                            "ticks": "outside",
                            "tickwidth": 2
                          }
                        },
                        "type": "parcoords"
                      }
                    ],
                    "pie": [
                      {
                        "automargin": true,
                        "type": "pie"
                      }
                    ],
                    "scatter": [
                      {
                        "fillpattern": {
                          "fillmode": "overlay",
                          "size": 10,
                          "solidity": 0.2
                        },
                        "type": "scatter"
                      }
                    ],
                    "scatter3d": [
                      {
                        "line": {
                          "colorbar": {
                            "outlinewidth": 0,
                            "tickcolor": "rgb(36,36,36)",
                            "ticklen": 8,
                            "ticks": "outside",
                            "tickwidth": 2
                          }
                        },
                        "marker": {
                          "colorbar": {
                            "outlinewidth": 0,
                            "tickcolor": "rgb(36,36,36)",
                            "ticklen": 8,
                            "ticks": "outside",
                            "tickwidth": 2
                          }
                        },
                        "type": "scatter3d"
                      }
                    ],
                    "scattercarpet": [
                      {
                        "marker": {
                          "colorbar": {
                            "outlinewidth": 0,
                            "tickcolor": "rgb(36,36,36)",
                            "ticklen": 8,
                            "ticks": "outside",
                            "tickwidth": 2
                          }
                        },
                        "type": "scattercarpet"
                      }
                    ],
                    "scattergeo": [
                      {
                        "marker": {
                          "colorbar": {
                            "outlinewidth": 0,
                            "tickcolor": "rgb(36,36,36)",
                            "ticklen": 8,
                            "ticks": "outside",
                            "tickwidth": 2
                          }
                        },
                        "type": "scattergeo"
                      }
                    ],
                    "scattergl": [
                      {
                        "marker": {
                          "colorbar": {
                            "outlinewidth": 0,
                            "tickcolor": "rgb(36,36,36)",
                            "ticklen": 8,
                            "ticks": "outside",
                            "tickwidth": 2
                          }
                        },
                        "type": "scattergl"
                      }
                    ],
                    "scattermapbox": [
                      {
                        "marker": {
                          "colorbar": {
                            "outlinewidth": 0,
                            "tickcolor": "rgb(36,36,36)",
                            "ticklen": 8,
                            "ticks": "outside",
                            "tickwidth": 2
                          }
                        },
                        "type": "scattermapbox"
                      }
                    ],
                    "scatterpolar": [
                      {
                        "marker": {
                          "colorbar": {
                            "outlinewidth": 0,
                            "tickcolor": "rgb(36,36,36)",
                            "ticklen": 8,
                            "ticks": "outside",
                            "tickwidth": 2
                          }
                        },
                        "type": "scatterpolar"
                      }
                    ],
                    "scatterpolargl": [
                      {
                        "marker": {
                          "colorbar": {
                            "outlinewidth": 0,
                            "tickcolor": "rgb(36,36,36)",
                            "ticklen": 8,
                            "ticks": "outside",
                            "tickwidth": 2
                          }
                        },
                        "type": "scatterpolargl"
                      }
                    ],
                    "scatterternary": [
                      {
                        "marker": {
                          "colorbar": {
                            "outlinewidth": 0,
                            "tickcolor": "rgb(36,36,36)",
                            "ticklen": 8,
                            "ticks": "outside",
                            "tickwidth": 2
                          }
                        },
                        "type": "scatterternary"
                      }
                    ],
                    "surface": [
                      {
                        "colorbar": {
                          "outlinewidth": 0,
                          "tickcolor": "rgb(36,36,36)",
                          "ticklen": 8,
                          "ticks": "outside",
                          "tickwidth": 2
                        },
                        "colorscale": [
                          [
                            0,
                            "rgb(2,4,25)"
                          ],
                          [
                            0.06274509803921569,
                            "rgb(24,15,41)"
                          ],
                          [
                            0.12549019607843137,
                            "rgb(47,23,57)"
                          ],
                          [
                            0.18823529411764706,
                            "rgb(71,28,72)"
                          ],
                          [
                            0.25098039215686274,
                            "rgb(97,30,82)"
                          ],
                          [
                            0.3137254901960784,
                            "rgb(123,30,89)"
                          ],
                          [
                            0.3764705882352941,
                            "rgb(150,27,91)"
                          ],
                          [
                            0.4392156862745098,
                            "rgb(177,22,88)"
                          ],
                          [
                            0.5019607843137255,
                            "rgb(203,26,79)"
                          ],
                          [
                            0.5647058823529412,
                            "rgb(223,47,67)"
                          ],
                          [
                            0.6274509803921569,
                            "rgb(236,76,61)"
                          ],
                          [
                            0.6901960784313725,
                            "rgb(242,107,73)"
                          ],
                          [
                            0.7529411764705882,
                            "rgb(244,135,95)"
                          ],
                          [
                            0.8156862745098039,
                            "rgb(245,162,122)"
                          ],
                          [
                            0.8784313725490196,
                            "rgb(246,188,153)"
                          ],
                          [
                            0.9411764705882353,
                            "rgb(247,212,187)"
                          ],
                          [
                            1,
                            "rgb(250,234,220)"
                          ]
                        ],
                        "type": "surface"
                      }
                    ],
                    "table": [
                      {
                        "cells": {
                          "fill": {
                            "color": "rgb(231,231,240)"
                          },
                          "line": {
                            "color": "white"
                          }
                        },
                        "header": {
                          "fill": {
                            "color": "rgb(183,183,191)"
                          },
                          "line": {
                            "color": "white"
                          }
                        },
                        "type": "table"
                      }
                    ]
                  },
                  "layout": {
                    "annotationdefaults": {
                      "arrowcolor": "rgb(67,103,167)"
                    },
                    "autotypenumbers": "strict",
                    "coloraxis": {
                      "colorbar": {
                        "outlinewidth": 0,
                        "tickcolor": "rgb(36,36,36)",
                        "ticklen": 8,
                        "ticks": "outside",
                        "tickwidth": 2
                      }
                    },
                    "colorscale": {
                      "sequential": [
                        [
                          0,
                          "rgb(2,4,25)"
                        ],
                        [
                          0.06274509803921569,
                          "rgb(24,15,41)"
                        ],
                        [
                          0.12549019607843137,
                          "rgb(47,23,57)"
                        ],
                        [
                          0.18823529411764706,
                          "rgb(71,28,72)"
                        ],
                        [
                          0.25098039215686274,
                          "rgb(97,30,82)"
                        ],
                        [
                          0.3137254901960784,
                          "rgb(123,30,89)"
                        ],
                        [
                          0.3764705882352941,
                          "rgb(150,27,91)"
                        ],
                        [
                          0.4392156862745098,
                          "rgb(177,22,88)"
                        ],
                        [
                          0.5019607843137255,
                          "rgb(203,26,79)"
                        ],
                        [
                          0.5647058823529412,
                          "rgb(223,47,67)"
                        ],
                        [
                          0.6274509803921569,
                          "rgb(236,76,61)"
                        ],
                        [
                          0.6901960784313725,
                          "rgb(242,107,73)"
                        ],
                        [
                          0.7529411764705882,
                          "rgb(244,135,95)"
                        ],
                        [
                          0.8156862745098039,
                          "rgb(245,162,122)"
                        ],
                        [
                          0.8784313725490196,
                          "rgb(246,188,153)"
                        ],
                        [
                          0.9411764705882353,
                          "rgb(247,212,187)"
                        ],
                        [
                          1,
                          "rgb(250,234,220)"
                        ]
                      ],
                      "sequentialminus": [
                        [
                          0,
                          "rgb(2,4,25)"
                        ],
                        [
                          0.06274509803921569,
                          "rgb(24,15,41)"
                        ],
                        [
                          0.12549019607843137,
                          "rgb(47,23,57)"
                        ],
                        [
                          0.18823529411764706,
                          "rgb(71,28,72)"
                        ],
                        [
                          0.25098039215686274,
                          "rgb(97,30,82)"
                        ],
                        [
                          0.3137254901960784,
                          "rgb(123,30,89)"
                        ],
                        [
                          0.3764705882352941,
                          "rgb(150,27,91)"
                        ],
                        [
                          0.4392156862745098,
                          "rgb(177,22,88)"
                        ],
                        [
                          0.5019607843137255,
                          "rgb(203,26,79)"
                        ],
                        [
                          0.5647058823529412,
                          "rgb(223,47,67)"
                        ],
                        [
                          0.6274509803921569,
                          "rgb(236,76,61)"
                        ],
                        [
                          0.6901960784313725,
                          "rgb(242,107,73)"
                        ],
                        [
                          0.7529411764705882,
                          "rgb(244,135,95)"
                        ],
                        [
                          0.8156862745098039,
                          "rgb(245,162,122)"
                        ],
                        [
                          0.8784313725490196,
                          "rgb(246,188,153)"
                        ],
                        [
                          0.9411764705882353,
                          "rgb(247,212,187)"
                        ],
                        [
                          1,
                          "rgb(250,234,220)"
                        ]
                      ]
                    },
                    "colorway": [
                      "rgb(76,114,176)",
                      "rgb(221,132,82)",
                      "rgb(85,168,104)",
                      "rgb(196,78,82)",
                      "rgb(129,114,179)",
                      "rgb(147,120,96)",
                      "rgb(218,139,195)",
                      "rgb(140,140,140)",
                      "rgb(204,185,116)",
                      "rgb(100,181,205)"
                    ],
                    "font": {
                      "color": "rgb(36,36,36)"
                    },
                    "geo": {
                      "bgcolor": "white",
                      "lakecolor": "white",
                      "landcolor": "rgb(234,234,242)",
                      "showlakes": true,
                      "showland": true,
                      "subunitcolor": "white"
                    },
                    "hoverlabel": {
                      "align": "left"
                    },
                    "hovermode": "closest",
                    "paper_bgcolor": "white",
                    "plot_bgcolor": "rgb(234,234,242)",
                    "polar": {
                      "angularaxis": {
                        "gridcolor": "white",
                        "linecolor": "white",
                        "showgrid": true,
                        "ticks": ""
                      },
                      "bgcolor": "rgb(234,234,242)",
                      "radialaxis": {
                        "gridcolor": "white",
                        "linecolor": "white",
                        "showgrid": true,
                        "ticks": ""
                      }
                    },
                    "scene": {
                      "xaxis": {
                        "backgroundcolor": "rgb(234,234,242)",
                        "gridcolor": "white",
                        "gridwidth": 2,
                        "linecolor": "white",
                        "showbackground": true,
                        "showgrid": true,
                        "ticks": "",
                        "zerolinecolor": "white"
                      },
                      "yaxis": {
                        "backgroundcolor": "rgb(234,234,242)",
                        "gridcolor": "white",
                        "gridwidth": 2,
                        "linecolor": "white",
                        "showbackground": true,
                        "showgrid": true,
                        "ticks": "",
                        "zerolinecolor": "white"
                      },
                      "zaxis": {
                        "backgroundcolor": "rgb(234,234,242)",
                        "gridcolor": "white",
                        "gridwidth": 2,
                        "linecolor": "white",
                        "showbackground": true,
                        "showgrid": true,
                        "ticks": "",
                        "zerolinecolor": "white"
                      }
                    },
                    "shapedefaults": {
                      "fillcolor": "rgb(67,103,167)",
                      "line": {
                        "width": 0
                      },
                      "opacity": 0.5
                    },
                    "ternary": {
                      "aaxis": {
                        "gridcolor": "white",
                        "linecolor": "white",
                        "showgrid": true,
                        "ticks": ""
                      },
                      "baxis": {
                        "gridcolor": "white",
                        "linecolor": "white",
                        "showgrid": true,
                        "ticks": ""
                      },
                      "bgcolor": "rgb(234,234,242)",
                      "caxis": {
                        "gridcolor": "white",
                        "linecolor": "white",
                        "showgrid": true,
                        "ticks": ""
                      }
                    },
                    "xaxis": {
                      "automargin": true,
                      "gridcolor": "white",
                      "linecolor": "white",
                      "showgrid": true,
                      "ticks": "",
                      "title": {
                        "standoff": 15
                      },
                      "zerolinecolor": "white"
                    },
                    "yaxis": {
                      "automargin": true,
                      "gridcolor": "white",
                      "linecolor": "white",
                      "showgrid": true,
                      "ticks": "",
                      "title": {
                        "standoff": 15
                      },
                      "zerolinecolor": "white"
                    }
                  }
                },
                "title": {
                  "text": "Quantity"
                },
                "width": 800,
                "xaxis": {
                  "anchor": "y",
                  "domain": [
                    0,
                    1
                  ],
                  "rangeslider": {
                    "visible": true
                  },
                  "title": {
                    "text": "order_date"
                  }
                },
                "yaxis": {
                  "anchor": "x",
                  "domain": [
                    0,
                    1
                  ],
                  "title": {
                    "text": "quantity"
                  }
                }
              }
            }
          },
          "metadata": {},
          "output_type": "display_data"
        }
      ],
      "source": [
        "# Interactive plot of time series\n",
        "# ==============================================================================\n",
        "data.loc[:end_train, 'partition'] = 'train'\n",
        "data.loc[end_train:end_validation, 'partition'] = 'validation'\n",
        "data.loc[end_validation:, 'partition'] = 'test'\n",
        "\n",
        "fig = px.line(\n",
        "    data_frame = data.reset_index(),\n",
        "    x      = 'order_date',\n",
        "    y      = 'quantity',\n",
        "    color  = 'partition',\n",
        "    title  = 'Quantity',\n",
        "    width  = 800,\n",
        "    height = 450\n",
        ")\n",
        "fig.update_layout(\n",
        "    width  = 800,\n",
        "    height = 400,\n",
        "    margin=dict(l=20, r=20, t=35, b=20),\n",
        "    legend=dict(\n",
        "        orientation=\"h\",\n",
        "        yanchor=\"top\",\n",
        "        y=1,\n",
        "        xanchor=\"left\",\n",
        "        x=0.001\n",
        "    )\n",
        ")\n",
        "fig.update_xaxes(rangeslider_visible=True)\n",
        "fig.show()\n",
        "data=data.drop(columns='partition')"
      ]
    },
    {
      "cell_type": "markdown",
      "metadata": {
        "id": "Q0UaKW2IGGdr"
      },
      "source": [
        "### Seasonality plots\n",
        "<br>"
      ]
    },
    {
      "cell_type": "code",
      "execution_count": 182,
      "metadata": {
        "id": "a5ziNBNeGGdr",
        "outputId": "6fb97443-6ae9-4b81-f58f-cae227eaa0b9"
      },
      "outputs": [
        {
          "data": {
            "image/png": "[encoded data removed]",
            "text/plain": [
              "<Figure size 800x200 with 1 Axes>"
            ]
          },
          "metadata": {},
          "output_type": "display_data"
        }
      ],
      "source": [
        "# Daily seasonality\n",
        "# ==============================================================================\n",
        "fig, ax = plt.subplots(figsize=(8, 2))\n",
        "mean_day_hour = data.groupby([\"weekday\"])[\"quantity\"].mean()\n",
        "mean_day_hour.plot(ax=ax)\n",
        "ax.set(\n",
        "    title=\"Mean quantity during week\",\n",
        "    xticks=[i * 24 for i in range(7)],\n",
        "    xticklabels=[\"Mon\", \"Tue\", \"Wed\", \"Thu\", \"Fri\", \"Sat\", \"Sun\"],\n",
        "    xlabel=\"Day and hour\",\n",
        "    ylabel=\"Number of users\"\n",
        ");"
      ]
    },
    {
      "cell_type": "markdown",
      "metadata": {
        "id": "0mDfOqdLGGdr"
      },
      "source": [
        "There is a clear difference between weekdays and weekends. There is also a clear intra-day pattern, with different influx of users depending on the time of day."
      ]
    },
    {
      "cell_type": "markdown",
      "metadata": {
        "id": "F9ChAWLmGGds"
      },
      "source": [
        "### Autocorrelation plots\n",
        "<br>\n",
        "\n",
        "Autocorrelation plots can help identify patterns in your time series data. If the autocorrelation plot shows a high autocorrelation at a particular lag, it indicates that there is a strong relationship between observations at that lag, and therefore that lag may be a useful predictor."
      ]
    },
    {
      "cell_type": "code",
      "execution_count": 184,
      "metadata": {
        "id": "PUyNR8RWGGds",
        "outputId": "120d62c9-3cd9-4638-b0b2-daddf7ccb503"
      },
      "outputs": [
        {
          "data": {
            "image/png": "[encoded data removed]",
            "text/plain": [
              "<Figure size 500x200 with 1 Axes>"
            ]
          },
          "metadata": {},
          "output_type": "display_data"
        }
      ],
      "source": [
        "# Autocorrelation plot\n",
        "# ==============================================================================\n",
        "fig, ax = plt.subplots(figsize=(5, 2))\n",
        "plot_acf(data['quantity'], ax=ax, lags=72)\n",
        "plt.show()"
      ]
    },
    {
      "cell_type": "code",
      "execution_count": 185,
      "metadata": {
        "id": "vjnXvJrhGGds",
        "outputId": "81ad4f32-ee3a-4571-86de-617679ea9c7e"
      },
      "outputs": [
        {
          "data": {
            "image/png": "[encoded data removed]",
            "text/plain": [
              "<Figure size 500x200 with 1 Axes>"
            ]
          },
          "metadata": {},
          "output_type": "display_data"
        }
      ],
      "source": [
        "# Partial autocorrelation plot\n",
        "# ==============================================================================\n",
        "fig, ax = plt.subplots(figsize=(5, 2))\n",
        "plot_pacf(data['quantity'], ax=ax, lags=72, method='ywm')\n",
        "plt.show()"
      ]
    },
    {
      "cell_type": "markdown",
      "metadata": {
        "id": "J029tjisGGds"
      },
      "source": [
        "The results of the autocorrelation study show that there is a significant correlation between the number of users in previous hours, as well as the days before, and the number of users in the future. This means that knowing the number of users during certain periods in the past could be valuable in predicting the number of users in the future."
      ]
    },
    {
      "cell_type": "markdown",
      "metadata": {
        "id": "AuZa4lviGGds"
      },
      "source": [
        "## XGBoost\n",
        "<br>\n",
        "\n",
        "[**XGBoost**](https://xgboost.readthedocs.io/en/stable/python/python_intro.html) is a highly efficient implementation of the stochastic gradient boosting algorithm, which has become a benchmark in the field of machine learning. The XGBoost library includes its own API as well as the `XGBRegressor` class, which follows the scikit-learn API, making it compatible with skforecast.\n",
        "\n",
        "First, an autoregressive model is trained using past values (lags) of the response variable as predictors. Later, exogenous variables are added to the model and the improvement in its performance is assessed.\n",
        "\n",
        "Gradient Boosting models have a large number of hyperparameters, so a combination of [grid_search](https://skforecast.org/latest/user_guides/hyperparameter-tuning-and-lags-selection.html#grid-search) strategy and [backtesting](https://skforecast.org/latest/user_guides/backtesting.html) is used to identify the best configuration that gives the most accurate predictions.\n",
        "\n",
        "<br><br>"
      ]
    },
    {
      "cell_type": "code",
      "execution_count": 186,
      "metadata": {
        "id": "Gr1c3mhaGGds"
      },
      "outputs": [],
      "source": [
        "# Create forecaster\n",
        "# ==============================================================================\n",
        "forecaster = ForecasterAutoreg(\n",
        "                 regressor = xgb.XGBRegressor(random_state=123),\n",
        "                 lags = 24\n",
        "             )"
      ]
    },
    {
      "cell_type": "markdown",
      "metadata": {
        "id": "3cFcZDGgGGds"
      },
      "source": [
        "## Hyperparameter tuning\n",
        "<br>\n",
        "\n",
        "Hyperparameter tuning is a critical step in developing effective machine learning models. It is important to note that when searching for hyperparameters, test data should not be included in the process. This is because including test data could lead to overfitting of the model.\n",
        "\n",
        "To avoid overfitting, a search is performed where each combination of hyperparameters and lags is tested as follows:\n",
        "\n",
        "1. Train the model using only the training set.\n",
        "\n",
        "2. The model is evaluated using the validation set via backtesting.\n",
        "\n",
        "3. The combination of hyperparameters and lags that gives the lowest error is selected.\n",
        "\n",
        "4. Train the model again using the best combination found, this time using both the training and validation data.\n",
        "\n",
        "By following these steps, one can obtain a model with optimized hyperparameters and avoid overfitting."
      ]
    },
    {
      "cell_type": "code",
      "execution_count": 187,
      "metadata": {
        "colab": {
          "referenced_widgets": [
            "a265865ab6c3467a937dcfbdeb6bef43",
            "2d3a9d9e07dc4d47b5cd6674d59df471"
          ]
        },
        "id": "uzvMaFlDGGds",
        "outputId": "80a36c90-07cf-439a-ec9e-cdcd31638177"
      },
      "outputs": [
        {
          "name": "stdout",
          "output_type": "stream",
          "text": [
            "Number of models compared: 24.\n"
          ]
        },
        {
          "data": {
            "application/vnd.jupyter.widget-view+json": {
              "model_id": "778f19b80c1d4ca5ac6dda5a80ba6d6f",
              "version_major": 2,
              "version_minor": 0
            },
            "text/plain": [
              "lags grid:   0%|          | 0/2 [00:00<?, ?it/s]"
            ]
          },
          "metadata": {},
          "output_type": "display_data"
        },
        {
          "data": {
            "application/vnd.jupyter.widget-view+json": {
              "model_id": "a7cc1e610ee148449877987ce6bfba78",
              "version_major": 2,
              "version_minor": 0
            },
            "text/plain": [
              "params grid:   0%|          | 0/12 [00:00<?, ?it/s]"
            ]
          },
          "metadata": {},
          "output_type": "display_data"
        },
        {
          "name": "stdout",
          "output_type": "stream",
          "text": [
            "`Forecaster` refitted using the best-found lags and parameters, and the whole data set: \n",
            "  Lags: [ 1  2  3  4  5  6  7  8  9 10 11 12 13 14 15 16 17 18 19 20 21 22 23 24\n",
            " 25 26 27 28 29 30 31 32 33 34 35 36 37 38 39 40 41 42 43 44 45 46 47 48] \n",
            "  Parameters: {'learning_rate': 0.01, 'max_depth': 3, 'n_estimators': 100}\n",
            "  Backtesting metric: 1.015276557443746\n",
            "\n"
          ]
        }
      ],
      "source": [
        "# Grid search of hyperparameters and lags\n",
        "# ==============================================================================\n",
        "# Regressor hyperparameters\n",
        "param_grid = {\n",
        "    'n_estimators': [100, 500],\n",
        "    'max_depth': [3, 5, 10],\n",
        "    'learning_rate': [0.01, 0.1]\n",
        "}\n",
        "\n",
        "# Lags used as predictors\n",
        "lags_grid = [48, 72]\n",
        "\n",
        "results_grid = grid_search_forecaster(\n",
        "                   forecaster         = forecaster,\n",
        "                   y                  = data.loc[:end_validation, 'quantity'], # Train and validation data\n",
        "                   param_grid         = param_grid,\n",
        "                   lags_grid          = lags_grid,\n",
        "                   steps              = 36,\n",
        "                   refit              = False,\n",
        "                   metric             = 'mean_squared_error',\n",
        "                   initial_train_size = len(data_train), # Model is trained with training data\n",
        "                   fixed_train_size   = False,\n",
        "                   return_best        = True,\n",
        "                   verbose            = False\n",
        "               )"
      ]
    },
    {
      "cell_type": "code",
      "execution_count": 188,
      "metadata": {
        "id": "44iNJgr3GGdt",
        "outputId": "e2f4020c-6d71-4e04-892e-05304930052b"
      },
      "outputs": [
        {
          "data": {
            "text/html": [
              "<div>\n",
              "<style scoped>\n",
              "    .dataframe tbody tr th:only-of-type {\n",
              "        vertical-align: middle;\n",
              "    }\n",
              "\n",
              "    .dataframe tbody tr th {\n",
              "        vertical-align: top;\n",
              "    }\n",
              "\n",
              "    .dataframe thead th {\n",
              "        text-align: right;\n",
              "    }\n",
              "</style>\n",
              "<table border=\"1\" class=\"dataframe\">\n",
              "  <thead>\n",
              "    <tr style=\"text-align: right;\">\n",
              "      <th></th>\n",
              "      <th>lags</th>\n",
              "      <th>params</th>\n",
              "      <th>mean_squared_error</th>\n",
              "      <th>learning_rate</th>\n",
              "      <th>max_depth</th>\n",
              "      <th>n_estimators</th>\n",
              "    </tr>\n",
              "  </thead>\n",
              "  <tbody>\n",
              "    <tr>\n",
              "      <th>0</th>\n",
              "      <td>[1, 2, 3, 4, 5, 6, 7, 8, 9, 10, 11, 12, 13, 14...</td>\n",
              "      <td>{'learning_rate': 0.01, 'max_depth': 3, 'n_est...</td>\n",
              "      <td>1.015277</td>\n",
              "      <td>0.01</td>\n",
              "      <td>3.0</td>\n",
              "      <td>100.0</td>\n",
              "    </tr>\n",
              "    <tr>\n",
              "      <th>14</th>\n",
              "      <td>[1, 2, 3, 4, 5, 6, 7, 8, 9, 10, 11, 12, 13, 14...</td>\n",
              "      <td>{'learning_rate': 0.01, 'max_depth': 5, 'n_est...</td>\n",
              "      <td>1.022874</td>\n",
              "      <td>0.01</td>\n",
              "      <td>5.0</td>\n",
              "      <td>100.0</td>\n",
              "    </tr>\n",
              "    <tr>\n",
              "      <th>15</th>\n",
              "      <td>[1, 2, 3, 4, 5, 6, 7, 8, 9, 10, 11, 12, 13, 14...</td>\n",
              "      <td>{'learning_rate': 0.01, 'max_depth': 5, 'n_est...</td>\n",
              "      <td>1.034705</td>\n",
              "      <td>0.01</td>\n",
              "      <td>5.0</td>\n",
              "      <td>500.0</td>\n",
              "    </tr>\n",
              "    <tr>\n",
              "      <th>12</th>\n",
              "      <td>[1, 2, 3, 4, 5, 6, 7, 8, 9, 10, 11, 12, 13, 14...</td>\n",
              "      <td>{'learning_rate': 0.01, 'max_depth': 3, 'n_est...</td>\n",
              "      <td>1.046090</td>\n",
              "      <td>0.01</td>\n",
              "      <td>3.0</td>\n",
              "      <td>100.0</td>\n",
              "    </tr>\n",
              "    <tr>\n",
              "      <th>21</th>\n",
              "      <td>[1, 2, 3, 4, 5, 6, 7, 8, 9, 10, 11, 12, 13, 14...</td>\n",
              "      <td>{'learning_rate': 0.1, 'max_depth': 5, 'n_esti...</td>\n",
              "      <td>1.051486</td>\n",
              "      <td>0.10</td>\n",
              "      <td>5.0</td>\n",
              "      <td>500.0</td>\n",
              "    </tr>\n",
              "  </tbody>\n",
              "</table>\n",
              "</div>"
            ],
            "text/plain": [
              "                                                 lags  \\\n",
              "0   [1, 2, 3, 4, 5, 6, 7, 8, 9, 10, 11, 12, 13, 14...   \n",
              "14  [1, 2, 3, 4, 5, 6, 7, 8, 9, 10, 11, 12, 13, 14...   \n",
              "15  [1, 2, 3, 4, 5, 6, 7, 8, 9, 10, 11, 12, 13, 14...   \n",
              "12  [1, 2, 3, 4, 5, 6, 7, 8, 9, 10, 11, 12, 13, 14...   \n",
              "21  [1, 2, 3, 4, 5, 6, 7, 8, 9, 10, 11, 12, 13, 14...   \n",
              "\n",
              "                                               params  mean_squared_error  \\\n",
              "0   {'learning_rate': 0.01, 'max_depth': 3, 'n_est...            1.015277   \n",
              "14  {'learning_rate': 0.01, 'max_depth': 5, 'n_est...            1.022874   \n",
              "15  {'learning_rate': 0.01, 'max_depth': 5, 'n_est...            1.034705   \n",
              "12  {'learning_rate': 0.01, 'max_depth': 3, 'n_est...            1.046090   \n",
              "21  {'learning_rate': 0.1, 'max_depth': 5, 'n_esti...            1.051486   \n",
              "\n",
              "    learning_rate  max_depth  n_estimators  \n",
              "0            0.01        3.0         100.0  \n",
              "14           0.01        5.0         100.0  \n",
              "15           0.01        5.0         500.0  \n",
              "12           0.01        3.0         100.0  \n",
              "21           0.10        5.0         500.0  "
            ]
          },
          "execution_count": 188,
          "metadata": {},
          "output_type": "execute_result"
        }
      ],
      "source": [
        "# Results of grid search\n",
        "# ==============================================================================\n",
        "results_grid.head()"
      ]
    },
    {
      "cell_type": "markdown",
      "metadata": {
        "id": "4MOwm90SGGdt"
      },
      "source": [
        "Since `return_best = True`, the forecaster object will be updated with the best configuration found and trained on the entire dataset. This means that the final model obtained from the grid search will have the best combination of lags and hyperparameters that resulted in the highest performance metric. This final model can then be used for future predictions on new data."
      ]
    },
    {
      "cell_type": "markdown",
      "metadata": {
        "id": "59UtEdY2GGdt",
        "tags": []
      },
      "source": [
        "## Backtesting test period\n",
        "<br>\n",
        "\n",
        "Once the best combination of hyperparameters has been identified **using the validation data**, the predictive capacity of the model is evaluated when applied to the test set. The `backtesting_forecaster` function is used to simulate the prediction process every 36 hours.\n",
        "\n",
        "It is recommended to review the documentation for the [backtesting_forecaster](https://skforecast.org/latest/api/model_selection.html#skforecast.model_selection.model_selection.backtesting_forecaster) function to gain a better understanding of its capabilities. This will help to utilize its full potential to analyze the predictive capacity of the model."
      ]
    },
    {
      "cell_type": "code",
      "execution_count": 191,
      "metadata": {
        "colab": {
          "referenced_widgets": [
            "709b8897bae54ed4854f4fd1f681dd25"
          ]
        },
        "id": "qTs6ICVhGGdt",
        "outputId": "1c7717cb-ba4c-4243-9326-2edccb2dba63"
      },
      "outputs": [
        {
          "data": {
            "application/vnd.jupyter.widget-view+json": {
              "model_id": "9d52e847d01642ea89130f6174484bd1",
              "version_major": 2,
              "version_minor": 0
            },
            "text/plain": [
              "  0%|          | 0/68 [00:00<?, ?it/s]"
            ]
          },
          "metadata": {},
          "output_type": "display_data"
        },
        {
          "name": "stdout",
          "output_type": "stream",
          "text": [
            "Backtest error: 1.22\n"
          ]
        },
        {
          "data": {
            "text/html": [
              "<div>\n",
              "<style scoped>\n",
              "    .dataframe tbody tr th:only-of-type {\n",
              "        vertical-align: middle;\n",
              "    }\n",
              "\n",
              "    .dataframe tbody tr th {\n",
              "        vertical-align: top;\n",
              "    }\n",
              "\n",
              "    .dataframe thead th {\n",
              "        text-align: right;\n",
              "    }\n",
              "</style>\n",
              "<table border=\"1\" class=\"dataframe\">\n",
              "  <thead>\n",
              "    <tr style=\"text-align: right;\">\n",
              "      <th></th>\n",
              "      <th>pred</th>\n",
              "    </tr>\n",
              "  </thead>\n",
              "  <tbody>\n",
              "    <tr>\n",
              "      <th>202</th>\n",
              "      <td>1.726796</td>\n",
              "    </tr>\n",
              "    <tr>\n",
              "      <th>203</th>\n",
              "      <td>2.032029</td>\n",
              "    </tr>\n",
              "    <tr>\n",
              "      <th>204</th>\n",
              "      <td>1.712064</td>\n",
              "    </tr>\n",
              "    <tr>\n",
              "      <th>205</th>\n",
              "      <td>1.715598</td>\n",
              "    </tr>\n",
              "    <tr>\n",
              "      <th>206</th>\n",
              "      <td>1.830873</td>\n",
              "    </tr>\n",
              "  </tbody>\n",
              "</table>\n",
              "</div>"
            ],
            "text/plain": [
              "         pred\n",
              "202  1.726796\n",
              "203  2.032029\n",
              "204  1.712064\n",
              "205  1.715598\n",
              "206  1.830873"
            ]
          },
          "execution_count": 191,
          "metadata": {},
          "output_type": "execute_result"
        }
      ],
      "source": [
        "# Backtesting on test data\n",
        "# ==============================================================================\n",
        "metric, predictions = backtesting_forecaster(\n",
        "                            forecaster         = forecaster,\n",
        "                            y                  = data['quantity'],\n",
        "                            initial_train_size = len(data.loc[:end_validation]),\n",
        "                            fixed_train_size   = False,\n",
        "                            steps              = 1,\n",
        "                            refit              = False,\n",
        "                            metric             = 'mean_squared_error',\n",
        "                            verbose            = False # Change to True to see detailed information\n",
        "                      )\n",
        "\n",
        "print(f\"Backtest error: {metric:.2f}\")\n",
        "predictions.head()\n",
        "\n"
      ]
    },
    {
      "cell_type": "code",
      "execution_count": 193,
      "metadata": {
        "id": "IGRi8uKRGGdt",
        "outputId": "48f5ea24-e5be-4c9b-a1a6-f5c3c786d234"
      },
      "outputs": [
        {
          "data": {
            "application/vnd.plotly.v1+json": {
              "config": {
                "plotlyServerURL": "https://plot.ly"
              },
              "data": [
                {
                  "mode": "lines",
                  "name": "test",
                  "type": "scatter",
                  "x": [
                    203,
                    204,
                    205,
                    206,
                    207,
                    208,
                    209,
                    210,
                    211,
                    212,
                    213,
                    214,
                    215,
                    216,
                    217,
                    218,
                    219,
                    220,
                    221,
                    222,
                    223,
                    224,
                    225,
                    226,
                    227,
                    228,
                    229,
                    230,
                    231,
                    232,
                    233,
                    234,
                    235,
                    236,
                    237,
                    238,
                    239,
                    240,
                    241,
                    242,
                    243,
                    244,
                    245,
                    246,
                    247,
                    248,
                    249,
                    250,
                    251,
                    252,
                    253,
                    254,
                    255,
                    256,
                    257,
                    258,
                    259,
                    260,
                    261,
                    262,
                    263,
                    264,
                    265,
                    266,
                    267,
                    268,
                    269
                  ],
                  "y": [
                    2,
                    3,
                    1,
                    2,
                    3,
                    1,
                    3,
                    3,
                    2,
                    2,
                    1,
                    1,
                    2,
                    1,
                    3,
                    1,
                    1,
                    1,
                    1,
                    1,
                    1,
                    1,
                    5,
                    1,
                    1,
                    1,
                    2,
                    3,
                    1,
                    2,
                    2,
                    1,
                    1,
                    1,
                    1,
                    1,
                    2,
                    6,
                    1,
                    1,
                    2,
                    5,
                    1,
                    2,
                    1,
                    1,
                    2,
                    1,
                    1,
                    3,
                    1,
                    3,
                    3,
                    1,
                    1,
                    2,
                    1,
                    1,
                    1,
                    1,
                    3,
                    1,
                    1,
                    1,
                    1,
                    1,
                    3
                  ]
                },
                {
                  "mode": "lines",
                  "name": "prediction",
                  "type": "scatter",
                  "x": [
                    202,
                    203,
                    204,
                    205,
                    206,
                    207,
                    208,
                    209,
                    210,
                    211,
                    212,
                    213,
                    214,
                    215,
                    216,
                    217,
                    218,
                    219,
                    220,
                    221,
                    222,
                    223,
                    224,
                    225,
                    226,
                    227,
                    228,
                    229,
                    230,
                    231,
                    232,
                    233,
                    234,
                    235,
                    236,
                    237,
                    238,
                    239,
                    240,
                    241,
                    242,
                    243,
                    244,
                    245,
                    246,
                    247,
                    248,
                    249,
                    250,
                    251,
                    252,
                    253,
                    254,
                    255,
                    256,
                    257,
                    258,
                    259,
                    260,
                    261,
                    262,
                    263,
                    264,
                    265,
                    266,
                    267,
                    268,
                    269
                  ],
                  "y": [
                    1.7267959117889404,
                    2.032029151916504,
                    1.7120640277862549,
                    1.7155977487564087,
                    1.830872893333435,
                    1.8641506433486938,
                    1.6565277576446533,
                    1.7155977487564087,
                    1.9206902980804443,
                    1.7701667547225952,
                    1.9016765356063843,
                    1.7364622354507446,
                    1.7928466796875,
                    1.9820102453231812,
                    1.8686244487762451,
                    1.5719130039215088,
                    1.9378597736358643,
                    1.850203275680542,
                    1.6179789304733276,
                    1.9169273376464844,
                    1.7233027219772339,
                    2.1057615280151367,
                    1.9113168716430664,
                    1.7099872827529907,
                    1.707537293434143,
                    1.8690409660339355,
                    1.8091471195220947,
                    1.7448261976242065,
                    2.142510414123535,
                    1.8729673624038696,
                    1.6062453985214233,
                    1.7312124967575073,
                    1.695665955543518,
                    1.6062453985214233,
                    2.00420880317688,
                    1.8334084749221802,
                    1.7790734767913818,
                    1.6903177499771118,
                    1.7085918188095093,
                    1.8237040042877197,
                    1.811564564704895,
                    1.7992198467254639,
                    1.8610446453094482,
                    1.9773696660995483,
                    2.0046472549438477,
                    1.847752332687378,
                    1.7928466796875,
                    2.3576247692108154,
                    1.8014411926269531,
                    1.8586751222610474,
                    1.8641506433486938,
                    2.008887767791748,
                    1.7099872827529907,
                    1.8247554302215576,
                    1.7301028966903687,
                    1.6510034799575806,
                    1.8711826801300049,
                    1.7429187297821045,
                    1.9655652046203613,
                    1.8887660503387451,
                    1.7155977487564087,
                    1.8102009296417236,
                    1.8390051126480103,
                    1.6911890506744385,
                    1.8531732559204102,
                    1.872022032737732,
                    1.7527469396591187,
                    1.8333078622817993
                  ]
                }
              ],
              "layout": {
                "height": 400,
                "legend": {
                  "orientation": "h",
                  "x": 0.001,
                  "xanchor": "left",
                  "y": 1.1,
                  "yanchor": "top"
                },
                "margin": {
                  "b": 20,
                  "l": 20,
                  "r": 20,
                  "t": 35
                },
                "template": {
                  "data": {
                    "bar": [
                      {
                        "error_x": {
                          "color": "rgb(36,36,36)"
                        },
                        "error_y": {
                          "color": "rgb(36,36,36)"
                        },
                        "marker": {
                          "line": {
                            "color": "rgb(234,234,242)",
                            "width": 0.5
                          },
                          "pattern": {
                            "fillmode": "overlay",
                            "size": 10,
                            "solidity": 0.2
                          }
                        },
                        "type": "bar"
                      }
                    ],
                    "barpolar": [
                      {
                        "marker": {
                          "line": {
                            "color": "rgb(234,234,242)",
                            "width": 0.5
                          },
                          "pattern": {
                            "fillmode": "overlay",
                            "size": 10,
                            "solidity": 0.2
                          }
                        },
                        "type": "barpolar"
                      }
                    ],
                    "carpet": [
                      {
                        "aaxis": {
                          "endlinecolor": "rgb(36,36,36)",
                          "gridcolor": "white",
                          "linecolor": "white",
                          "minorgridcolor": "white",
                          "startlinecolor": "rgb(36,36,36)"
                        },
                        "baxis": {
                          "endlinecolor": "rgb(36,36,36)",
                          "gridcolor": "white",
                          "linecolor": "white",
                          "minorgridcolor": "white",
                          "startlinecolor": "rgb(36,36,36)"
                        },
                        "type": "carpet"
                      }
                    ],
                    "choropleth": [
                      {
                        "colorbar": {
                          "outlinewidth": 0,
                          "tickcolor": "rgb(36,36,36)",
                          "ticklen": 8,
                          "ticks": "outside",
                          "tickwidth": 2
                        },
                        "type": "choropleth"
                      }
                    ],
                    "contour": [
                      {
                        "colorbar": {
                          "outlinewidth": 0,
                          "tickcolor": "rgb(36,36,36)",
                          "ticklen": 8,
                          "ticks": "outside",
                          "tickwidth": 2
                        },
                        "colorscale": [
                          [
                            0,
                            "rgb(2,4,25)"
                          ],
                          [
                            0.06274509803921569,
                            "rgb(24,15,41)"
                          ],
                          [
                            0.12549019607843137,
                            "rgb(47,23,57)"
                          ],
                          [
                            0.18823529411764706,
                            "rgb(71,28,72)"
                          ],
                          [
                            0.25098039215686274,
                            "rgb(97,30,82)"
                          ],
                          [
                            0.3137254901960784,
                            "rgb(123,30,89)"
                          ],
                          [
                            0.3764705882352941,
                            "rgb(150,27,91)"
                          ],
                          [
                            0.4392156862745098,
                            "rgb(177,22,88)"
                          ],
                          [
                            0.5019607843137255,
                            "rgb(203,26,79)"
                          ],
                          [
                            0.5647058823529412,
                            "rgb(223,47,67)"
                          ],
                          [
                            0.6274509803921569,
                            "rgb(236,76,61)"
                          ],
                          [
                            0.6901960784313725,
                            "rgb(242,107,73)"
                          ],
                          [
                            0.7529411764705882,
                            "rgb(244,135,95)"
                          ],
                          [
                            0.8156862745098039,
                            "rgb(245,162,122)"
                          ],
                          [
                            0.8784313725490196,
                            "rgb(246,188,153)"
                          ],
                          [
                            0.9411764705882353,
                            "rgb(247,212,187)"
                          ],
                          [
                            1,
                            "rgb(250,234,220)"
                          ]
                        ],
                        "type": "contour"
                      }
                    ],
                    "contourcarpet": [
                      {
                        "colorbar": {
                          "outlinewidth": 0,
                          "tickcolor": "rgb(36,36,36)",
                          "ticklen": 8,
                          "ticks": "outside",
                          "tickwidth": 2
                        },
                        "type": "contourcarpet"
                      }
                    ],
                    "heatmap": [
                      {
                        "colorbar": {
                          "outlinewidth": 0,
                          "tickcolor": "rgb(36,36,36)",
                          "ticklen": 8,
                          "ticks": "outside",
                          "tickwidth": 2
                        },
                        "colorscale": [
                          [
                            0,
                            "rgb(2,4,25)"
                          ],
                          [
                            0.06274509803921569,
                            "rgb(24,15,41)"
                          ],
                          [
                            0.12549019607843137,
                            "rgb(47,23,57)"
                          ],
                          [
                            0.18823529411764706,
                            "rgb(71,28,72)"
                          ],
                          [
                            0.25098039215686274,
                            "rgb(97,30,82)"
                          ],
                          [
                            0.3137254901960784,
                            "rgb(123,30,89)"
                          ],
                          [
                            0.3764705882352941,
                            "rgb(150,27,91)"
                          ],
                          [
                            0.4392156862745098,
                            "rgb(177,22,88)"
                          ],
                          [
                            0.5019607843137255,
                            "rgb(203,26,79)"
                          ],
                          [
                            0.5647058823529412,
                            "rgb(223,47,67)"
                          ],
                          [
                            0.6274509803921569,
                            "rgb(236,76,61)"
                          ],
                          [
                            0.6901960784313725,
                            "rgb(242,107,73)"
                          ],
                          [
                            0.7529411764705882,
                            "rgb(244,135,95)"
                          ],
                          [
                            0.8156862745098039,
                            "rgb(245,162,122)"
                          ],
                          [
                            0.8784313725490196,
                            "rgb(246,188,153)"
                          ],
                          [
                            0.9411764705882353,
                            "rgb(247,212,187)"
                          ],
                          [
                            1,
                            "rgb(250,234,220)"
                          ]
                        ],
                        "type": "heatmap"
                      }
                    ],
                    "heatmapgl": [
                      {
                        "colorbar": {
                          "outlinewidth": 0,
                          "tickcolor": "rgb(36,36,36)",
                          "ticklen": 8,
                          "ticks": "outside",
                          "tickwidth": 2
                        },
                        "colorscale": [
                          [
                            0,
                            "rgb(2,4,25)"
                          ],
                          [
                            0.06274509803921569,
                            "rgb(24,15,41)"
                          ],
                          [
                            0.12549019607843137,
                            "rgb(47,23,57)"
                          ],
                          [
                            0.18823529411764706,
                            "rgb(71,28,72)"
                          ],
                          [
                            0.25098039215686274,
                            "rgb(97,30,82)"
                          ],
                          [
                            0.3137254901960784,
                            "rgb(123,30,89)"
                          ],
                          [
                            0.3764705882352941,
                            "rgb(150,27,91)"
                          ],
                          [
                            0.4392156862745098,
                            "rgb(177,22,88)"
                          ],
                          [
                            0.5019607843137255,
                            "rgb(203,26,79)"
                          ],
                          [
                            0.5647058823529412,
                            "rgb(223,47,67)"
                          ],
                          [
                            0.6274509803921569,
                            "rgb(236,76,61)"
                          ],
                          [
                            0.6901960784313725,
                            "rgb(242,107,73)"
                          ],
                          [
                            0.7529411764705882,
                            "rgb(244,135,95)"
                          ],
                          [
                            0.8156862745098039,
                            "rgb(245,162,122)"
                          ],
                          [
                            0.8784313725490196,
                            "rgb(246,188,153)"
                          ],
                          [
                            0.9411764705882353,
                            "rgb(247,212,187)"
                          ],
                          [
                            1,
                            "rgb(250,234,220)"
                          ]
                        ],
                        "type": "heatmapgl"
                      }
                    ],
                    "histogram": [
                      {
                        "marker": {
                          "pattern": {
                            "fillmode": "overlay",
                            "size": 10,
                            "solidity": 0.2
                          }
                        },
                        "type": "histogram"
                      }
                    ],
                    "histogram2d": [
                      {
                        "colorbar": {
                          "outlinewidth": 0,
                          "tickcolor": "rgb(36,36,36)",
                          "ticklen": 8,
                          "ticks": "outside",
                          "tickwidth": 2
                        },
                        "colorscale": [
                          [
                            0,
                            "rgb(2,4,25)"
                          ],
                          [
                            0.06274509803921569,
                            "rgb(24,15,41)"
                          ],
                          [
                            0.12549019607843137,
                            "rgb(47,23,57)"
                          ],
                          [
                            0.18823529411764706,
                            "rgb(71,28,72)"
                          ],
                          [
                            0.25098039215686274,
                            "rgb(97,30,82)"
                          ],
                          [
                            0.3137254901960784,
                            "rgb(123,30,89)"
                          ],
                          [
                            0.3764705882352941,
                            "rgb(150,27,91)"
                          ],
                          [
                            0.4392156862745098,
                            "rgb(177,22,88)"
                          ],
                          [
                            0.5019607843137255,
                            "rgb(203,26,79)"
                          ],
                          [
                            0.5647058823529412,
                            "rgb(223,47,67)"
                          ],
                          [
                            0.6274509803921569,
                            "rgb(236,76,61)"
                          ],
                          [
                            0.6901960784313725,
                            "rgb(242,107,73)"
                          ],
                          [
                            0.7529411764705882,
                            "rgb(244,135,95)"
                          ],
                          [
                            0.8156862745098039,
                            "rgb(245,162,122)"
                          ],
                          [
                            0.8784313725490196,
                            "rgb(246,188,153)"
                          ],
                          [
                            0.9411764705882353,
                            "rgb(247,212,187)"
                          ],
                          [
                            1,
                            "rgb(250,234,220)"
                          ]
                        ],
                        "type": "histogram2d"
                      }
                    ],
                    "histogram2dcontour": [
                      {
                        "colorbar": {
                          "outlinewidth": 0,
                          "tickcolor": "rgb(36,36,36)",
                          "ticklen": 8,
                          "ticks": "outside",
                          "tickwidth": 2
                        },
                        "colorscale": [
                          [
                            0,
                            "rgb(2,4,25)"
                          ],
                          [
                            0.06274509803921569,
                            "rgb(24,15,41)"
                          ],
                          [
                            0.12549019607843137,
                            "rgb(47,23,57)"
                          ],
                          [
                            0.18823529411764706,
                            "rgb(71,28,72)"
                          ],
                          [
                            0.25098039215686274,
                            "rgb(97,30,82)"
                          ],
                          [
                            0.3137254901960784,
                            "rgb(123,30,89)"
                          ],
                          [
                            0.3764705882352941,
                            "rgb(150,27,91)"
                          ],
                          [
                            0.4392156862745098,
                            "rgb(177,22,88)"
                          ],
                          [
                            0.5019607843137255,
                            "rgb(203,26,79)"
                          ],
                          [
                            0.5647058823529412,
                            "rgb(223,47,67)"
                          ],
                          [
                            0.6274509803921569,
                            "rgb(236,76,61)"
                          ],
                          [
                            0.6901960784313725,
                            "rgb(242,107,73)"
                          ],
                          [
                            0.7529411764705882,
                            "rgb(244,135,95)"
                          ],
                          [
                            0.8156862745098039,
                            "rgb(245,162,122)"
                          ],
                          [
                            0.8784313725490196,
                            "rgb(246,188,153)"
                          ],
                          [
                            0.9411764705882353,
                            "rgb(247,212,187)"
                          ],
                          [
                            1,
                            "rgb(250,234,220)"
                          ]
                        ],
                        "type": "histogram2dcontour"
                      }
                    ],
                    "mesh3d": [
                      {
                        "colorbar": {
                          "outlinewidth": 0,
                          "tickcolor": "rgb(36,36,36)",
                          "ticklen": 8,
                          "ticks": "outside",
                          "tickwidth": 2
                        },
                        "type": "mesh3d"
                      }
                    ],
                    "parcoords": [
                      {
                        "line": {
                          "colorbar": {
                            "outlinewidth": 0,
                            "tickcolor": "rgb(36,36,36)",
                            "ticklen": 8,
                            "ticks": "outside",
                            "tickwidth": 2
                          }
                        },
                        "type": "parcoords"
                      }
                    ],
                    "pie": [
                      {
                        "automargin": true,
                        "type": "pie"
                      }
                    ],
                    "scatter": [
                      {
                        "fillpattern": {
                          "fillmode": "overlay",
                          "size": 10,
                          "solidity": 0.2
                        },
                        "type": "scatter"
                      }
                    ],
                    "scatter3d": [
                      {
                        "line": {
                          "colorbar": {
                            "outlinewidth": 0,
                            "tickcolor": "rgb(36,36,36)",
                            "ticklen": 8,
                            "ticks": "outside",
                            "tickwidth": 2
                          }
                        },
                        "marker": {
                          "colorbar": {
                            "outlinewidth": 0,
                            "tickcolor": "rgb(36,36,36)",
                            "ticklen": 8,
                            "ticks": "outside",
                            "tickwidth": 2
                          }
                        },
                        "type": "scatter3d"
                      }
                    ],
                    "scattercarpet": [
                      {
                        "marker": {
                          "colorbar": {
                            "outlinewidth": 0,
                            "tickcolor": "rgb(36,36,36)",
                            "ticklen": 8,
                            "ticks": "outside",
                            "tickwidth": 2
                          }
                        },
                        "type": "scattercarpet"
                      }
                    ],
                    "scattergeo": [
                      {
                        "marker": {
                          "colorbar": {
                            "outlinewidth": 0,
                            "tickcolor": "rgb(36,36,36)",
                            "ticklen": 8,
                            "ticks": "outside",
                            "tickwidth": 2
                          }
                        },
                        "type": "scattergeo"
                      }
                    ],
                    "scattergl": [
                      {
                        "marker": {
                          "colorbar": {
                            "outlinewidth": 0,
                            "tickcolor": "rgb(36,36,36)",
                            "ticklen": 8,
                            "ticks": "outside",
                            "tickwidth": 2
                          }
                        },
                        "type": "scattergl"
                      }
                    ],
                    "scattermapbox": [
                      {
                        "marker": {
                          "colorbar": {
                            "outlinewidth": 0,
                            "tickcolor": "rgb(36,36,36)",
                            "ticklen": 8,
                            "ticks": "outside",
                            "tickwidth": 2
                          }
                        },
                        "type": "scattermapbox"
                      }
                    ],
                    "scatterpolar": [
                      {
                        "marker": {
                          "colorbar": {
                            "outlinewidth": 0,
                            "tickcolor": "rgb(36,36,36)",
                            "ticklen": 8,
                            "ticks": "outside",
                            "tickwidth": 2
                          }
                        },
                        "type": "scatterpolar"
                      }
                    ],
                    "scatterpolargl": [
                      {
                        "marker": {
                          "colorbar": {
                            "outlinewidth": 0,
                            "tickcolor": "rgb(36,36,36)",
                            "ticklen": 8,
                            "ticks": "outside",
                            "tickwidth": 2
                          }
                        },
                        "type": "scatterpolargl"
                      }
                    ],
                    "scatterternary": [
                      {
                        "marker": {
                          "colorbar": {
                            "outlinewidth": 0,
                            "tickcolor": "rgb(36,36,36)",
                            "ticklen": 8,
                            "ticks": "outside",
                            "tickwidth": 2
                          }
                        },
                        "type": "scatterternary"
                      }
                    ],
                    "surface": [
                      {
                        "colorbar": {
                          "outlinewidth": 0,
                          "tickcolor": "rgb(36,36,36)",
                          "ticklen": 8,
                          "ticks": "outside",
                          "tickwidth": 2
                        },
                        "colorscale": [
                          [
                            0,
                            "rgb(2,4,25)"
                          ],
                          [
                            0.06274509803921569,
                            "rgb(24,15,41)"
                          ],
                          [
                            0.12549019607843137,
                            "rgb(47,23,57)"
                          ],
                          [
                            0.18823529411764706,
                            "rgb(71,28,72)"
                          ],
                          [
                            0.25098039215686274,
                            "rgb(97,30,82)"
                          ],
                          [
                            0.3137254901960784,
                            "rgb(123,30,89)"
                          ],
                          [
                            0.3764705882352941,
                            "rgb(150,27,91)"
                          ],
                          [
                            0.4392156862745098,
                            "rgb(177,22,88)"
                          ],
                          [
                            0.5019607843137255,
                            "rgb(203,26,79)"
                          ],
                          [
                            0.5647058823529412,
                            "rgb(223,47,67)"
                          ],
                          [
                            0.6274509803921569,
                            "rgb(236,76,61)"
                          ],
                          [
                            0.6901960784313725,
                            "rgb(242,107,73)"
                          ],
                          [
                            0.7529411764705882,
                            "rgb(244,135,95)"
                          ],
                          [
                            0.8156862745098039,
                            "rgb(245,162,122)"
                          ],
                          [
                            0.8784313725490196,
                            "rgb(246,188,153)"
                          ],
                          [
                            0.9411764705882353,
                            "rgb(247,212,187)"
                          ],
                          [
                            1,
                            "rgb(250,234,220)"
                          ]
                        ],
                        "type": "surface"
                      }
                    ],
                    "table": [
                      {
                        "cells": {
                          "fill": {
                            "color": "rgb(231,231,240)"
                          },
                          "line": {
                            "color": "white"
                          }
                        },
                        "header": {
                          "fill": {
                            "color": "rgb(183,183,191)"
                          },
                          "line": {
                            "color": "white"
                          }
                        },
                        "type": "table"
                      }
                    ]
                  },
                  "layout": {
                    "annotationdefaults": {
                      "arrowcolor": "rgb(67,103,167)"
                    },
                    "autotypenumbers": "strict",
                    "coloraxis": {
                      "colorbar": {
                        "outlinewidth": 0,
                        "tickcolor": "rgb(36,36,36)",
                        "ticklen": 8,
                        "ticks": "outside",
                        "tickwidth": 2
                      }
                    },
                    "colorscale": {
                      "sequential": [
                        [
                          0,
                          "rgb(2,4,25)"
                        ],
                        [
                          0.06274509803921569,
                          "rgb(24,15,41)"
                        ],
                        [
                          0.12549019607843137,
                          "rgb(47,23,57)"
                        ],
                        [
                          0.18823529411764706,
                          "rgb(71,28,72)"
                        ],
                        [
                          0.25098039215686274,
                          "rgb(97,30,82)"
                        ],
                        [
                          0.3137254901960784,
                          "rgb(123,30,89)"
                        ],
                        [
                          0.3764705882352941,
                          "rgb(150,27,91)"
                        ],
                        [
                          0.4392156862745098,
                          "rgb(177,22,88)"
                        ],
                        [
                          0.5019607843137255,
                          "rgb(203,26,79)"
                        ],
                        [
                          0.5647058823529412,
                          "rgb(223,47,67)"
                        ],
                        [
                          0.6274509803921569,
                          "rgb(236,76,61)"
                        ],
                        [
                          0.6901960784313725,
                          "rgb(242,107,73)"
                        ],
                        [
                          0.7529411764705882,
                          "rgb(244,135,95)"
                        ],
                        [
                          0.8156862745098039,
                          "rgb(245,162,122)"
                        ],
                        [
                          0.8784313725490196,
                          "rgb(246,188,153)"
                        ],
                        [
                          0.9411764705882353,
                          "rgb(247,212,187)"
                        ],
                        [
                          1,
                          "rgb(250,234,220)"
                        ]
                      ],
                      "sequentialminus": [
                        [
                          0,
                          "rgb(2,4,25)"
                        ],
                        [
                          0.06274509803921569,
                          "rgb(24,15,41)"
                        ],
                        [
                          0.12549019607843137,
                          "rgb(47,23,57)"
                        ],
                        [
                          0.18823529411764706,
                          "rgb(71,28,72)"
                        ],
                        [
                          0.25098039215686274,
                          "rgb(97,30,82)"
                        ],
                        [
                          0.3137254901960784,
                          "rgb(123,30,89)"
                        ],
                        [
                          0.3764705882352941,
                          "rgb(150,27,91)"
                        ],
                        [
                          0.4392156862745098,
                          "rgb(177,22,88)"
                        ],
                        [
                          0.5019607843137255,
                          "rgb(203,26,79)"
                        ],
                        [
                          0.5647058823529412,
                          "rgb(223,47,67)"
                        ],
                        [
                          0.6274509803921569,
                          "rgb(236,76,61)"
                        ],
                        [
                          0.6901960784313725,
                          "rgb(242,107,73)"
                        ],
                        [
                          0.7529411764705882,
                          "rgb(244,135,95)"
                        ],
                        [
                          0.8156862745098039,
                          "rgb(245,162,122)"
                        ],
                        [
                          0.8784313725490196,
                          "rgb(246,188,153)"
                        ],
                        [
                          0.9411764705882353,
                          "rgb(247,212,187)"
                        ],
                        [
                          1,
                          "rgb(250,234,220)"
                        ]
                      ]
                    },
                    "colorway": [
                      "rgb(76,114,176)",
                      "rgb(221,132,82)",
                      "rgb(85,168,104)",
                      "rgb(196,78,82)",
                      "rgb(129,114,179)",
                      "rgb(147,120,96)",
                      "rgb(218,139,195)",
                      "rgb(140,140,140)",
                      "rgb(204,185,116)",
                      "rgb(100,181,205)"
                    ],
                    "font": {
                      "color": "rgb(36,36,36)"
                    },
                    "geo": {
                      "bgcolor": "white",
                      "lakecolor": "white",
                      "landcolor": "rgb(234,234,242)",
                      "showlakes": true,
                      "showland": true,
                      "subunitcolor": "white"
                    },
                    "hoverlabel": {
                      "align": "left"
                    },
                    "hovermode": "closest",
                    "paper_bgcolor": "white",
                    "plot_bgcolor": "rgb(234,234,242)",
                    "polar": {
                      "angularaxis": {
                        "gridcolor": "white",
                        "linecolor": "white",
                        "showgrid": true,
                        "ticks": ""
                      },
                      "bgcolor": "rgb(234,234,242)",
                      "radialaxis": {
                        "gridcolor": "white",
                        "linecolor": "white",
                        "showgrid": true,
                        "ticks": ""
                      }
                    },
                    "scene": {
                      "xaxis": {
                        "backgroundcolor": "rgb(234,234,242)",
                        "gridcolor": "white",
                        "gridwidth": 2,
                        "linecolor": "white",
                        "showbackground": true,
                        "showgrid": true,
                        "ticks": "",
                        "zerolinecolor": "white"
                      },
                      "yaxis": {
                        "backgroundcolor": "rgb(234,234,242)",
                        "gridcolor": "white",
                        "gridwidth": 2,
                        "linecolor": "white",
                        "showbackground": true,
                        "showgrid": true,
                        "ticks": "",
                        "zerolinecolor": "white"
                      },
                      "zaxis": {
                        "backgroundcolor": "rgb(234,234,242)",
                        "gridcolor": "white",
                        "gridwidth": 2,
                        "linecolor": "white",
                        "showbackground": true,
                        "showgrid": true,
                        "ticks": "",
                        "zerolinecolor": "white"
                      }
                    },
                    "shapedefaults": {
                      "fillcolor": "rgb(67,103,167)",
                      "line": {
                        "width": 0
                      },
                      "opacity": 0.5
                    },
                    "ternary": {
                      "aaxis": {
                        "gridcolor": "white",
                        "linecolor": "white",
                        "showgrid": true,
                        "ticks": ""
                      },
                      "baxis": {
                        "gridcolor": "white",
                        "linecolor": "white",
                        "showgrid": true,
                        "ticks": ""
                      },
                      "bgcolor": "rgb(234,234,242)",
                      "caxis": {
                        "gridcolor": "white",
                        "linecolor": "white",
                        "showgrid": true,
                        "ticks": ""
                      }
                    },
                    "xaxis": {
                      "automargin": true,
                      "gridcolor": "white",
                      "linecolor": "white",
                      "showgrid": true,
                      "ticks": "",
                      "title": {
                        "standoff": 15
                      },
                      "zerolinecolor": "white"
                    },
                    "yaxis": {
                      "automargin": true,
                      "gridcolor": "white",
                      "linecolor": "white",
                      "showgrid": true,
                      "ticks": "",
                      "title": {
                        "standoff": 15
                      },
                      "zerolinecolor": "white"
                    }
                  }
                },
                "title": {
                  "text": "Real value vs predicted in test data"
                },
                "width": 800,
                "xaxis": {
                  "title": {
                    "text": "Date time"
                  }
                },
                "yaxis": {
                  "title": {
                    "text": "Quantity"
                  }
                }
              }
            }
          },
          "metadata": {},
          "output_type": "display_data"
        }
      ],
      "source": [
        "# Plot predictions vs real value\n",
        "# ======================================================================================\n",
        "fig = go.Figure()\n",
        "trace1 = go.Scatter(x=data_test.index, y=data_test['quantity'], name=\"test\", mode=\"lines\")\n",
        "trace2 = go.Scatter(x=predictions.index, y=predictions['pred'], name=\"prediction\", mode=\"lines\")\n",
        "fig.add_trace(trace1)\n",
        "fig.add_trace(trace2)\n",
        "fig.update_layout(\n",
        "    title=\"Real value vs predicted in test data\",\n",
        "    xaxis_title=\"Date time\",\n",
        "    yaxis_title=\"Quantity\",\n",
        "    width  = 800,\n",
        "    height = 400,\n",
        "    margin=dict(l=20, r=20, t=35, b=20),\n",
        "    legend=dict(\n",
        "        orientation=\"h\",\n",
        "        yanchor=\"top\",\n",
        "        y=1.1,\n",
        "        xanchor=\"left\",\n",
        "        x=0.001\n",
        "    )\n",
        ")\n",
        "fig.show()"
      ]
    },
    {
      "cell_type": "code",
      "execution_count": 196,
      "metadata": {},
      "outputs": [
        {
          "name": "stdout",
          "output_type": "stream",
          "text": [
            "Note: you may need to restart the kernel to use updated packages.\n"
          ]
        },
        {
          "name": "stderr",
          "output_type": "stream",
          "text": [
            "ERROR: Could not find a version that satisfies the requirement pickle (from versions: none)\n",
            "ERROR: No matching distribution found for pickle\n",
            "WARNING: You are using pip version 22.0.4; however, version 24.0 is available.\n",
            "You should consider upgrading via the 'c:\\Users\\ntwri\\Work\\farm-service\\ml\\venv\\Scripts\\python.exe -m pip install --upgrade pip' command.\n"
          ]
        }
      ],
      "source": [
        "%pip install pickle"
      ]
    },
    {
      "cell_type": "code",
      "execution_count": 197,
      "metadata": {},
      "outputs": [],
      "source": [
        "import pickle\n",
        "\n",
        "with open('forecaster_hawaii_m.pkl', 'wb') as f:\n",
        "    pickle.dump(forecaster, f)"
      ]
    },
    {
      "cell_type": "markdown",
      "metadata": {
        "id": "-50NwWfxGGdt"
      },
      "source": [
        "## Exogenous features\n",
        "<br>\n",
        "\n",
        "In addition to using autoregressive predictors obtained from the past of the response variable itself, it is possible to add other exogenous variables. In this case, calendar information (month, day of the week, time, holidays, ...) and weather variables (wind, temperature, humidity, ...) are available."
      ]
    },
    {
      "cell_type": "markdown",
      "metadata": {
        "id": "SoyfGeG9GGdu"
      },
      "source": [
        "\n",
        "\n",
        "<div class=\"admonition note\" name=\"html-admonition\" style=\"background: rgba(255,145,0,.1); padding-top: 6px; padding-bottom: 6px; padding-left: 6px; padding-right: 6px; border-radius: 8px; border-left: 8px solid #ff9100; padding-left: 10px;\">\n",
        "\n",
        "<p class=\"title\">\n",
        "    <i class=\"fa-triangle-exclamation fa\" style=\"font-size: 18px; color:#ff9100;\"></i>\n",
        "    <b>⚠ Warning</b>\n",
        "</p>\n",
        "\n",
        "The use of weather variables should be done with caution. When the model is deployed into production, future weather conditions are not known, but are predictions made by the meteorological services. As these are predictions, they introduce errors into the forecasting model. As a consequence, the model's predictions are likely to get worse. One way to anticipate this problem, and to know (not avoid) the expected performance of the model,  is to use the weather forecasts available at the time of model training, rather than the recorded conditions.\n",
        "\n",
        "</div>"
      ]
    },
    {
      "cell_type": "markdown",
      "metadata": {
        "id": "s7chm-zWGGdu"
      },
      "source": [
        "### Continuous features with a cyclical pattern\n",
        "<br>\n",
        "\n",
        "Continuous features that have a cyclic pattern, such as hours, can be handled in several ways, each with its advantages and disadvantages.\n",
        "\n",
        "One approach is to use the features directly as numeric values without any transformation. This method avoids generating numerous new features but may impose an incorrect linear order on the values. For example, hour 23 of one day and hour 00 of the next are very far apart when in fact there is only one hour difference between them.\n",
        "\n",
        "Another possibility is to treat cyclical features as categorical variables to avoid imposing a linear order. However, this approach may result in the loss of the cyclical information inherent in the variable.\n",
        "\n",
        "There is a third way of dealing with cyclical features that is often preferred to the other two methods. This involves transforming the features using the sine and cosine of their period. This approach generates only two new features that capture the cyclicality of the data in a more accurately than the previous two methods because it preserves the natural order of the feature and avoids imposing a linear order."
      ]
    },
    {
      "cell_type": "code",
      "execution_count": null,
      "metadata": {
        "id": "6uLXYGTVGGdu",
        "outputId": "01658aa6-c8c9-44a7-b2cf-f2886d985358"
      },
      "outputs": [
        {
          "data": {
            "image/png": "[encoded data removed]",
            "text/plain": [
              "<Figure size 350x300 with 2 Axes>"
            ]
          },
          "metadata": {},
          "output_type": "display_data"
        }
      ],
      "source": [
        "# Transformation sine-cosine of variable hour\n",
        "# ==============================================================================\n",
        "data['hour_sin'] = np.sin(data['hour'] / 23 * 2 * np.pi)\n",
        "data['hour_cos'] = np.cos(data['hour'] / 23 * 2 * np.pi)\n",
        "\n",
        "# Plot of the transformation\n",
        "# ==============================================================================\n",
        "fig, ax = plt.subplots(figsize=(3.5, 3))\n",
        "sp = ax.scatter(\n",
        "        data[\"hour_sin\"],\n",
        "        data[\"hour_cos\"],\n",
        "        c=data[\"hour\"],\n",
        "        cmap='viridis'\n",
        "     )\n",
        "ax.set(\n",
        "    xlabel=\"sin(hour)\",\n",
        "    ylabel=\"cos(hour)\",\n",
        ")\n",
        "_ = fig.colorbar(sp)\n",
        "data = data.drop(columns='hour')"
      ]
    },
    {
      "cell_type": "markdown",
      "metadata": {
        "id": "6hYe2bslGGdu"
      },
      "source": [
        "### Categorical features\n",
        "<br>\n",
        "\n",
        "Although the variables 'month', 'weekday', 'weather' and 'holiday' are stored as numeric values, they are actually categorical variables. Therefore, it is important to convert their data type to categorical to prevent the model from interpreting them as numeric features. This will help ensure that the model is able to accurately capture the unique characteristics and patterns of these variables."
      ]
    },
    {
      "cell_type": "code",
      "execution_count": null,
      "metadata": {
        "id": "XqY_DtUpGGdu"
      },
      "outputs": [],
      "source": [
        "# Store categorical variables as category type\n",
        "# ==============================================================================\n",
        "data[\"holiday\"] = data[\"holiday\"].astype(\"category\")\n",
        "data[\"weather\"] = data[\"weather\"].astype(\"category\")\n",
        "data[\"month\"]   = data[\"month\"].astype(\"category\")\n",
        "data[\"weekday\"] = data[\"weekday\"].astype(\"category\")"
      ]
    },
    {
      "cell_type": "markdown",
      "metadata": {
        "id": "1J5kisg5GGdy"
      },
      "source": [
        "There are several approaches to incorporating categorical variables into XGBoost (and other gradient boosting frameworks):\n",
        "\n",
        "+ One option is to transform the data by converting categorical values to numerical values using methods such as one-hot encoding or ordinal encoding. This approach is applicable to all machine learning models.\n",
        "\n",
        "+ Alternatively, XGBoost can handle categorical variables internally without the need for preprocessing. This can be done automatically by setting the parameter `enable_categorical='auto'` and encoding the variables as the `category` datatype within a Pandas DataFrame. Alternatively, users can specify the category type of each feature using the `feature_dtype` parameter."
      ]
    },
    {
      "cell_type": "markdown",
      "metadata": {
        "id": "IyIeqAaTGGdy"
      },
      "source": [
        "<div class=\"admonition note\" name=\"html-admonition\" style=\"background: rgba(0,184,212,.1); padding-top: 0px; padding-bottom: 6px; border-radius: 8px; border-left: 8px solid #00b8d4; padding-left: 10px;\">\n",
        "\n",
        "<p class=\"title\">\n",
        "    <i style=\"font-size: 18px; color:#00b8d4;\"></i>\n",
        "    <b style=\"color: #00b8d4;\">🖉 Note</b>\n",
        "</p>\n",
        "\n",
        "There is no one method that always outperforms the others. General rules are:\n",
        "\n",
        "<ul>\n",
        "  <li>When the cardinality of categorical variables is high (many different values), it is better to use native support for categorical variables than to use one-hot encoding.</li><br>\n",
        "\n",
        "  <li>With one-hot-encoded data, more split points are needed (i.e. more depth) to recover an equivalent split that could be obtained with a single split point using native handling.</li><br>\n",
        "  \n",
        "  <li>When a categorical variable is converted into multiple dummy variables using one-hot, its importance is diluted, making the analysis of the importance of the features more complex to interpret. </li><br>\n",
        "</ul>\n",
        "</div>"
      ]
    },
    {
      "cell_type": "markdown",
      "metadata": {
        "id": "h2aZFfgdGGdy"
      },
      "source": [
        "### One hot encoding\n",
        "\n",
        "[ColumnTransformers in scikit-learn](https://scikit-learn.org/stable/modules/generated/sklearn.compose.ColumnTransformer.html) provide a powerful way to define transformations and apply them to specific features. By encapsulating the transformations in a `ColumnTransformer` object, it can be passed to a forecaster using the `transformer_exog` argument."
      ]
    },
    {
      "cell_type": "markdown",
      "metadata": {
        "id": "kyZa-UXNGGdz"
      },
      "source": [
        "<div class=\"admonition note\" name=\"html-admonition\" style=\"background: rgba(0,184,212,.1); padding-top: 0px; padding-bottom: 6px; border-radius: 8px; border-left: 8px solid #00b8d4; padding-left: 10px;\">\n",
        "\n",
        "<p class=\"title\">\n",
        "    <i style=\"font-size: 18px; color:#00b8d4;\"></i>\n",
        "    <b style=\"color: #00b8d4;\">🖉 Note</b>\n",
        "</p>\n",
        "\n",
        "Applying a transformation to the entire dataset independent of the forecaster is feasible. However, it is crucial to ensure that the transformations are learned only from the training data to avoid information leakage. In addition, the same transformation should be applied to the input data during prediction. Therefore, it is advisable to include the transformation in the forecaster, so that it is handled internally. This approach ensures consistency in the application of transformations and reduces the likelihood of errors.\n",
        "\n",
        "</div>"
      ]
    },
    {
      "cell_type": "code",
      "execution_count": null,
      "metadata": {
        "id": "NP7-JQ6jGGdz"
      },
      "outputs": [],
      "source": [
        "# One hot encoding transformer\n",
        "# ==============================================================================\n",
        "one_hot_encoder = make_column_transformer(\n",
        "                      (\n",
        "                          OneHotEncoder(sparse_output=False, drop='if_binary'),\n",
        "                          make_column_selector(dtype_exclude=np.number),\n",
        "                      ),\n",
        "                      remainder=\"passthrough\",\n",
        "                      verbose_feature_names_out=False,\n",
        "                  ).set_output(transform=\"pandas\")"
      ]
    },
    {
      "cell_type": "code",
      "execution_count": null,
      "metadata": {
        "id": "xAJPxKUuGGdz"
      },
      "outputs": [],
      "source": [
        "# Create forecaster with a transformer for exogenous features\n",
        "# ==============================================================================\n",
        "forecaster = ForecasterAutoreg(\n",
        "                 regressor        = XGBRegressor(random_state=123),\n",
        "                 lags             = 24,\n",
        "                 transformer_exog = one_hot_encoder\n",
        "             )"
      ]
    },
    {
      "cell_type": "markdown",
      "metadata": {
        "id": "orIovZG8GGdz"
      },
      "source": [
        "To examine how the data is transformed, it is possible to use the `create_train_X_y` method to generate the matrices that the forecaster uses to train the model. This approach provides insight into the specific data manipulations that occur during the training process."
      ]
    },
    {
      "cell_type": "code",
      "execution_count": null,
      "metadata": {
        "id": "mevho_SXGGdz",
        "outputId": "e5d1fbc9-40f8-4bc0-cac1-9e49f2faa8c5"
      },
      "outputs": [
        {
          "data": {
            "text/html": [
              "<div>\n",
              "<style scoped>\n",
              "    .dataframe tbody tr th:only-of-type {\n",
              "        vertical-align: middle;\n",
              "    }\n",
              "\n",
              "    .dataframe tbody tr th {\n",
              "        vertical-align: top;\n",
              "    }\n",
              "\n",
              "    .dataframe thead th {\n",
              "        text-align: right;\n",
              "    }\n",
              "</style>\n",
              "<table border=\"1\" class=\"dataframe\">\n",
              "  <thead>\n",
              "    <tr style=\"text-align: right;\">\n",
              "      <th></th>\n",
              "      <th>lag_1</th>\n",
              "      <th>lag_2</th>\n",
              "      <th>lag_3</th>\n",
              "      <th>lag_4</th>\n",
              "      <th>lag_5</th>\n",
              "      <th>lag_6</th>\n",
              "      <th>lag_7</th>\n",
              "      <th>lag_8</th>\n",
              "      <th>lag_9</th>\n",
              "      <th>lag_10</th>\n",
              "      <th>...</th>\n",
              "      <th>weekday_4</th>\n",
              "      <th>weekday_5</th>\n",
              "      <th>weekday_6</th>\n",
              "      <th>holiday_1.0</th>\n",
              "      <th>hour_sin</th>\n",
              "      <th>hour_cos</th>\n",
              "      <th>temp</th>\n",
              "      <th>atemp</th>\n",
              "      <th>hum</th>\n",
              "      <th>windspeed</th>\n",
              "    </tr>\n",
              "    <tr>\n",
              "      <th>date_time</th>\n",
              "      <th></th>\n",
              "      <th></th>\n",
              "      <th></th>\n",
              "      <th></th>\n",
              "      <th></th>\n",
              "      <th></th>\n",
              "      <th></th>\n",
              "      <th></th>\n",
              "      <th></th>\n",
              "      <th></th>\n",
              "      <th></th>\n",
              "      <th></th>\n",
              "      <th></th>\n",
              "      <th></th>\n",
              "      <th></th>\n",
              "      <th></th>\n",
              "      <th></th>\n",
              "      <th></th>\n",
              "      <th></th>\n",
              "      <th></th>\n",
              "      <th></th>\n",
              "    </tr>\n",
              "  </thead>\n",
              "  <tbody>\n",
              "    <tr>\n",
              "      <th>2011-01-02 00:00:00</th>\n",
              "      <td>39.0</td>\n",
              "      <td>28.0</td>\n",
              "      <td>34.0</td>\n",
              "      <td>36.0</td>\n",
              "      <td>37.0</td>\n",
              "      <td>35.0</td>\n",
              "      <td>67.0</td>\n",
              "      <td>93.0</td>\n",
              "      <td>110.0</td>\n",
              "      <td>106.0</td>\n",
              "      <td>...</td>\n",
              "      <td>0.0</td>\n",
              "      <td>0.0</td>\n",
              "      <td>1.0</td>\n",
              "      <td>0.0</td>\n",
              "      <td>0.000000</td>\n",
              "      <td>1.000000</td>\n",
              "      <td>18.86</td>\n",
              "      <td>22.725</td>\n",
              "      <td>88.0</td>\n",
              "      <td>19.9995</td>\n",
              "    </tr>\n",
              "    <tr>\n",
              "      <th>2011-01-02 01:00:00</th>\n",
              "      <td>17.0</td>\n",
              "      <td>39.0</td>\n",
              "      <td>28.0</td>\n",
              "      <td>34.0</td>\n",
              "      <td>36.0</td>\n",
              "      <td>37.0</td>\n",
              "      <td>35.0</td>\n",
              "      <td>67.0</td>\n",
              "      <td>93.0</td>\n",
              "      <td>110.0</td>\n",
              "      <td>...</td>\n",
              "      <td>0.0</td>\n",
              "      <td>0.0</td>\n",
              "      <td>1.0</td>\n",
              "      <td>0.0</td>\n",
              "      <td>0.269797</td>\n",
              "      <td>0.962917</td>\n",
              "      <td>18.04</td>\n",
              "      <td>21.970</td>\n",
              "      <td>94.0</td>\n",
              "      <td>16.9979</td>\n",
              "    </tr>\n",
              "    <tr>\n",
              "      <th>2011-01-02 02:00:00</th>\n",
              "      <td>17.0</td>\n",
              "      <td>17.0</td>\n",
              "      <td>39.0</td>\n",
              "      <td>28.0</td>\n",
              "      <td>34.0</td>\n",
              "      <td>36.0</td>\n",
              "      <td>37.0</td>\n",
              "      <td>35.0</td>\n",
              "      <td>67.0</td>\n",
              "      <td>93.0</td>\n",
              "      <td>...</td>\n",
              "      <td>0.0</td>\n",
              "      <td>0.0</td>\n",
              "      <td>1.0</td>\n",
              "      <td>0.0</td>\n",
              "      <td>0.519584</td>\n",
              "      <td>0.854419</td>\n",
              "      <td>17.22</td>\n",
              "      <td>21.210</td>\n",
              "      <td>100.0</td>\n",
              "      <td>19.0012</td>\n",
              "    </tr>\n",
              "  </tbody>\n",
              "</table>\n",
              "<p>3 rows × 53 columns</p>\n",
              "</div>"
            ],
            "text/plain": [
              "                     lag_1  lag_2  lag_3  lag_4  lag_5  lag_6  lag_7  lag_8  \\\n",
              "date_time                                                                     \n",
              "2011-01-02 00:00:00   39.0   28.0   34.0   36.0   37.0   35.0   67.0   93.0   \n",
              "2011-01-02 01:00:00   17.0   39.0   28.0   34.0   36.0   37.0   35.0   67.0   \n",
              "2011-01-02 02:00:00   17.0   17.0   39.0   28.0   34.0   36.0   37.0   35.0   \n",
              "\n",
              "                     lag_9  lag_10  ...  weekday_4  weekday_5  weekday_6  \\\n",
              "date_time                           ...                                    \n",
              "2011-01-02 00:00:00  110.0   106.0  ...        0.0        0.0        1.0   \n",
              "2011-01-02 01:00:00   93.0   110.0  ...        0.0        0.0        1.0   \n",
              "2011-01-02 02:00:00   67.0    93.0  ...        0.0        0.0        1.0   \n",
              "\n",
              "                     holiday_1.0  hour_sin  hour_cos   temp   atemp    hum  \\\n",
              "date_time                                                                    \n",
              "2011-01-02 00:00:00          0.0  0.000000  1.000000  18.86  22.725   88.0   \n",
              "2011-01-02 01:00:00          0.0  0.269797  0.962917  18.04  21.970   94.0   \n",
              "2011-01-02 02:00:00          0.0  0.519584  0.854419  17.22  21.210  100.0   \n",
              "\n",
              "                     windspeed  \n",
              "date_time                       \n",
              "2011-01-02 00:00:00    19.9995  \n",
              "2011-01-02 01:00:00    16.9979  \n",
              "2011-01-02 02:00:00    19.0012  \n",
              "\n",
              "[3 rows x 53 columns]"
            ]
          },
          "execution_count": 18,
          "metadata": {},
          "output_type": "execute_result"
        }
      ],
      "source": [
        "# View Training Matrix\n",
        "# ==============================================================================\n",
        "exog_features = ['weather', 'month', 'weekday', 'hour_sin', 'hour_cos', 'holiday',\n",
        "                 'temp', 'atemp', 'hum', 'windspeed']\n",
        "\n",
        "X_train, y_train = forecaster.create_train_X_y(\n",
        "                        y = data.loc[:end_validation, 'users'],\n",
        "                        exog = data.loc[:end_validation, exog_features]\n",
        "                   )\n",
        "X_train.head(3)"
      ]
    },
    {
      "cell_type": "code",
      "execution_count": null,
      "metadata": {
        "colab": {
          "referenced_widgets": [
            "7feb88b759244cfc847fdd7d00c20f0a",
            "8d7d423991314d2387ca6bc254a7b9a9",
            "041da44e4a294fdf9820dea1d11c9052"
          ]
        },
        "id": "zfm1NiVMGGdz",
        "outputId": "ccdf3d62-367b-44c3-b20c-593335610bf3"
      },
      "outputs": [
        {
          "name": "stdout",
          "output_type": "stream",
          "text": [
            "Number of models compared: 24.\n"
          ]
        },
        {
          "data": {
            "application/vnd.jupyter.widget-view+json": {
              "model_id": "7feb88b759244cfc847fdd7d00c20f0a",
              "version_major": 2,
              "version_minor": 0
            },
            "text/plain": [
              "lags grid:   0%|          | 0/2 [00:00<?, ?it/s]"
            ]
          },
          "metadata": {},
          "output_type": "display_data"
        },
        {
          "data": {
            "application/vnd.jupyter.widget-view+json": {
              "model_id": "8d7d423991314d2387ca6bc254a7b9a9",
              "version_major": 2,
              "version_minor": 0
            },
            "text/plain": [
              "params grid:   0%|          | 0/12 [00:00<?, ?it/s]"
            ]
          },
          "metadata": {},
          "output_type": "display_data"
        },
        {
          "data": {
            "application/vnd.jupyter.widget-view+json": {
              "model_id": "041da44e4a294fdf9820dea1d11c9052",
              "version_major": 2,
              "version_minor": 0
            },
            "text/plain": [
              "params grid:   0%|          | 0/12 [00:00<?, ?it/s]"
            ]
          },
          "metadata": {},
          "output_type": "display_data"
        },
        {
          "name": "stdout",
          "output_type": "stream",
          "text": [
            "`Forecaster` refitted using the best-found lags and parameters, and the whole data set: \n",
            "  Lags: [ 1  2  3  4  5  6  7  8  9 10 11 12 13 14 15 16 17 18 19 20 21 22 23 24\n",
            " 25 26 27 28 29 30 31 32 33 34 35 36 37 38 39 40 41 42 43 44 45 46 47 48\n",
            " 49 50 51 52 53 54 55 56 57 58 59 60 61 62 63 64 65 66 67 68 69 70 71 72] \n",
            "  Parameters: {'learning_rate': 0.1, 'max_depth': 5, 'n_estimators': 500}\n",
            "  Backtesting metric: 8912.662678308314\n",
            "\n"
          ]
        }
      ],
      "source": [
        "# Grid search of hyperparameters and lags\n",
        "# ==============================================================================\n",
        "# Regressor hyperparameters\n",
        "param_grid = {\n",
        "    'n_estimators': [100, 500],\n",
        "    'max_depth': [3, 5, 10],\n",
        "    'learning_rate': [0.01, 0.1]\n",
        "}\n",
        "\n",
        "# Lags used as predictors\n",
        "lags_grid = [48, 72]\n",
        "\n",
        "results_grid = grid_search_forecaster(\n",
        "                   forecaster         = forecaster,\n",
        "                   y                  = data.loc[:end_validation, 'users'],\n",
        "                   exog               = data.loc[:end_validation, exog_features],\n",
        "                   param_grid         = param_grid,\n",
        "                   lags_grid          = lags_grid,\n",
        "                   steps              = 36,\n",
        "                   refit              = False,\n",
        "                   metric             = 'mean_squared_error',\n",
        "                   initial_train_size = len(data.loc[:end_train]),\n",
        "                   fixed_train_size   = False,\n",
        "                   return_best        = True,\n",
        "                   verbose            = False\n",
        "               )"
      ]
    },
    {
      "cell_type": "code",
      "execution_count": null,
      "metadata": {
        "colab": {
          "referenced_widgets": [
            "588c07dc958c406bbd6c2db0dee247a4"
          ]
        },
        "id": "ZL_v4ZztGGdz",
        "outputId": "19ee32cc-9851-41d4-efdd-6a03dc162d20"
      },
      "outputs": [
        {
          "data": {
            "application/vnd.jupyter.widget-view+json": {
              "model_id": "588c07dc958c406bbd6c2db0dee247a4",
              "version_major": 2,
              "version_minor": 0
            },
            "text/plain": [
              "  0%|          | 0/82 [00:00<?, ?it/s]"
            ]
          },
          "metadata": {},
          "output_type": "display_data"
        },
        {
          "name": "stdout",
          "output_type": "stream",
          "text": [
            "Backtest error: 6329.92\n"
          ]
        }
      ],
      "source": [
        "# Backtesting test data\n",
        "# ==============================================================================\n",
        "metric, predictions = backtesting_forecaster(\n",
        "                          forecaster         = forecaster,\n",
        "                          y                  = data['users'],\n",
        "                          exog               = data[exog_features],\n",
        "                          initial_train_size = len(data.loc[:end_validation]),\n",
        "                          fixed_train_size   = False,\n",
        "                          steps              = 36,\n",
        "                          refit              = False,\n",
        "                          metric             = 'mean_squared_error',\n",
        "                          verbose            = False\n",
        "                      )\n",
        "\n",
        "print(f\"Backtest error: {metric:.2f}\")"
      ]
    },
    {
      "cell_type": "markdown",
      "metadata": {
        "id": "EGLIRSIQGGd0"
      },
      "source": [
        "### Native implementation for categorical features\n",
        "<br>\n",
        "\n",
        "Gradient Boosting libraries (**XGBoost**, **LightGBM**, **CatBoost**, and **HistGradientBoostingRegressor**) assume that the input categories are integers starting from 0 up to the number of categories [0, 1, ..., n_categories-1]. In most real cases, categorical variables are not encoded with numbers but with strings, so an intermediate transformation step is necessary. Two options are:\n",
        "\n",
        "+ Set columns with categorical variables to the type `category`. Internally, this data structure consists of an array of categories and an array of integer values (codes) that point to the actual value of the array of categories. That is, internally it is a numeric array with a mapping that relates each value to a category. Models are able to **automatically identify** the columns of type `category` and access their internal codes. This approach is applicable to XGBoost, LightGBM and CatBoost.\n",
        "\n",
        "+ Preprocess the categorical columns with an `OrdinalEncoder` to transform their values to integers and then **explicitly indicate** which features should be treated as categorical.\n",
        "\n",
        "In order to use the the **automatic detection** in skforecast, categorical variables must first be encoded as integers and then stored as the type `category` again. This is because skforecast internally uses a numeric numpy array to speed up the calculation."
      ]
    },
    {
      "cell_type": "markdown",
      "metadata": {
        "id": "r_wKzy7KGGd0"
      },
      "source": [
        "<div class=\"admonition note\" name=\"html-admonition\" style=\"background: rgba(255,145,0,.1); padding-top: 0px; padding-bottom: 6px; border-radius: 8px; border-left: 8px solid #ff9100; padding-left: 10px;\">\n",
        "\n",
        "<p class=\"title\">\n",
        "    <i class=\"fa-triangle-exclamation fa\" style=\"font-size: 18px; color:#ff9100;\"></i>\n",
        "    <b>⚠ Warning</b>\n",
        "</p>\n",
        "\n",
        "When deploying models in production, it is strongly recommended to <b>avoid using automatic detection</b> based on pandas `category` type columns. Although pandas provides an internal coding for these columns, it is not consistent across different datasets and may vary depending on the categories present in each dataset. It is therefore crucial to be aware of this issue and to take appropriate measures to ensure consistency in the coding of categorical features when deploying models in production.\n",
        "\n",
        "More details on this issue can be found in <a href=https://skforecast.org/latest/user_guides/categorical-features.html#native-implementation-for-categorical-features>Native implementation for categorical features</a>.\n",
        "\n",
        "</div>"
      ]
    },
    {
      "cell_type": "code",
      "execution_count": null,
      "metadata": {
        "id": "xWpzGQvNGGd0"
      },
      "outputs": [],
      "source": [
        "# Transformer: Ordinal encoding + cast to category type\n",
        "# ==============================================================================\n",
        "pipeline_categorical = make_pipeline(\n",
        "                            OrdinalEncoder(\n",
        "                                dtype=int,\n",
        "                                handle_unknown=\"use_encoded_value\",\n",
        "                                unknown_value=-1,\n",
        "                                encoded_missing_value=-1\n",
        "                            ),\n",
        "                            FunctionTransformer(\n",
        "                                func=lambda x: x.astype('category'),\n",
        "                                feature_names_out= 'one-to-one'\n",
        "                            )\n",
        "                       )\n",
        "\n",
        "transformer_exog = make_column_transformer(\n",
        "                        (\n",
        "                            pipeline_categorical,\n",
        "                            make_column_selector(dtype_exclude=np.number)\n",
        "                        ),\n",
        "                        remainder=\"passthrough\",\n",
        "                        verbose_feature_names_out=False,\n",
        "                   ).set_output(transform=\"pandas\")"
      ]
    },
    {
      "cell_type": "code",
      "execution_count": null,
      "metadata": {
        "id": "IpVZC7-QGGd0"
      },
      "outputs": [],
      "source": [
        "# Create forecaster, Automatic categorical detection\n",
        "# ==============================================================================\n",
        "forecaster = ForecasterAutoreg(\n",
        "                 regressor = XGBRegressor(\n",
        "                                 tree_method = 'hist',\n",
        "                                 enable_categorical = 'auto',\n",
        "                                 random_state = 123\n",
        "                             ),\n",
        "                 lags = 24,\n",
        "                 transformer_exog = transformer_exog\n",
        "             )"
      ]
    },
    {
      "cell_type": "code",
      "execution_count": null,
      "metadata": {
        "colab": {
          "referenced_widgets": [
            "df34b439c51141f5a6391d840165270b",
            "2587c9c1962d465fa297411fe7ad2237",
            "18643506162948858a46f830f11ebd59"
          ]
        },
        "id": "lGPKXnweGGd0",
        "outputId": "63a70b57-f939-48a4-a1a1-1c5511f93a88"
      },
      "outputs": [
        {
          "name": "stdout",
          "output_type": "stream",
          "text": [
            "Number of models compared: 24.\n"
          ]
        },
        {
          "data": {
            "application/vnd.jupyter.widget-view+json": {
              "model_id": "df34b439c51141f5a6391d840165270b",
              "version_major": 2,
              "version_minor": 0
            },
            "text/plain": [
              "lags grid:   0%|          | 0/2 [00:00<?, ?it/s]"
            ]
          },
          "metadata": {},
          "output_type": "display_data"
        },
        {
          "data": {
            "application/vnd.jupyter.widget-view+json": {
              "model_id": "2587c9c1962d465fa297411fe7ad2237",
              "version_major": 2,
              "version_minor": 0
            },
            "text/plain": [
              "params grid:   0%|          | 0/12 [00:00<?, ?it/s]"
            ]
          },
          "metadata": {},
          "output_type": "display_data"
        },
        {
          "data": {
            "application/vnd.jupyter.widget-view+json": {
              "model_id": "18643506162948858a46f830f11ebd59",
              "version_major": 2,
              "version_minor": 0
            },
            "text/plain": [
              "params grid:   0%|          | 0/12 [00:00<?, ?it/s]"
            ]
          },
          "metadata": {},
          "output_type": "display_data"
        },
        {
          "name": "stdout",
          "output_type": "stream",
          "text": [
            "`Forecaster` refitted using the best-found lags and parameters, and the whole data set: \n",
            "  Lags: [ 1  2  3  4  5  6  7  8  9 10 11 12 13 14 15 16 17 18 19 20 21 22 23 24\n",
            " 25 26 27 28 29 30 31 32 33 34 35 36 37 38 39 40 41 42 43 44 45 46 47 48\n",
            " 49 50 51 52 53 54 55 56 57 58 59 60 61 62 63 64 65 66 67 68 69 70 71 72] \n",
            "  Parameters: {'learning_rate': 0.1, 'max_depth': 3, 'n_estimators': 500}\n",
            "  Backtesting metric: 8450.684614806387\n",
            "\n"
          ]
        }
      ],
      "source": [
        "# Grid search of hyperparameters and lags\n",
        "# ==============================================================================\n",
        "# Regressor hyperparameters\n",
        "param_grid = {\n",
        "    'n_estimators': [100, 500],\n",
        "    'max_depth': [3, 5, 10],\n",
        "    'learning_rate': [0.01, 0.1]\n",
        "}\n",
        "\n",
        "# Lags used as predictors\n",
        "lags_grid = [48, 72]\n",
        "\n",
        "results_grid = grid_search_forecaster(\n",
        "                   forecaster         = forecaster,\n",
        "                   y                  = data.loc[:end_validation, 'users'],\n",
        "                   exog               = data.loc[:end_validation, exog_features],\n",
        "                   param_grid         = param_grid,\n",
        "                   lags_grid          = lags_grid,\n",
        "                   steps              = 36,\n",
        "                   refit              = False,\n",
        "                   metric             = 'mean_squared_error',\n",
        "                   initial_train_size = len(data.loc[:end_train]),\n",
        "                   fixed_train_size   = False,\n",
        "                   return_best        = True,\n",
        "                   verbose            = False\n",
        "               )"
      ]
    },
    {
      "cell_type": "code",
      "execution_count": null,
      "metadata": {
        "colab": {
          "referenced_widgets": [
            "062991e725f04cab98d01d34d8f552be"
          ]
        },
        "id": "UCSugwqfGGd0",
        "outputId": "8934374c-2d13-4d59-eb38-f8c996ce07f8"
      },
      "outputs": [
        {
          "data": {
            "application/vnd.jupyter.widget-view+json": {
              "model_id": "062991e725f04cab98d01d34d8f552be",
              "version_major": 2,
              "version_minor": 0
            },
            "text/plain": [
              "  0%|          | 0/82 [00:00<?, ?it/s]"
            ]
          },
          "metadata": {},
          "output_type": "display_data"
        },
        {
          "name": "stdout",
          "output_type": "stream",
          "text": [
            "Backtest error: 6316.78\n"
          ]
        }
      ],
      "source": [
        "# Backtesting test data\n",
        "# ==============================================================================\n",
        "metric, predictions = backtesting_forecaster(\n",
        "                          forecaster         = forecaster,\n",
        "                          y                  = data['users'],\n",
        "                          exog               = data[exog_features],\n",
        "                          initial_train_size = len(data.loc[:end_validation]),\n",
        "                          fixed_train_size   = False,\n",
        "                          steps              = 36,\n",
        "                          refit              = False,\n",
        "                          metric             = 'mean_squared_error',\n",
        "                          verbose            = False\n",
        "                      )\n",
        "\n",
        "print(f\"Backtest error: {metric:.2f}\")"
      ]
    },
    {
      "cell_type": "markdown",
      "metadata": {
        "id": "03ZxkGX6GGd0"
      },
      "source": [
        "The inclusion of exogenous variables as predictors reduced the prediction error by more than half. The results obtained using one-hot encoding (backtest error of 6330) are very similar to those obtained using the native implementation of XGBoost for categorical variables (backtest error of 6317)."
      ]
    },
    {
      "cell_type": "markdown",
      "metadata": {
        "id": "hULjZFmqGGd1"
      },
      "source": [
        "## Feature importances\n",
        "\n",
        "An advantage of avoiding one-hot encoding is that it avoids increasing the number of features, which makes interpretation easier. This can lead to simpler analysis and better understanding of the data as there are fewer variables to consider."
      ]
    },
    {
      "cell_type": "code",
      "execution_count": null,
      "metadata": {
        "id": "AzYTRMXWGGd1",
        "outputId": "28ab1eaf-350b-4e02-edcb-b9b06f2c8c8a"
      },
      "outputs": [
        {
          "data": {
            "text/html": [
              "<div>\n",
              "<style scoped>\n",
              "    .dataframe tbody tr th:only-of-type {\n",
              "        vertical-align: middle;\n",
              "    }\n",
              "\n",
              "    .dataframe tbody tr th {\n",
              "        vertical-align: top;\n",
              "    }\n",
              "\n",
              "    .dataframe thead th {\n",
              "        text-align: right;\n",
              "    }\n",
              "</style>\n",
              "<table border=\"1\" class=\"dataframe\">\n",
              "  <thead>\n",
              "    <tr style=\"text-align: right;\">\n",
              "      <th></th>\n",
              "      <th>feature</th>\n",
              "      <th>importance</th>\n",
              "    </tr>\n",
              "  </thead>\n",
              "  <tbody>\n",
              "    <tr>\n",
              "      <th>0</th>\n",
              "      <td>lag_1</td>\n",
              "      <td>0.303427</td>\n",
              "    </tr>\n",
              "    <tr>\n",
              "      <th>1</th>\n",
              "      <td>lag_2</td>\n",
              "      <td>0.005124</td>\n",
              "    </tr>\n",
              "    <tr>\n",
              "      <th>2</th>\n",
              "      <td>lag_3</td>\n",
              "      <td>0.002373</td>\n",
              "    </tr>\n",
              "    <tr>\n",
              "      <th>3</th>\n",
              "      <td>lag_4</td>\n",
              "      <td>0.010469</td>\n",
              "    </tr>\n",
              "    <tr>\n",
              "      <th>4</th>\n",
              "      <td>lag_5</td>\n",
              "      <td>0.006950</td>\n",
              "    </tr>\n",
              "    <tr>\n",
              "      <th>...</th>\n",
              "      <td>...</td>\n",
              "      <td>...</td>\n",
              "    </tr>\n",
              "    <tr>\n",
              "      <th>77</th>\n",
              "      <td>hour_cos</td>\n",
              "      <td>0.054678</td>\n",
              "    </tr>\n",
              "    <tr>\n",
              "      <th>78</th>\n",
              "      <td>temp</td>\n",
              "      <td>0.001114</td>\n",
              "    </tr>\n",
              "    <tr>\n",
              "      <th>79</th>\n",
              "      <td>atemp</td>\n",
              "      <td>0.001869</td>\n",
              "    </tr>\n",
              "    <tr>\n",
              "      <th>80</th>\n",
              "      <td>hum</td>\n",
              "      <td>0.001542</td>\n",
              "    </tr>\n",
              "    <tr>\n",
              "      <th>81</th>\n",
              "      <td>windspeed</td>\n",
              "      <td>0.001223</td>\n",
              "    </tr>\n",
              "  </tbody>\n",
              "</table>\n",
              "<p>82 rows × 2 columns</p>\n",
              "</div>"
            ],
            "text/plain": [
              "      feature  importance\n",
              "0       lag_1    0.303427\n",
              "1       lag_2    0.005124\n",
              "2       lag_3    0.002373\n",
              "3       lag_4    0.010469\n",
              "4       lag_5    0.006950\n",
              "..        ...         ...\n",
              "77   hour_cos    0.054678\n",
              "78       temp    0.001114\n",
              "79      atemp    0.001869\n",
              "80        hum    0.001542\n",
              "81  windspeed    0.001223\n",
              "\n",
              "[82 rows x 2 columns]"
            ]
          },
          "execution_count": 25,
          "metadata": {},
          "output_type": "execute_result"
        }
      ],
      "source": [
        "# Extract feature importances\n",
        "# ==============================================================================\n",
        "importance = forecaster.get_feature_importances()\n",
        "importance"
      ]
    },
    {
      "cell_type": "markdown",
      "metadata": {
        "id": "h62H3tbrGGd1"
      },
      "source": [
        "## LightGBM, CatBoost and HistGradientBoostingRegressor\n",
        "<br>\n",
        "\n",
        "Since the success of XGBoost as a machine learning algorithm, new implementations have been developed that also achieve excellent results, three of them are:\n",
        "\n",
        "+ [**LightGBM**](https://lightgbm.readthedocs.io/en/latest/): developed by Microsoft.\n",
        "\n",
        "+ [**HistGradientBoostingRegressor**](https://scikit-learn.org/stable/modules/generated/sklearn.ensemble.HistGradientBoostingRegressor.html): developed by scikit-learn.\n",
        "\n",
        "+ [**CatBoost**](https://catboost.ai/): developed by Yandex.\n",
        "\n",
        "Here is how to use them within [skforecast](https://github.com/JoaquinAmatRodrigo/skforecast)."
      ]
    },
    {
      "cell_type": "markdown",
      "metadata": {
        "id": "gZdkIYdiGGd1"
      },
      "source": [
        "## LightGBM"
      ]
    },
    {
      "cell_type": "code",
      "execution_count": null,
      "metadata": {
        "id": "FhlIO8jaGGd1"
      },
      "outputs": [],
      "source": [
        "# Transformer: Ordinal encoding + cast to category type\n",
        "# ==============================================================================\n",
        "pipeline_categorical = make_pipeline(\n",
        "                           OrdinalEncoder(\n",
        "                               dtype=int,\n",
        "                               handle_unknown=\"use_encoded_value\",\n",
        "                               unknown_value=-1,\n",
        "                               encoded_missing_value=-1\n",
        "                           ),\n",
        "                           FunctionTransformer(\n",
        "                               func=lambda x: x.astype('category'),\n",
        "                               feature_names_out= 'one-to-one'\n",
        "                           )\n",
        "                       )\n",
        "\n",
        "transformer_exog = make_column_transformer(\n",
        "                       (\n",
        "                           pipeline_categorical,\n",
        "                           make_column_selector(dtype_exclude=np.number)\n",
        "                       ),\n",
        "                       remainder=\"passthrough\",\n",
        "                       verbose_feature_names_out=False,\n",
        "                   ).set_output(transform=\"pandas\")"
      ]
    },
    {
      "cell_type": "code",
      "execution_count": null,
      "metadata": {
        "id": "dib8frZ4GGd1",
        "outputId": "8ce03cda-659e-48fc-cf67-93a23f4594ef"
      },
      "outputs": [
        {
          "data": {
            "text/plain": [
              "================= \n",
              "ForecasterAutoreg \n",
              "================= \n",
              "Regressor: LGBMRegressor(categorical_features='auto', random_state=123) \n",
              "Lags: [ 1  2  3  4  5  6  7  8  9 10 11 12 13 14 15 16 17 18 19 20 21 22 23 24] \n",
              "Transformer for y: None \n",
              "Transformer for exog: ColumnTransformer(remainder='passthrough',\n",
              "                  transformers=[('pipeline',\n",
              "                                 Pipeline(steps=[('ordinalencoder',\n",
              "                                                  OrdinalEncoder(dtype=<class 'int'>,\n",
              "                                                                 encoded_missing_value=-1,\n",
              "                                                                 handle_unknown='use_encoded_value',\n",
              "                                                                 unknown_value=-1)),\n",
              "                                                 ('functiontransformer',\n",
              "                                                  FunctionTransformer(feature_names_out='one-to-one',\n",
              "                                                                      func=<function <lambda> at 0x7f769ea24dc0>))]),\n",
              "                                 <sklearn.compose._column_transformer.make_column_selector object at 0x7f769ed67e50>)],\n",
              "                  verbose_feature_names_out=False) \n",
              "Window size: 24 \n",
              "Weight function included: False \n",
              "Exogenous included: False \n",
              "Type of exogenous variable: None \n",
              "Exogenous variables names: None \n",
              "Training range: None \n",
              "Training index type: None \n",
              "Training index frequency: None \n",
              "Regressor parameters: {'boosting_type': 'gbdt', 'class_weight': None, 'colsample_bytree': 1.0, 'importance_type': 'split', 'learning_rate': 0.1, 'max_depth': -1, 'min_child_samples': 20, 'min_child_weight': 0.001, 'min_split_gain': 0.0, 'n_estimators': 100, 'n_jobs': -1, 'num_leaves': 31, 'objective': None, 'random_state': 123, 'reg_alpha': 0.0, 'reg_lambda': 0.0, 'silent': 'warn', 'subsample': 1.0, 'subsample_for_bin': 200000, 'subsample_freq': 0, 'categorical_features': 'auto'} \n",
              "fit_kwargs: {} \n",
              "Creation date: 2023-05-17 10:51:40 \n",
              "Last fit date: None \n",
              "Skforecast version: 0.8.0 \n",
              "Python version: 3.10.9 \n",
              "Forecaster id: None "
            ]
          },
          "execution_count": 27,
          "metadata": {},
          "output_type": "execute_result"
        }
      ],
      "source": [
        "# Create forecaster\n",
        "# ==============================================================================\n",
        "forecaster = ForecasterAutoreg(\n",
        "                regressor = LGBMRegressor(categorical_features='auto', random_state=123),\n",
        "                lags = 24,\n",
        "                transformer_exog = transformer_exog\n",
        "             )\n",
        "\n",
        "forecaster"
      ]
    },
    {
      "cell_type": "code",
      "execution_count": null,
      "metadata": {
        "colab": {
          "referenced_widgets": [
            "d3ed7ed7ffae48ae95b05ebe5f5ce981",
            "b48b090348dd41dcba9a588892b3d146",
            "c65b4cb6e9e1450e98d862fb626d0df4"
          ]
        },
        "id": "-kuJ9CQzGGd1",
        "outputId": "ca6735c8-792f-455f-e454-c08686f86351"
      },
      "outputs": [
        {
          "name": "stdout",
          "output_type": "stream",
          "text": [
            "Number of models compared: 24.\n"
          ]
        },
        {
          "data": {
            "application/vnd.jupyter.widget-view+json": {
              "model_id": "d3ed7ed7ffae48ae95b05ebe5f5ce981",
              "version_major": 2,
              "version_minor": 0
            },
            "text/plain": [
              "lags grid:   0%|          | 0/2 [00:00<?, ?it/s]"
            ]
          },
          "metadata": {},
          "output_type": "display_data"
        },
        {
          "data": {
            "application/vnd.jupyter.widget-view+json": {
              "model_id": "b48b090348dd41dcba9a588892b3d146",
              "version_major": 2,
              "version_minor": 0
            },
            "text/plain": [
              "params grid:   0%|          | 0/12 [00:00<?, ?it/s]"
            ]
          },
          "metadata": {},
          "output_type": "display_data"
        },
        {
          "data": {
            "application/vnd.jupyter.widget-view+json": {
              "model_id": "c65b4cb6e9e1450e98d862fb626d0df4",
              "version_major": 2,
              "version_minor": 0
            },
            "text/plain": [
              "params grid:   0%|          | 0/12 [00:00<?, ?it/s]"
            ]
          },
          "metadata": {},
          "output_type": "display_data"
        },
        {
          "name": "stdout",
          "output_type": "stream",
          "text": [
            "`Forecaster` refitted using the best-found lags and parameters, and the whole data set: \n",
            "  Lags: [ 1  2  3  4  5  6  7  8  9 10 11 12 13 14 15 16 17 18 19 20 21 22 23 24\n",
            " 25 26 27 28 29 30 31 32 33 34 35 36 37 38 39 40 41 42 43 44 45 46 47 48\n",
            " 49 50 51 52 53 54 55 56 57 58 59 60 61 62 63 64 65 66 67 68 69 70 71 72] \n",
            "  Parameters: {'learning_rate': 0.1, 'max_depth': 5, 'n_estimators': 500}\n",
            "  Backtesting metric: 8496.41017952901\n",
            "\n"
          ]
        }
      ],
      "source": [
        "# Grid search of hyperparameters and lags\n",
        "# ==============================================================================\n",
        "warnings.filterwarnings('ignore')\n",
        "# Regressor hyperparameters\n",
        "param_grid = {\n",
        "    'n_estimators': [100, 500],\n",
        "    'max_depth': [3, 5, 10],\n",
        "    'learning_rate': [0.01, 0.1]\n",
        "}\n",
        "\n",
        "# Lags used as predictors\n",
        "lags_grid = [48, 72]\n",
        "\n",
        "results_grid = grid_search_forecaster(\n",
        "                   forecaster         = forecaster,\n",
        "                   y                  = data.loc[:end_validation, 'users'],\n",
        "                   exog               = data.loc[:end_validation, exog_features],\n",
        "                   param_grid         = param_grid,\n",
        "                   lags_grid          = lags_grid,\n",
        "                   steps              = 36,\n",
        "                   refit              = False,\n",
        "                   metric             = 'mean_squared_error',\n",
        "                   initial_train_size = len(data.loc[:end_train]),\n",
        "                   fixed_train_size   = False,\n",
        "                   return_best        = True,\n",
        "                   verbose            = False\n",
        "               )\n",
        "warnings.resetwarnings()"
      ]
    },
    {
      "cell_type": "code",
      "execution_count": null,
      "metadata": {
        "colab": {
          "referenced_widgets": [
            "ec037c56d31f4a8a882b84b9f586c7cd"
          ]
        },
        "id": "AhjGgDqwGGd1",
        "outputId": "7909278e-10de-43c5-8271-aa85ef42cbbd"
      },
      "outputs": [
        {
          "name": "stderr",
          "output_type": "stream",
          "text": [
            "/home/ubuntu/anaconda3/envs/cienciadedatos_p10/lib/python3.10/site-packages/lightgbm/basic.py:1513: UserWarning:\n",
            "\n",
            "categorical_features in param dict is overridden.\n",
            "\n"
          ]
        },
        {
          "data": {
            "application/vnd.jupyter.widget-view+json": {
              "model_id": "ec037c56d31f4a8a882b84b9f586c7cd",
              "version_major": 2,
              "version_minor": 0
            },
            "text/plain": [
              "  0%|          | 0/82 [00:00<?, ?it/s]"
            ]
          },
          "metadata": {},
          "output_type": "display_data"
        },
        {
          "name": "stdout",
          "output_type": "stream",
          "text": [
            "Backtest error: 5634.40\n"
          ]
        }
      ],
      "source": [
        "# Backtesting test data\n",
        "# ==============================================================================\n",
        "metric, predictions = backtesting_forecaster(\n",
        "                          forecaster         = forecaster,\n",
        "                          y                  = data['users'],\n",
        "                          exog               = data[exog_features],\n",
        "                          initial_train_size = len(data.loc[:end_validation]),\n",
        "                          fixed_train_size   = False,\n",
        "                          steps              = 36,\n",
        "                          refit              = False,\n",
        "                          metric             = 'mean_squared_error',\n",
        "                          verbose            = False\n",
        "                      )\n",
        "\n",
        "print(f\"Backtest error: {metric:.2f}\")"
      ]
    },
    {
      "cell_type": "markdown",
      "metadata": {
        "id": "qHpuPoxoGGd2"
      },
      "source": [
        "## HistGradientBoostingRegressor\n",
        "\n",
        "When creating a forecaster using `HistogramGradientBoosting`, the names of the categorical columns should be specified during the instantiation of the regressor by passing them as a list to the `categorical_feature` argument."
      ]
    },
    {
      "cell_type": "code",
      "execution_count": null,
      "metadata": {
        "id": "0mJVW38aGGd2"
      },
      "outputs": [],
      "source": [
        "# Transformer: ordinal encoding\n",
        "# ==============================================================================\n",
        "# A ColumnTransformer is used to transform categorical features (no numerical)\n",
        "# using ordinal encoding. Numerical features are left untouched. Missing values\n",
        "# are encoded as -1. If a new category is found in the test set, it is encoded\n",
        "# as -1.\n",
        "categorical_features = data.select_dtypes(exclude=[np.number]).columns.tolist()\n",
        "transformer_exog = make_column_transformer(\n",
        "                       (\n",
        "                           OrdinalEncoder(\n",
        "                               dtype=int,\n",
        "                               handle_unknown=\"use_encoded_value\",\n",
        "                               unknown_value=-1,\n",
        "                               encoded_missing_value=-1\n",
        "                           ),\n",
        "                           categorical_features\n",
        "                       ),\n",
        "                       remainder=\"passthrough\",\n",
        "                       verbose_feature_names_out=False,\n",
        "                   ).set_output(transform=\"pandas\")"
      ]
    },
    {
      "cell_type": "code",
      "execution_count": null,
      "metadata": {
        "id": "5vWwnAZLGGd2",
        "outputId": "5bfaf376-c8c8-41a4-c362-3549331f38a5"
      },
      "outputs": [
        {
          "data": {
            "text/plain": [
              "================= \n",
              "ForecasterAutoreg \n",
              "================= \n",
              "Regressor: HistGradientBoostingRegressor(categorical_features=['holiday', 'weather',\n",
              "                                                    'month', 'weekday'],\n",
              "                              random_state=123) \n",
              "Lags: [ 1  2  3  4  5  6  7  8  9 10 11 12 13 14 15 16 17 18 19 20 21 22 23 24] \n",
              "Transformer for y: None \n",
              "Transformer for exog: ColumnTransformer(remainder='passthrough',\n",
              "                  transformers=[('ordinalencoder',\n",
              "                                 OrdinalEncoder(dtype=<class 'int'>,\n",
              "                                                encoded_missing_value=-1,\n",
              "                                                handle_unknown='use_encoded_value',\n",
              "                                                unknown_value=-1),\n",
              "                                 ['holiday', 'weather', 'month', 'weekday'])],\n",
              "                  verbose_feature_names_out=False) \n",
              "Window size: 24 \n",
              "Weight function included: False \n",
              "Exogenous included: False \n",
              "Type of exogenous variable: None \n",
              "Exogenous variables names: None \n",
              "Training range: None \n",
              "Training index type: None \n",
              "Training index frequency: None \n",
              "Regressor parameters: {'categorical_features': ['holiday', 'weather', 'month', 'weekday'], 'early_stopping': 'auto', 'interaction_cst': None, 'l2_regularization': 0.0, 'learning_rate': 0.1, 'loss': 'squared_error', 'max_bins': 255, 'max_depth': None, 'max_iter': 100, 'max_leaf_nodes': 31, 'min_samples_leaf': 20, 'monotonic_cst': None, 'n_iter_no_change': 10, 'quantile': None, 'random_state': 123, 'scoring': 'loss', 'tol': 1e-07, 'validation_fraction': 0.1, 'verbose': 0, 'warm_start': False} \n",
              "fit_kwargs: {} \n",
              "Creation date: 2023-05-17 10:53:03 \n",
              "Last fit date: None \n",
              "Skforecast version: 0.8.0 \n",
              "Python version: 3.10.9 \n",
              "Forecaster id: None "
            ]
          },
          "execution_count": 31,
          "metadata": {},
          "output_type": "execute_result"
        }
      ],
      "source": [
        "# Create forecaster\n",
        "# ==============================================================================\n",
        "categorical_features = data.select_dtypes(exclude=np.number).columns.to_list()\n",
        "\n",
        "forecaster = ForecasterAutoreg(\n",
        "                 regressor = HistGradientBoostingRegressor(\n",
        "                                 categorical_features = categorical_features,\n",
        "                                 random_state = 123\n",
        "                             ),\n",
        "                 lags = 24,\n",
        "                 transformer_exog = transformer_exog\n",
        "             )\n",
        "\n",
        "forecaster"
      ]
    },
    {
      "cell_type": "code",
      "execution_count": null,
      "metadata": {
        "colab": {
          "referenced_widgets": [
            "3e1f17c9bd0a41038027189a70ac7f9d",
            "0db32f5d34f34a67990d72c0b0c19611",
            "0a1a5c3118394380a42cbcc5d706c807"
          ]
        },
        "id": "yEr9R8UvGGd2",
        "outputId": "02e2b9dc-a72f-4335-b157-dcc1a5fef095"
      },
      "outputs": [
        {
          "name": "stdout",
          "output_type": "stream",
          "text": [
            "Number of models compared: 24.\n"
          ]
        },
        {
          "data": {
            "application/vnd.jupyter.widget-view+json": {
              "model_id": "3e1f17c9bd0a41038027189a70ac7f9d",
              "version_major": 2,
              "version_minor": 0
            },
            "text/plain": [
              "lags grid:   0%|          | 0/2 [00:00<?, ?it/s]"
            ]
          },
          "metadata": {},
          "output_type": "display_data"
        },
        {
          "data": {
            "application/vnd.jupyter.widget-view+json": {
              "model_id": "0db32f5d34f34a67990d72c0b0c19611",
              "version_major": 2,
              "version_minor": 0
            },
            "text/plain": [
              "params grid:   0%|          | 0/12 [00:00<?, ?it/s]"
            ]
          },
          "metadata": {},
          "output_type": "display_data"
        },
        {
          "data": {
            "application/vnd.jupyter.widget-view+json": {
              "model_id": "0a1a5c3118394380a42cbcc5d706c807",
              "version_major": 2,
              "version_minor": 0
            },
            "text/plain": [
              "params grid:   0%|          | 0/12 [00:00<?, ?it/s]"
            ]
          },
          "metadata": {},
          "output_type": "display_data"
        },
        {
          "name": "stdout",
          "output_type": "stream",
          "text": [
            "`Forecaster` refitted using the best-found lags and parameters, and the whole data set: \n",
            "  Lags: [ 1  2  3  4  5  6  7  8  9 10 11 12 13 14 15 16 17 18 19 20 21 22 23 24\n",
            " 25 26 27 28 29 30 31 32 33 34 35 36 37 38 39 40 41 42 43 44 45 46 47 48\n",
            " 49 50 51 52 53 54 55 56 57 58 59 60 61 62 63 64 65 66 67 68 69 70 71 72] \n",
            "  Parameters: {'learning_rate': 0.1, 'max_depth': 3, 'max_iter': 500}\n",
            "  Backtesting metric: 8541.952834346452\n",
            "\n"
          ]
        }
      ],
      "source": [
        "# Grid search of hyperparameters and lags\n",
        "# ==============================================================================\n",
        "# Regressor hyperparameters\n",
        "param_grid = {\n",
        "    'max_iter': [100, 500],\n",
        "    'max_depth': [3, 5, 10],\n",
        "    'learning_rate': [0.01, 0.1]\n",
        "}\n",
        "\n",
        "# Lags used as predictors\n",
        "lags_grid = [48, 72]\n",
        "\n",
        "results_grid = grid_search_forecaster(\n",
        "                   forecaster         = forecaster,\n",
        "                   y                  = data.loc[:end_validation, 'users'],\n",
        "                   exog               = data.loc[:end_validation, exog_features],\n",
        "                   param_grid         = param_grid,\n",
        "                   lags_grid          = lags_grid,\n",
        "                   steps              = 36,\n",
        "                   refit              = False,\n",
        "                   metric             = 'mean_squared_error',\n",
        "                   initial_train_size = len(data.loc[:end_train]),\n",
        "                   fixed_train_size   = False,\n",
        "                   return_best        = True,\n",
        "                   verbose            = False\n",
        "               )"
      ]
    },
    {
      "cell_type": "code",
      "execution_count": null,
      "metadata": {
        "colab": {
          "referenced_widgets": [
            "5ee830aa0b73494a95cb18c7516f0f7d"
          ]
        },
        "id": "yohgTaQMGGd2",
        "outputId": "1bef0586-bf28-4d19-c163-c72e3833d445"
      },
      "outputs": [
        {
          "data": {
            "application/vnd.jupyter.widget-view+json": {
              "model_id": "5ee830aa0b73494a95cb18c7516f0f7d",
              "version_major": 2,
              "version_minor": 0
            },
            "text/plain": [
              "  0%|          | 0/82 [00:00<?, ?it/s]"
            ]
          },
          "metadata": {},
          "output_type": "display_data"
        },
        {
          "name": "stdout",
          "output_type": "stream",
          "text": [
            "Backtest error: 6705.14\n"
          ]
        }
      ],
      "source": [
        "# Backtesting test data\n",
        "# ==============================================================================\n",
        "metric, predictions = backtesting_forecaster(\n",
        "                          forecaster         = forecaster,\n",
        "                          y                  = data['users'],\n",
        "                          exog               = data[exog_features],\n",
        "                          initial_train_size = len(data.loc[:end_validation]),\n",
        "                          fixed_train_size   = False,\n",
        "                          steps              = 36,\n",
        "                          refit              = False,\n",
        "                          metric             = 'mean_squared_error',\n",
        "                          verbose            = False\n",
        "                      )\n",
        "\n",
        "print(f\"Backtest error: {metric:.2f}\")"
      ]
    },
    {
      "cell_type": "markdown",
      "metadata": {
        "id": "2PnlM2i4GGd2"
      },
      "source": [
        "## CatBoost\n",
        "<br>\n",
        "\n",
        "Unfortunately, the current version of skforecast is not compatible with CatBoost's built-in treatment of categorical features. The issue arises because CatBoost only accepts categorical features as integers, while skforecast converts input data to floats for faster computation using numpy arrays in the internal prediction process. To work around this limitation, it is necessary to apply either the one-hot encoding or label encoding strategy to the categorical features before using them with CatBoost."
      ]
    },
    {
      "cell_type": "code",
      "execution_count": null,
      "metadata": {
        "id": "yg0F0AQZGGd2"
      },
      "outputs": [],
      "source": [
        "# One hot encoding\n",
        "# ==============================================================================\n",
        "one_hot_encoder = make_column_transformer(\n",
        "                      (\n",
        "                          OneHotEncoder(sparse_output=False, drop='if_binary'),\n",
        "                          make_column_selector(dtype_exclude=np.number),\n",
        "                      ),\n",
        "                      remainder=\"passthrough\",\n",
        "                      verbose_feature_names_out=False,\n",
        "                  ).set_output(transform=\"pandas\")"
      ]
    },
    {
      "cell_type": "code",
      "execution_count": null,
      "metadata": {
        "id": "NhINa3buGGd2",
        "outputId": "1aa7faae-7a79-4577-c81d-ecc47917291b"
      },
      "outputs": [
        {
          "data": {
            "text/plain": [
              "================= \n",
              "ForecasterAutoreg \n",
              "================= \n",
              "Regressor: <catboost.core.CatBoostRegressor object at 0x7f769ed64670> \n",
              "Lags: [ 1  2  3  4  5  6  7  8  9 10 11 12 13 14 15 16 17 18 19 20 21 22 23 24] \n",
              "Transformer for y: None \n",
              "Transformer for exog: ColumnTransformer(remainder='passthrough',\n",
              "                  transformers=[('onehotencoder',\n",
              "                                 OneHotEncoder(drop='if_binary',\n",
              "                                               sparse_output=False),\n",
              "                                 <sklearn.compose._column_transformer.make_column_selector object at 0x7f769ed78d30>)],\n",
              "                  verbose_feature_names_out=False) \n",
              "Window size: 24 \n",
              "Weight function included: False \n",
              "Exogenous included: False \n",
              "Type of exogenous variable: None \n",
              "Exogenous variables names: None \n",
              "Training range: None \n",
              "Training index type: None \n",
              "Training index frequency: None \n",
              "Regressor parameters: {'loss_function': 'RMSE', 'silent': True, 'allow_writing_files': False, 'random_state': 123} \n",
              "fit_kwargs: {} \n",
              "Creation date: 2023-05-17 11:07:07 \n",
              "Last fit date: None \n",
              "Skforecast version: 0.8.0 \n",
              "Python version: 3.10.9 \n",
              "Forecaster id: None "
            ]
          },
          "execution_count": 35,
          "metadata": {},
          "output_type": "execute_result"
        }
      ],
      "source": [
        "# Create forecaster\n",
        "# ==============================================================================\n",
        "forecaster = ForecasterAutoreg(\n",
        "                 regressor        = CatBoostRegressor(\n",
        "                                        random_state=123,\n",
        "                                        silent=True,\n",
        "                                        allow_writing_files=False\n",
        "                                    ),\n",
        "                 lags             = 24,\n",
        "                 transformer_exog = one_hot_encoder\n",
        "             )\n",
        "\n",
        "forecaster"
      ]
    },
    {
      "cell_type": "code",
      "execution_count": null,
      "metadata": {
        "colab": {
          "referenced_widgets": [
            "a697e5e3b80f4fb4a7f683a6180c237d",
            "a1f71875e54b4c22927515e5e277e969",
            "a1fb985f14d44ddcb47893e6dee96310"
          ]
        },
        "id": "Y5hhkmkKGGd3",
        "outputId": "1dbfe05b-42a9-4805-e365-1eb7c861ae80"
      },
      "outputs": [
        {
          "name": "stdout",
          "output_type": "stream",
          "text": [
            "Number of models compared: 24.\n"
          ]
        },
        {
          "data": {
            "application/vnd.jupyter.widget-view+json": {
              "model_id": "a697e5e3b80f4fb4a7f683a6180c237d",
              "version_major": 2,
              "version_minor": 0
            },
            "text/plain": [
              "lags grid:   0%|          | 0/2 [00:00<?, ?it/s]"
            ]
          },
          "metadata": {},
          "output_type": "display_data"
        },
        {
          "data": {
            "application/vnd.jupyter.widget-view+json": {
              "model_id": "a1f71875e54b4c22927515e5e277e969",
              "version_major": 2,
              "version_minor": 0
            },
            "text/plain": [
              "params grid:   0%|          | 0/12 [00:00<?, ?it/s]"
            ]
          },
          "metadata": {},
          "output_type": "display_data"
        },
        {
          "data": {
            "application/vnd.jupyter.widget-view+json": {
              "model_id": "a1fb985f14d44ddcb47893e6dee96310",
              "version_major": 2,
              "version_minor": 0
            },
            "text/plain": [
              "params grid:   0%|          | 0/12 [00:00<?, ?it/s]"
            ]
          },
          "metadata": {},
          "output_type": "display_data"
        },
        {
          "name": "stdout",
          "output_type": "stream",
          "text": [
            "`Forecaster` refitted using the best-found lags and parameters, and the whole data set: \n",
            "  Lags: [ 1  2  3  4  5  6  7  8  9 10 11 12 13 14 15 16 17 18 19 20 21 22 23 24\n",
            " 25 26 27 28 29 30 31 32 33 34 35 36 37 38 39 40 41 42 43 44 45 46 47 48\n",
            " 49 50 51 52 53 54 55 56 57 58 59 60 61 62 63 64 65 66 67 68 69 70 71 72] \n",
            "  Parameters: {'learning_rate': 0.1, 'max_depth': 5, 'n_estimators': 500}\n",
            "  Backtesting metric: 6779.454203090569\n",
            "\n"
          ]
        }
      ],
      "source": [
        "# Grid search of hyperparameters and lags\n",
        "# ==============================================================================\n",
        "# Regressor hyperparameters\n",
        "param_grid = {\n",
        "    'n_estimators': [100, 500],\n",
        "    'max_depth': [3, 5, 10],\n",
        "    'learning_rate': [0.01, 0.1]\n",
        "}\n",
        "\n",
        "# Lags used as predictors\n",
        "lags_grid = [48, 72]\n",
        "\n",
        "results_grid = grid_search_forecaster(\n",
        "                   forecaster         = forecaster,\n",
        "                   y                  = data.loc[:end_validation, 'users'],\n",
        "                   exog               = data.loc[:end_validation, exog_features],\n",
        "                   param_grid         = param_grid,\n",
        "                   lags_grid          = lags_grid,\n",
        "                   steps              = 36,\n",
        "                   refit              = False,\n",
        "                   metric             = 'mean_squared_error',\n",
        "                   initial_train_size = len(data.loc[:end_train]),\n",
        "                   fixed_train_size   = False,\n",
        "                   return_best        = True,\n",
        "                   verbose            = False\n",
        "               )"
      ]
    },
    {
      "cell_type": "code",
      "execution_count": null,
      "metadata": {
        "colab": {
          "referenced_widgets": [
            "d4915b8ac9e14d9cb5e0780e314e477d"
          ]
        },
        "id": "awRfOQ5oGGd3",
        "outputId": "b683c8bf-c8dc-4f8a-90a1-8b840b8a645d"
      },
      "outputs": [
        {
          "data": {
            "application/vnd.jupyter.widget-view+json": {
              "model_id": "d4915b8ac9e14d9cb5e0780e314e477d",
              "version_major": 2,
              "version_minor": 0
            },
            "text/plain": [
              "  0%|          | 0/82 [00:00<?, ?it/s]"
            ]
          },
          "metadata": {},
          "output_type": "display_data"
        },
        {
          "name": "stdout",
          "output_type": "stream",
          "text": [
            "Backtest error: 5801.14\n"
          ]
        }
      ],
      "source": [
        "# Backtesting test data\n",
        "# ==============================================================================\n",
        "metric, predictions = backtesting_forecaster(\n",
        "                          forecaster         = forecaster,\n",
        "                          y                  = data['users'],\n",
        "                          exog               = data[exog_features],\n",
        "                          initial_train_size = len(data.loc[:end_validation]),\n",
        "                          fixed_train_size   = False,\n",
        "                          steps              = 36,\n",
        "                          refit              = False,\n",
        "                          metric             = 'mean_squared_error',\n",
        "                          verbose            = False\n",
        "                      )\n",
        "\n",
        "print(f\"Backtest error: {metric:.2f}\")"
      ]
    },
    {
      "cell_type": "markdown",
      "metadata": {
        "id": "OVhhqTiTGGd3",
        "jp-MarkdownHeadingCollapsed": true,
        "tags": []
      },
      "source": [
        "## Conclusion\n",
        "<br>\n",
        "\n",
        "+ As shown in this document, the inclusion of exogenous variables as predictors can significantly improve forecasting performance.\n",
        "\n",
        "+ The use of machine learning models in forecasting problems is very easy thanks to the functionalities offered by **skforecast**.\n",
        "\n",
        "+ Categorical features can be included as exogenous variables.\n",
        "\n",
        "+ The Gradient Boosting model generated by **LightGBM** performs slightly better than the other libraries in this case.\n",
        "\n",
        "\n",
        "| Model                         | Exogenous features  | MSE backtest |\n",
        "|:------------------------------|:-------------------:|-------------:|\n",
        "| LGBMRegressor                 | True                | 5634         |\n",
        "| CatBoostRegressor             | True                | 5801         |\n",
        "| XGBRegressor                  | True                | 6317         |\n",
        "| HistGradientBoostingRegressor | True                | 6705         |\n",
        "| XGBRegressor                  | False               | 11601        |\n",
        "\n",
        "<br><br>"
      ]
    },
    {
      "cell_type": "markdown",
      "metadata": {
        "id": "4KUEnfI0GGd3"
      },
      "source": [
        "<div class=\"admonition note\" name=\"html-admonition\" style=\"background: rgba(0,184,212,.1); padding-top: 0px; padding-bottom: 6px; border-radius: 8px; border-left: 8px solid #00b8d4; padding-left: 10px;\">\n",
        "\n",
        "<p class=\"title\">\n",
        "    <i style=\"font-size: 18px; color:#00b8d4;\"></i>\n",
        "    <b style=\"color: #00b8d4;\">🖉 Note</b>\n",
        "</p>\n",
        "\n",
        "To illustrate the process, the hyperparameter search has been kept small. However, to achieve optimal results, it may be necessary to perform a more extensive search for each model.\n",
        "\n",
        "</div>"
      ]
    },
    {
      "cell_type": "markdown",
      "metadata": {
        "id": "ScAS32JUGGd3"
      },
      "source": [
        "## Session information"
      ]
    },
    {
      "cell_type": "code",
      "execution_count": null,
      "metadata": {
        "id": "GD4D9Kx9GGd3",
        "outputId": "da120c83-5c11-4c20-c68f-c7e3c50469f0"
      },
      "outputs": [
        {
          "name": "stdout",
          "output_type": "stream",
          "text": [
            "-----\n",
            "catboost            1.1.1\n",
            "lightgbm            3.3.5\n",
            "matplotlib          3.6.3\n",
            "numpy               1.23.5\n",
            "pandas              1.5.3\n",
            "plotly              5.13.1\n",
            "session_info        1.0.0\n",
            "skforecast          0.8.0\n",
            "sklearn             1.2.2\n",
            "statsmodels         0.13.5\n",
            "xgboost             1.7.4\n",
            "-----\n",
            "IPython             8.10.0\n",
            "jupyter_client      7.3.4\n",
            "jupyter_core        5.2.0\n",
            "-----\n",
            "Python 3.10.9 (main, Jan 11 2023, 15:21:40) [GCC 11.2.0]\n",
            "Linux-5.15.0-1035-aws-x86_64-with-glibc2.31\n",
            "-----\n",
            "Session information updated at 2023-05-17 11:11\n"
          ]
        }
      ],
      "source": [
        "import session_info\n",
        "session_info.show(html=False)"
      ]
    },
    {
      "cell_type": "markdown",
      "metadata": {
        "id": "TvVQABaxGGd4"
      },
      "source": [
        "**How to cite this document?**\n",
        "\n",
        "<p style=\"text-align:left\"><font size=\"3\" color=\"#555\">\n",
        "Forecasting time series with gradient boosting: Skforecast, XGBoost, LightGBM y CatBoost by Joaquín Amat Rodrigo and Javier Escobar Ortiz, available under a Attribution 4.0 International (CC BY 4.0) at https://www.cienciadedatos.net/documentos/py39-forecasting-time-series-with-skforecast-xgboost-lightgbm-catboost.html\n",
        "    \n",
        "</font></p>"
      ]
    },
    {
      "cell_type": "markdown",
      "metadata": {
        "id": "TNJoMe-FGGd4"
      },
      "source": [
        "<a rel=\"license\" href=\"http://creativecommons.org/licenses/by/4.0/\"><img alt=\"Creative Commons Licence\" style=\"border-width:0\" src=\"https://i.creativecommons.org/l/by/4.0/88x31.png?raw=true\" /></a><br />This work by  Joaquín Amat Rodrigo and Javier Escobar Ortiz is licensed under a <a rel=\"license\" href=\"http://creativecommons.org/licenses/by/4.0/\">Creative Commons Attribution 4.0 International License</a>."
      ]
    }
  ],
  "metadata": {
    "accelerator": "GPU",
    "colab": {
      "gpuType": "T4",
      "provenance": []
    },
    "kernelspec": {
      "display_name": "Python 3",
      "name": "python3"
    },
    "language_info": {
      "codemirror_mode": {
        "name": "ipython",
        "version": 3
      },
      "file_extension": ".py",
      "mimetype": "text/x-python",
      "name": "python",
      "nbconvert_exporter": "python",
      "pygments_lexer": "ipython3",
      "version": "3.10.4"
    },
    "toc": {
      "base_numbering": 1,
      "nav_menu": {},
      "number_sections": false,
      "sideBar": true,
      "skip_h1_title": true,
      "title_cell": "Tabla de contenidos",
      "title_sidebar": "Tabla de contenidos",
      "toc_cell": false,
      "toc_position": {
        "height": "calc(100% - 180px)",
        "left": "10px",
        "top": "150px",
        "width": "213px"
      },
      "toc_section_display": true,
      "toc_window_display": true
    },
    "varInspector": {
      "cols": {
        "lenName": 16,
        "lenType": 16,
        "lenVar": 40
      },
      "kernels_config": {
        "python": {
          "delete_cmd_postfix": "",
          "delete_cmd_prefix": "del ",
          "library": "var_list.py",
          "varRefreshCmd": "print(var_dic_list())"
        },
        "r": {
          "delete_cmd_postfix": ") ",
          "delete_cmd_prefix": "rm(",
          "library": "var_list.r",
          "varRefreshCmd": "cat(var_dic_list()) "
        }
      },
      "position": {
        "height": "144.391px",
        "left": "1478px",
        "right": "20px",
        "top": "126px",
        "width": "350px"
      },
      "types_to_exclude": [
        "module",
        "function",
        "builtin_function_or_method",
        "instance",
        "_Feature"
      ],
      "window_display": false
    }
  },
  "nbformat": 4,
  "nbformat_minor": 0
}
